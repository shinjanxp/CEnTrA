{
 "cells": [
  {
   "cell_type": "code",
   "execution_count": null,
   "metadata": {},
   "outputs": [],
   "source": [
    "import matplotlib.pyplot as plt\n",
    "import csv\n",
    "import numpy"
   ]
  },
  {
   "cell_type": "code",
   "execution_count": null,
   "metadata": {},
   "outputs": [],
   "source": [
    "x=[]\n",
    "y=[]\n",
    "stats = numpy.loadtxt(open(\"stats-random-sharding.csv\", \"r\"), delimiter=\",\")\n",
    "print [1,2,3]\n",
    "for i in range(0,4):\n",
    "    x=list(stats[7*i:7*i+7, 2])\n",
    "    y=list(stats[7*i:7*i+7, 3])\n",
    "    print x,y\n",
    "    plt.plot(x,y, marker='o')\n",
    "\n",
    "plt.title('Random sharding')\n",
    "plt.legend(['1,32', '2,16', '4,8', '8,4'], loc='upper left')\n",
    "plt.xlabel('# of Clients')\n",
    "plt.ylabel('TPS')\n",
    "\n",
    "plt.show()"
   ]
  },
  {
   "cell_type": "code",
   "execution_count": null,
   "metadata": {},
   "outputs": [],
   "source": [
    "x=[]\n",
    "y=[]\n",
    "stats = numpy.loadtxt(open(\"stats-local-sharding.csv\", \"r\"), delimiter=\",\")\n",
    "print [1,2,3]\n",
    "for i in range(0,4):\n",
    "    x=list(stats[7*i:7*i+7, 2])\n",
    "    y=list(stats[7*i:7*i+7, 3])\n",
    "    print x,y\n",
    "    plt.plot(x,y, marker='o')\n",
    "\n",
    "plt.title('Random sharding')\n",
    "plt.legend(['1,32', '2,16', '4,8', '8,4'], loc='upper left')\n",
    "plt.xlabel('# of Clients')\n",
    "plt.ylabel('TPS')\n",
    "\n",
    "plt.show()"
   ]
  },
  {
   "cell_type": "code",
   "execution_count": null,
   "metadata": {},
   "outputs": [],
   "source": [
    "x=[50,100,150,200,250,300]\n",
    "y=[]\n",
    "stats = numpy.loadtxt(open(\"localvrandom.csv\", \"r\"), delimiter=\",\")\n",
    "print stats\n",
    "x=list(stats[0:6])\n",
    "y1=list(stats[6:12])\n",
    "y2=list(stats[12:18])\n",
    "y3=list(stats[18:24])\n",
    "y4=list(stats[24:30])\n",
    "plt.plot(x,y1, marker='o')\n",
    "plt.plot(x,y2, marker='o')\n",
    "plt.plot(x,y3, marker='o')\n",
    "plt.plot(x,y4, marker='o')\n",
    "\n",
    "# plt.title('Random vs local sharding')\n",
    "plt.legend(['Random (sequential)', 'Local (sequential)', 'Random (parallel)', 'Local (parallel)'], loc='upper left')\n",
    "plt.xlabel('No. of inputs')\n",
    "plt.ylabel('Execution time (sec)')\n",
    "\n",
    "plt.show()"
   ]
  },
  {
   "cell_type": "code",
   "execution_count": null,
   "metadata": {},
   "outputs": [],
   "source": [
    "# Varying Shard size\n",
    "x=[50,100,150,200,250,300]\n",
    "y=[]\n",
    "stats = numpy.loadtxt(open(\"shard-size.csv\", \"r\"), delimiter=\",\")\n",
    "print stats\n",
    "for i in range(0,4):\n",
    "#     x=list(stats[6*i:6*i+6, 2])\n",
    "    y=list(stats[6*i:6*i+6])\n",
    "#     print x,y\n",
    "    plt.plot(x,y, marker='o')\n",
    "\n",
    "# plt.title('Random sharding')\n",
    "plt.legend(['1S, 32R', '2S, 16R', '4S, 8R', '8S, 4R'], loc='upper left')\n",
    "plt.xlabel('No. of Clients')\n",
    "plt.ylabel('Throughput (TPS)')\n",
    "\n",
    "plt.show()"
   ]
  },
  {
   "cell_type": "code",
   "execution_count": null,
   "metadata": {},
   "outputs": [],
   "source": [
    "# Varying Shard Number\n",
    "x=[1,2,3,4,5,6,7,8]\n",
    "y=[]\n",
    "stats = numpy.loadtxt(open(\"shard-number-constant-clients.txt\", \"r\"), delimiter=\",\")\n",
    "print stats\n",
    "\n",
    "y=list(stats[0:8, 3])\n",
    "plt.plot(x,y, marker='o')\n",
    "\n",
    "# plt.title('Random sharding')\n",
    "# plt.legend(['1 shard', '2 shards', '4 shards', '8 shards'], loc='upper left')\n",
    "plt.xlabel('No. of Shards')\n",
    "plt.ylabel('Throughput (TPS)')\n",
    "\n",
    "plt.show()"
   ]
  },
  {
   "cell_type": "code",
   "execution_count": null,
   "metadata": {},
   "outputs": [],
   "source": [
    "# Varying Shard Number\n",
    "x=[1,2,3,4,5,6,7,8]\n",
    "y=[]\n",
    "stats = numpy.loadtxt(open(\"shard-number-constant-clients.txt\", \"r\"), delimiter=\",\")\n",
    "print stats\n",
    "\n",
    "y=list(stats[8:16, 3])\n",
    "plt.plot(x,y, marker='o')\n",
    "\n",
    "# plt.title('Random sharding')\n",
    "# plt.legend(['1 shard', '2 shards', '4 shards', '8 shards'], loc='upper left')\n",
    "plt.xlabel('No. of Shards')\n",
    "plt.ylabel('Throughput (TPS)')\n",
    "\n",
    "plt.show()"
   ]
  }
 ],
 "metadata": {
  "kernelspec": {
   "display_name": ".surge",
   "language": "python",
   "name": ".surge"
  },
  "language_info": {
   "codemirror_mode": {
    "name": "ipython",
    "version": 2
   },
   "file_extension": ".py",
   "mimetype": "text/x-python",
   "name": "python",
   "nbconvert_exporter": "python",
   "pygments_lexer": "ipython2",
   "version": "2.7.12"
  }
 },
 "nbformat": 4,
 "nbformat_minor": 2
}
