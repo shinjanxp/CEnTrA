{
 "cells": [
  {
   "cell_type": "code",
   "execution_count": null,
   "metadata": {},
   "outputs": [],
   "source": [
    "from json import dumps, loads\n",
    "import time, os\n",
    "import Queue\n",
    "import threading \n",
    "import ast\n",
    "import unittest\n",
    "import requests\n",
    "import random\n",
    "import logging\n",
    "# chainsapce\n",
    "from chainspacecontract import transaction_to_solution\n",
    "# from chainspacecontract.examples.surge import contract as surge_contract\n",
    "from chainspacecontract.examples import surge\n",
    "# crypto\n",
    "from chainspacecontract.examples.utils import setup, key_gen, pack\n",
    "from chainspaceapi import ChainspaceClient\n",
    "\n",
    "# Setup logging\n",
    "logging.basicConfig(level=logging.INFO, filename=\"execution.log\", filemode=\"a+\",\n",
    "                        format=\"%(asctime)-15s %(levelname)-8s %(message)s\")\n",
    "logging.info(\"Starting test_surge_bids\")\n",
    "\n",
    "# Setup variables\n",
    "r = requests.get('http://10.129.6.52:4999/setup.in')\n",
    "setup_str = r.text\n",
    "setup_str = setup_str.split('\\n')\n",
    "NUM_SHARDS = int(setup_str[0])\n",
    "NUM_REPLICAS = int(setup_str[1])\n",
    "NUM_CLIENTS = int(setup_str[2])\n",
    "logging.info(\"NUM_SHARDS: %s, NUM_REPLICAS: %s, NUM_CLIENTS: %s \"%(NUM_SHARDS, NUM_REPLICAS, NUM_CLIENTS))\n",
    "CS_HOST='10.129.6.52'\n",
    "G = setup()[0]\n"
   ]
  },
  {
   "cell_type": "code",
   "execution_count": null,
   "metadata": {
    "scrolled": false
   },
   "outputs": [],
   "source": [
    "global_client = ChainspaceClient(host=CS_HOST,port=5000)\n",
    "init_transaction = surge.init()\n",
    "init_tokens = init_transaction['transaction']['outputs']\n",
    "global_client.process_transaction(init_transaction)\n",
    "client_divs = surge.eq_div(NUM_CLIENTS, NUM_SHARDS)\n",
    "print client_divs"
   ]
  },
  {
   "cell_type": "code",
   "execution_count": null,
   "metadata": {},
   "outputs": [],
   "source": [
    "# Create prosumer clients for locations \n",
    "clients = []\n",
    "base_port=5000\n",
    "\n",
    "\n",
    "for s in range(0,NUM_SHARDS):\n",
    "    clients.append([])\n",
    "    for c in range(0,client_divs[s]):\n",
    "        \n",
    "#         clients[s].append(surge.SurgeClient(host=CS_HOST, port=base_port+s, init_token=init_tokens[idx]))\n",
    "        clients[s].append(surge.SurgeClient(host=CS_HOST, port=base_port+s))\n",
    "\n",
    "print clients\n",
    "\n",
    "threads = []\n",
    "for s in range(0,NUM_SHARDS):\n",
    "    threads.append([])\n",
    "    for c in range(0,client_divs[s]):\n",
    "        client = clients[s][c]\n",
    "        idx = sum(client_divs[:s]) + c\n",
    "        threads[s].append(threading.Thread(target=client.create_surge_client, args=(init_tokens[idx],)) )\n",
    "\n",
    "for s in range(0,NUM_SHARDS):\n",
    "    for c in range(0,client_divs[s]):\n",
    "        threads[s][c].start()\n",
    "\n",
    "for s in range(0,NUM_SHARDS):\n",
    "    for c in range(0,client_divs[s]):\n",
    "        threads[s][c].join()\n",
    "\n",
    "# c00 = surge.SurgeClient(5000, init_token[0]) # location=0\n",
    "# Create sreps for locations 0 and 1 which will be clients in location 2\n",
    "# rep0 = surge.SREPClient(5002, init_token[4]) # location=2\n",
    "\n",
    "# Elect rep1 as SREP for location 0\n",
    "# votes = (c00.cast_srep_vote(rep0.pub), c01.cast_srep_vote(rep0.pub))\n",
    "# rep0.create_srep_client(5000, votes) \n",
    "\n",
    "# Elect rep2 as SREP for location 1\n",
    "# votes = (c10.cast_srep_vote(rep1.pub), c11.cast_srep_vote(rep1.pub))\n",
    "# rep1.create_srep_client(5001, votes) \n"
   ]
  },
  {
   "cell_type": "code",
   "execution_count": null,
   "metadata": {},
   "outputs": [],
   "source": [
    "# Create threads for bidding\n",
    "threads = []\n",
    "for s in range(0,NUM_SHARDS):\n",
    "    threads.append([])\n",
    "    for c in range(0,client_divs[s]):\n",
    "        client = clients[s][c]\n",
    "        bid_value = random.randint(0,100)\n",
    "        threads[s].append(threading.Thread(target=client.submit_bid, args=(random.choice(['EBBuy', 'EBSell']),bid_value)) )\n",
    "\n",
    "# trep0 = threading.Thread(target=rep0.accept_bids) \n"
   ]
  },
  {
   "cell_type": "code",
   "execution_count": null,
   "metadata": {
    "scrolled": true
   },
   "outputs": [],
   "source": [
    "# Run bidding threads\n",
    "start = time.time()\n",
    "for s in range(0,NUM_SHARDS):\n",
    "    for c in range(0,client_divs[s]):\n",
    "        threads[s][c].start()\n",
    "\n",
    "for s in range(0,NUM_SHARDS):\n",
    "    for c in range(0,client_divs[s]):\n",
    "        threads[s][c].join()\n",
    "\n",
    "end = time.time()\n",
    "duration = end-start\n",
    "logging.info(\"Execution took \"+ str(duration))\n",
    "logging.info(\"TPS: %s\"%(NUM_CLIENTS/duration))\n"
   ]
  },
  {
   "cell_type": "code",
   "execution_count": null,
   "metadata": {},
   "outputs": [],
   "source": [
    "# '{}|{}'.format(50, loads(r1.ebtoken)['pub'])\n",
    "# global_client.fix_json(\"{'type':'EBBuy','location':0\")\n",
    "# global_client = ChainspaceClient(port=5001)\n",
    "# global_client.get_objects({'location':0,'type':'BidAccept'})\n",
    "# print buy_bids\n",
    "\n",
    "# print loads(objs[0])['type']\n",
    "# bid_proofs = rep1.client.get_objects({ 'type':'EBBuy'})\n",
    "# print init_token1\n"
   ]
  }
 ],
 "metadata": {
  "kernelspec": {
   "display_name": ".surge",
   "language": "python",
   "name": ".surge"
  },
  "language_info": {
   "codemirror_mode": {
    "name": "ipython",
    "version": 2
   },
   "file_extension": ".py",
   "mimetype": "text/x-python",
   "name": "python",
   "nbconvert_exporter": "python",
   "pygments_lexer": "ipython2",
   "version": "2.7.12"
  }
 },
 "nbformat": 4,
 "nbformat_minor": 2
}
