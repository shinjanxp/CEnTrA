{
 "cells": [
  {
   "cell_type": "code",
   "execution_count": 1,
   "metadata": {},
   "outputs": [],
   "source": [
    "from json import dumps, loads\n",
    "import time\n",
    "import unittest\n",
    "import requests\n",
    "# chainsapce\n",
    "from chainspacecontract import transaction_to_solution\n",
    "# from chainspacecontract.examples.surge import contract as surge_contract\n",
    "from chainspacecontract.examples import surge\n",
    "# crypto\n",
    "from chainspacecontract.examples.utils import setup, key_gen, pack\n",
    "from chainspaceapi import ChainspaceClient\n"
   ]
  },
  {
   "cell_type": "code",
   "execution_count": 2,
   "metadata": {},
   "outputs": [],
   "source": [
    "    \n",
    "G = setup()[0]\n",
    "(provider_priv1, provider_pub1) = key_gen(setup())\n",
    "(provider_priv2, provider_pub2) = key_gen(setup())\n",
    "(provider_priv3, provider_pub3) = key_gen(setup())\n",
    "client1 = ChainspaceClient(port=5000)\n",
    "client2 = ChainspaceClient(port=5000)\n",
    "client3 = ChainspaceClient(port=5000)\n"
   ]
  },
  {
   "cell_type": "code",
   "execution_count": 3,
   "metadata": {
    "scrolled": true
   },
   "outputs": [
    {
     "name": "stdout",
     "output_type": "stream",
     "text": [
      "inputs: ()\n",
      "reference_inputs: ()\n",
      "POST http://127.0.0.1:5000/api/1.0/transaction/process HTTP/1.1\n",
      "{\"transaction\": {\"inputIDs\": [], \"methodID\": \"init\", \"parameters\": [], \"outputs\": [\"{\\\"type\\\": \\\"InitToken\\\", \\\"location\\\": 0}\", \"{\\\"type\\\": \\\"InitToken\\\", \\\"location\\\": 1}\", \"{\\\"type\\\": \\\"InitToken\\\", \\\"location\\\": 2}\"], \"returns\": [], \"dependencies\": [], \"referenceInputIDs\": [], \"contractID\": \"surge\"}, \"store\": {}}\n",
      "HTTP/1.1 200 OK\n",
      "{u'outcome': u'accepted_t_commit', u'success': u'True'}\n"
     ]
    },
    {
     "data": {
      "text/plain": [
       "<Response [200]>"
      ]
     },
     "execution_count": 3,
     "metadata": {},
     "output_type": "execute_result"
    }
   ],
   "source": [
    "init_transaction = surge.init()\n",
    "init_s0_token1 = init_transaction['transaction']['outputs'][0]\n",
    "init_s0_token2 = init_transaction['transaction']['outputs'][1]\n",
    "client1.process_transaction(init_transaction)"
   ]
  },
  {
   "cell_type": "code",
   "execution_count": 4,
   "metadata": {},
   "outputs": [],
   "source": [
    "# init_transaction = surge.init()\n",
    "# init_s1_token1 = init_transaction['transaction']['outputs'][0]\n",
    "# client2.process_transaction(init_transaction)"
   ]
  },
  {
   "cell_type": "code",
   "execution_count": 5,
   "metadata": {},
   "outputs": [
    {
     "name": "stdout",
     "output_type": "stream",
     "text": [
      "inputs: ('{\"type\": \"InitToken\", \"location\": 0}',)\n",
      "reference_inputs: ()\n",
      "POST http://127.0.0.1:5000/api/1.0/transaction/process HTTP/1.1\n",
      "{\"transaction\": {\"inputIDs\": [\"0_d57daf7615a0fddd91772a0f4bc554a1dafeec55fcbe634ca3aaac4ae390189c\"], \"methodID\": \"create_surge_client\", \"parameters\": [\"c7220292cd02c9bd03ae77ecc4c48768e56ab6e05d367d8068defdadfbe358aa49894b5cee\", \"92c71d002b62ecdcc99f81d8b309b6e5549c30e18870f086741d6cdab1d439e652c71d002bcebef91858e24bc00c604b4186a9fe14b11d9e5b94a1da52ebc6d472\"], \"outputs\": [\"{\\\"type\\\": \\\"SurgeClient\\\", \\\"location\\\": 0, \\\"pub\\\": \\\"c7220292cd02c9bd03ae77ecc4c48768e56ab6e05d367d8068defdadfbe358aa49894b5cee\\\"}\", \"{\\\"type\\\": \\\"VoteSlipToken\\\", \\\"location\\\": 0, \\\"pub\\\": \\\"c7220292cd02c9bd03ae77ecc4c48768e56ab6e05d367d8068defdadfbe358aa49894b5cee\\\"}\"], \"returns\": [], \"dependencies\": [], \"referenceInputIDs\": [], \"contractID\": \"surge\"}, \"store\": {\"0_d57daf7615a0fddd91772a0f4bc554a1dafeec55fcbe634ca3aaac4ae390189c\": \"{\\\"type\\\": \\\"InitToken\\\", \\\"location\\\": 0}\"}}\n",
      "HTTP/1.1 200 OK\n",
      "{u'outcome': u'accepted_t_commit', u'success': u'True'}\n"
     ]
    },
    {
     "data": {
      "text/plain": [
       "<Response [200]>"
      ]
     },
     "execution_count": 5,
     "metadata": {},
     "output_type": "execute_result"
    }
   ],
   "source": [
    "create_surge_client_txn = surge.create_surge_client(\n",
    "    (init_s0_token1,),\n",
    "    None,\n",
    "    (pack(provider_pub1),),\n",
    "    pack(provider_priv1),\n",
    ")\n",
    "vote_slip1 = create_surge_client_txn['transaction']['outputs'][1]\n",
    "surge_client1 = create_surge_client_txn['transaction']['outputs'][0]\n",
    "client1.process_transaction(create_surge_client_txn)"
   ]
  },
  {
   "cell_type": "code",
   "execution_count": 6,
   "metadata": {},
   "outputs": [
    {
     "name": "stdout",
     "output_type": "stream",
     "text": [
      "inputs: ('{\"type\": \"InitToken\", \"location\": 1}',)\n",
      "reference_inputs: ()\n",
      "POST http://127.0.0.1:5000/api/1.0/transaction/process HTTP/1.1\n",
      "{\"transaction\": {\"inputIDs\": [\"1_d0a3ee72fbbe2ce4dd31e4f9fecc081ec3fa9af0abda50dd9463d4ed0539de1e\"], \"methodID\": \"create_surge_client\", \"parameters\": [\"c7220292cd02c9bd033f70b36599272a80b552e049fc1578074502bb7cae17b6013b11eeb7\", \"92c71d002b0154173865f17016ec09bdb9eb37ddf3ace3f4520bdedb652700e2f5c71d002b41452d6f6bd7b19e84f4440b9ee7e6edabd8e07084c83e38a6e03f7c\"], \"outputs\": [\"{\\\"type\\\": \\\"SurgeClient\\\", \\\"location\\\": 1, \\\"pub\\\": \\\"c7220292cd02c9bd033f70b36599272a80b552e049fc1578074502bb7cae17b6013b11eeb7\\\"}\", \"{\\\"type\\\": \\\"VoteSlipToken\\\", \\\"location\\\": 1, \\\"pub\\\": \\\"c7220292cd02c9bd033f70b36599272a80b552e049fc1578074502bb7cae17b6013b11eeb7\\\"}\"], \"returns\": [], \"dependencies\": [], \"referenceInputIDs\": [], \"contractID\": \"surge\"}, \"store\": {\"1_d0a3ee72fbbe2ce4dd31e4f9fecc081ec3fa9af0abda50dd9463d4ed0539de1e\": \"{\\\"type\\\": \\\"InitToken\\\", \\\"location\\\": 1}\"}}\n",
      "HTTP/1.1 200 OK\n",
      "{u'outcome': u'accepted_t_commit', u'success': u'True'}\n"
     ]
    },
    {
     "data": {
      "text/plain": [
       "<Response [200]>"
      ]
     },
     "execution_count": 6,
     "metadata": {},
     "output_type": "execute_result"
    }
   ],
   "source": [
    "create_surge_client_txn = surge.create_surge_client(\n",
    "    (init_s0_token2,),\n",
    "    None,\n",
    "    (pack(provider_pub2),),\n",
    "    pack(provider_priv2),\n",
    ")\n",
    "vote_slip2 = create_surge_client_txn['transaction']['outputs'][1]\n",
    "surge_client2 = create_surge_client_txn['transaction']['outputs'][0]\n",
    "client1.process_transaction(create_surge_client_txn)"
   ]
  },
  {
   "cell_type": "code",
   "execution_count": 7,
   "metadata": {},
   "outputs": [
    {
     "name": "stdout",
     "output_type": "stream",
     "text": [
      "inputs: ('{\"type\": \"VoteSlipToken\", \"location\": 0, \"pub\": \"c7220292cd02c9bd03ae77ecc4c48768e56ab6e05d367d8068defdadfbe358aa49894b5cee\"}',)\n",
      "reference_inputs: ()\n",
      "POST http://127.0.0.1:5000/api/1.0/transaction/process HTTP/1.1\n",
      "{\"transaction\": {\"inputIDs\": [\"0_4d1f2f4053dfa579b96383467d23e21512de585ac93737d29bd6e801e1e9f15a\"], \"methodID\": \"cast_csc_vote\", \"parameters\": [\"92c71d002b9e3e1449c711dd7052dbb3abbd515ad84918a7d102dbc34089cf2fc4c71d002b4d8049522dd3792c41c75e35884d2804edb401c7050f445f5fca4b3f\"], \"outputs\": [\"{\\\"granted_to\\\": \\\"c7220292cd02c9bd02bbb4ce86b92f6acff45a371380730514a91bf36277b3900a18e3045e\\\", \\\"type\\\": \\\"CSCVoteToken\\\", \\\"granted_by\\\": \\\"c7220292cd02c9bd03ae77ecc4c48768e56ab6e05d367d8068defdadfbe358aa49894b5cee\\\", \\\"location\\\": 0}\", \"{\\\"type\\\": \\\"VoteSlipToken\\\", \\\"location\\\": 0, \\\"pub\\\": \\\"c7220292cd02c9bd03ae77ecc4c48768e56ab6e05d367d8068defdadfbe358aa49894b5cee\\\"}\"], \"returns\": [], \"dependencies\": [], \"referenceInputIDs\": [], \"contractID\": \"surge\"}, \"store\": {\"0_4d1f2f4053dfa579b96383467d23e21512de585ac93737d29bd6e801e1e9f15a\": \"{\\\"type\\\": \\\"VoteSlipToken\\\", \\\"location\\\": 0, \\\"pub\\\": \\\"c7220292cd02c9bd03ae77ecc4c48768e56ab6e05d367d8068defdadfbe358aa49894b5cee\\\"}\"}}\n",
      "HTTP/1.1 200 OK\n",
      "{u'outcome': u'accepted_t_commit', u'success': u'True'}\n"
     ]
    },
    {
     "data": {
      "text/plain": [
       "<Response [200]>"
      ]
     },
     "execution_count": 7,
     "metadata": {},
     "output_type": "execute_result"
    }
   ],
   "source": [
    "cast_csc_vote_txn = surge.cast_csc_vote(\n",
    "    (vote_slip1,),\n",
    "    None,\n",
    "    None,\n",
    "    pack(provider_priv1),\n",
    "    pack(provider_pub3),\n",
    ")\n",
    "vote_token1 = cast_csc_vote_txn['transaction']['outputs'][0]\n",
    "vote_slip1 = cast_csc_vote_txn['transaction']['outputs'][1]\n",
    "client1.process_transaction(cast_csc_vote_txn)\n"
   ]
  },
  {
   "cell_type": "code",
   "execution_count": 8,
   "metadata": {},
   "outputs": [
    {
     "name": "stdout",
     "output_type": "stream",
     "text": [
      "inputs: ('{\"type\": \"VoteSlipToken\", \"location\": 1, \"pub\": \"c7220292cd02c9bd033f70b36599272a80b552e049fc1578074502bb7cae17b6013b11eeb7\"}',)\n",
      "reference_inputs: ()\n",
      "POST http://127.0.0.1:5000/api/1.0/transaction/process HTTP/1.1\n",
      "{\"transaction\": {\"inputIDs\": [\"1_92bdcb9ede0a04e6b2ce43d49e6e62e648f075a5afc86bf87f508a30877b71e3\"], \"methodID\": \"cast_csc_vote\", \"parameters\": [\"92c71d002bbdf45a0094311615facb8af0fe6125498cb99214608cce47482a341dc71d002bac9e449b8d8f9b6e9a8d5a18aabddced91489d0350b7ca9bb378c2ac\"], \"outputs\": [\"{\\\"granted_to\\\": \\\"c7220292cd02c9bd02bbb4ce86b92f6acff45a371380730514a91bf36277b3900a18e3045e\\\", \\\"type\\\": \\\"CSCVoteToken\\\", \\\"granted_by\\\": \\\"c7220292cd02c9bd033f70b36599272a80b552e049fc1578074502bb7cae17b6013b11eeb7\\\", \\\"location\\\": 1}\", \"{\\\"type\\\": \\\"VoteSlipToken\\\", \\\"location\\\": 1, \\\"pub\\\": \\\"c7220292cd02c9bd033f70b36599272a80b552e049fc1578074502bb7cae17b6013b11eeb7\\\"}\"], \"returns\": [], \"dependencies\": [], \"referenceInputIDs\": [], \"contractID\": \"surge\"}, \"store\": {\"1_92bdcb9ede0a04e6b2ce43d49e6e62e648f075a5afc86bf87f508a30877b71e3\": \"{\\\"type\\\": \\\"VoteSlipToken\\\", \\\"location\\\": 1, \\\"pub\\\": \\\"c7220292cd02c9bd033f70b36599272a80b552e049fc1578074502bb7cae17b6013b11eeb7\\\"}\"}}\n",
      "HTTP/1.1 200 OK\n",
      "{u'outcome': u'accepted_t_commit', u'success': u'True'}\n"
     ]
    },
    {
     "data": {
      "text/plain": [
       "<Response [200]>"
      ]
     },
     "execution_count": 8,
     "metadata": {},
     "output_type": "execute_result"
    }
   ],
   "source": [
    "cast_csc_vote_txn = surge.cast_csc_vote(\n",
    "    (vote_slip2,),\n",
    "    None,\n",
    "    None,\n",
    "    pack(provider_priv2),\n",
    "    pack(provider_pub3),\n",
    ")\n",
    "vote_token2 = cast_csc_vote_txn['transaction']['outputs'][0]\n",
    "vote_slip2 = cast_csc_vote_txn['transaction']['outputs'][1]\n",
    "client1.process_transaction(cast_csc_vote_txn)\n"
   ]
  },
  {
   "cell_type": "code",
   "execution_count": 9,
   "metadata": {},
   "outputs": [
    {
     "name": "stdout",
     "output_type": "stream",
     "text": [
      "inputs: ('{\"granted_to\": \"c7220292cd02c9bd02bbb4ce86b92f6acff45a371380730514a91bf36277b3900a18e3045e\", \"type\": \"CSCVoteToken\", \"granted_by\": \"c7220292cd02c9bd03ae77ecc4c48768e56ab6e05d367d8068defdadfbe358aa49894b5cee\", \"location\": 0}', '{\"granted_to\": \"c7220292cd02c9bd02bbb4ce86b92f6acff45a371380730514a91bf36277b3900a18e3045e\", \"type\": \"CSCVoteToken\", \"granted_by\": \"c7220292cd02c9bd033f70b36599272a80b552e049fc1578074502bb7cae17b6013b11eeb7\", \"location\": 1}')\n",
      "reference_inputs: ()\n",
      "POST http://127.0.0.1:5000/api/1.0/transaction/process HTTP/1.1\n",
      "{\"transaction\": {\"inputIDs\": [\"0_7de96f2c7460e9982c1ab87c59f7a4f11a2a370b3041fb16a959d4d158c7b5dc\", \"1_e2f1a5b167a01e3131469a57beb14dce8976318982a14e163c2b84ac0e7b19c3\"], \"methodID\": \"create_surge_client\", \"parameters\": [\"c7220292cd02c9bd02bbb4ce86b92f6acff45a371380730514a91bf36277b3900a18e3045e\", \"92c71d002bdf632d4ef4a4d3d8bebca0b326f88dc8acc9800ed7271e9d83fd5e3cc71d002bfa63ef8d0cb5636b201d6b96354952ac6ffed0bf4d5263de70ba3d20\"], \"outputs\": [\"{\\\"type\\\": \\\"SurgeClient\\\", \\\"location\\\": 0, \\\"pub\\\": \\\"c7220292cd02c9bd02bbb4ce86b92f6acff45a371380730514a91bf36277b3900a18e3045e\\\"}\", \"{\\\"type\\\": \\\"VoteSlipToken\\\", \\\"location\\\": 0, \\\"pub\\\": \\\"c7220292cd02c9bd02bbb4ce86b92f6acff45a371380730514a91bf36277b3900a18e3045e\\\"}\"], \"returns\": [], \"dependencies\": [], \"referenceInputIDs\": [], \"contractID\": \"surge\"}, \"store\": {\"0_7de96f2c7460e9982c1ab87c59f7a4f11a2a370b3041fb16a959d4d158c7b5dc\": \"{\\\"granted_to\\\": \\\"c7220292cd02c9bd02bbb4ce86b92f6acff45a371380730514a91bf36277b3900a18e3045e\\\", \\\"type\\\": \\\"CSCVoteToken\\\", \\\"granted_by\\\": \\\"c7220292cd02c9bd03ae77ecc4c48768e56ab6e05d367d8068defdadfbe358aa49894b5cee\\\", \\\"location\\\": 0}\", \"1_e2f1a5b167a01e3131469a57beb14dce8976318982a14e163c2b84ac0e7b19c3\": \"{\\\"granted_to\\\": \\\"c7220292cd02c9bd02bbb4ce86b92f6acff45a371380730514a91bf36277b3900a18e3045e\\\", \\\"type\\\": \\\"CSCVoteToken\\\", \\\"granted_by\\\": \\\"c7220292cd02c9bd033f70b36599272a80b552e049fc1578074502bb7cae17b6013b11eeb7\\\", \\\"location\\\": 1}\"}}\n",
      "HTTP/1.1 200 OK\n",
      "{u'outcome': u'accepted_t_commit', u'success': u'True'}\n"
     ]
    },
    {
     "data": {
      "text/plain": [
       "<Response [200]>"
      ]
     },
     "execution_count": 9,
     "metadata": {},
     "output_type": "execute_result"
    }
   ],
   "source": [
    "create_surge_client_txn = surge.create_surge_client(\n",
    "    (vote_token1, vote_token2,),\n",
    "    None,\n",
    "    (pack(provider_pub3),),\n",
    "    pack(provider_priv3),\n",
    ")\n",
    "vote_slip3 = create_surge_client_txn['transaction']['outputs'][1]\n",
    "surge_client3 = create_surge_client_txn['transaction']['outputs'][0]\n",
    "client1.process_transaction(create_surge_client_txn)\n"
   ]
  },
  {
   "cell_type": "code",
   "execution_count": null,
   "metadata": {},
   "outputs": [],
   "source": []
  }
 ],
 "metadata": {
  "kernelspec": {
   "display_name": ".surge",
   "language": "python",
   "name": ".surge"
  },
  "language_info": {
   "codemirror_mode": {
    "name": "ipython",
    "version": 2
   },
   "file_extension": ".py",
   "mimetype": "text/x-python",
   "name": "python",
   "nbconvert_exporter": "python",
   "pygments_lexer": "ipython2",
   "version": "2.7.12"
  }
 },
 "nbformat": 4,
 "nbformat_minor": 2
}
