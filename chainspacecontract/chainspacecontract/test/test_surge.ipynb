{
 "cells": [
  {
   "cell_type": "code",
   "execution_count": 1,
   "metadata": {},
   "outputs": [],
   "source": [
    "from json import dumps, loads\n",
    "import time\n",
    "import unittest\n",
    "import requests\n",
    "# chainsapce\n",
    "from chainspacecontract import transaction_to_solution\n",
    "# from chainspacecontract.examples.surge import contract as surge_contract\n",
    "from chainspacecontract.examples import surge\n",
    "# crypto\n",
    "from chainspacecontract.examples.utils import setup, key_gen, pack\n",
    "from chainspaceapi import ChainspaceClient\n"
   ]
  },
  {
   "cell_type": "code",
   "execution_count": 2,
   "metadata": {},
   "outputs": [],
   "source": [
    "    \n",
    "G = setup()[0]\n",
    "(provider_priv1, provider_pub1) = key_gen(setup())\n",
    "(provider_priv2, provider_pub2) = key_gen(setup())\n",
    "(provider_priv3, provider_pub3) = key_gen(setup())\n",
    "client1 = ChainspaceClient(port=5000)\n",
    "client2 = ChainspaceClient(port=5000)\n",
    "client3 = ChainspaceClient(port=5000)\n"
   ]
  },
  {
   "cell_type": "code",
   "execution_count": 3,
   "metadata": {
    "scrolled": true
   },
   "outputs": [
    {
     "name": "stdout",
     "output_type": "stream",
     "text": [
      "inputs: ()\n",
      "reference_inputs: ()\n",
      "POST http://127.0.0.1:5000/api/1.0/transaction/process HTTP/1.1\n",
      "{\"transaction\": {\"inputIDs\": [], \"methodID\": \"init\", \"parameters\": [], \"outputs\": [\"{\\\"type\\\": \\\"InitToken\\\", \\\"location\\\": 0}\", \"{\\\"type\\\": \\\"InitToken\\\", \\\"location\\\": 1}\", \"{\\\"type\\\": \\\"InitToken\\\", \\\"location\\\": 2}\"], \"returns\": [], \"dependencies\": [], \"referenceInputIDs\": [], \"contractID\": \"surge\"}, \"store\": {}}\n",
      "HTTP/1.1 200 OK\n",
      "{u'outcome': u'accepted_t_commit', u'success': u'True'}\n"
     ]
    },
    {
     "data": {
      "text/plain": [
       "<Response [200]>"
      ]
     },
     "execution_count": 3,
     "metadata": {},
     "output_type": "execute_result"
    }
   ],
   "source": [
    "init_transaction = surge.init()\n",
    "init_s0_token1 = init_transaction['transaction']['outputs'][0]\n",
    "init_s0_token2 = init_transaction['transaction']['outputs'][1]\n",
    "client1.process_transaction(init_transaction)"
   ]
  },
  {
   "cell_type": "code",
   "execution_count": 4,
   "metadata": {},
   "outputs": [],
   "source": [
    "# init_transaction = surge.init()\n",
    "# init_s1_token1 = init_transaction['transaction']['outputs'][0]\n",
    "# client2.process_transaction(init_transaction)"
   ]
  },
  {
   "cell_type": "code",
   "execution_count": 5,
   "metadata": {},
   "outputs": [
    {
     "name": "stdout",
     "output_type": "stream",
     "text": [
      "inputs: ('{\"type\": \"InitToken\", \"location\": 0}',)\n",
      "reference_inputs: ()\n",
      "POST http://127.0.0.1:5000/api/1.0/transaction/process HTTP/1.1\n",
      "{\"transaction\": {\"inputIDs\": [\"0_d57daf7615a0fddd91772a0f4bc554a1dafeec55fcbe634ca3aaac4ae390189c\"], \"methodID\": \"create_surge_client\", \"parameters\": [\"c7220292cd02c9bd02b62675398d8a36a8e5516f70ced7bb92fb58b4834e584376dd566862\", \"92c71d002b5f5fe0ecf3d9bb62543f9fe51bd4a731a1e7caf321741ae1d41b0926c71d002bdf29dec20324b99992c1caa288b78f330222c36913449104dc59c426\"], \"outputs\": [\"{\\\"type\\\": \\\"SurgeClient\\\", \\\"location\\\": 0, \\\"pub\\\": \\\"c7220292cd02c9bd02b62675398d8a36a8e5516f70ced7bb92fb58b4834e584376dd566862\\\"}\", \"{\\\"type\\\": \\\"VoteSlipToken\\\", \\\"location\\\": 0, \\\"pub\\\": \\\"c7220292cd02c9bd02b62675398d8a36a8e5516f70ced7bb92fb58b4834e584376dd566862\\\"}\"], \"returns\": [], \"dependencies\": [], \"referenceInputIDs\": [], \"contractID\": \"surge\"}, \"store\": {\"0_d57daf7615a0fddd91772a0f4bc554a1dafeec55fcbe634ca3aaac4ae390189c\": \"{\\\"type\\\": \\\"InitToken\\\", \\\"location\\\": 0}\"}}\n",
      "HTTP/1.1 200 OK\n",
      "{u'outcome': u'accepted_t_commit', u'success': u'True'}\n"
     ]
    },
    {
     "data": {
      "text/plain": [
       "<Response [200]>"
      ]
     },
     "execution_count": 5,
     "metadata": {},
     "output_type": "execute_result"
    }
   ],
   "source": [
    "create_surge_client_txn = surge.create_surge_client(\n",
    "    (init_s0_token1,),\n",
    "    None,\n",
    "    (pack(provider_pub1),),\n",
    "    pack(provider_priv1),\n",
    ")\n",
    "vote_slip1 = create_surge_client_txn['transaction']['outputs'][1]\n",
    "surge_client1 = create_surge_client_txn['transaction']['outputs'][0]\n",
    "client1.process_transaction(create_surge_client_txn)"
   ]
  },
  {
   "cell_type": "code",
   "execution_count": 6,
   "metadata": {},
   "outputs": [
    {
     "name": "stdout",
     "output_type": "stream",
     "text": [
      "inputs: ('{\"type\": \"InitToken\", \"location\": 1}',)\n",
      "reference_inputs: ()\n",
      "POST http://127.0.0.1:5000/api/1.0/transaction/process HTTP/1.1\n",
      "{\"transaction\": {\"inputIDs\": [\"1_d0a3ee72fbbe2ce4dd31e4f9fecc081ec3fa9af0abda50dd9463d4ed0539de1e\"], \"methodID\": \"create_surge_client\", \"parameters\": [\"c7220292cd02c9bd02a47ccf12d78c6870ac7ac3f564466a1f014a273d5e90bb71c8e840d7\", \"92c71d002b322b935ed0ed512f808905642c8a7c056cfbefbbde65f2903cd7ddf5c71d002b8bfc3ffdd286532841345c616e081ca15e0cc73328a9e95977d44dd2\"], \"outputs\": [\"{\\\"type\\\": \\\"SurgeClient\\\", \\\"location\\\": 1, \\\"pub\\\": \\\"c7220292cd02c9bd02a47ccf12d78c6870ac7ac3f564466a1f014a273d5e90bb71c8e840d7\\\"}\", \"{\\\"type\\\": \\\"VoteSlipToken\\\", \\\"location\\\": 1, \\\"pub\\\": \\\"c7220292cd02c9bd02a47ccf12d78c6870ac7ac3f564466a1f014a273d5e90bb71c8e840d7\\\"}\"], \"returns\": [], \"dependencies\": [], \"referenceInputIDs\": [], \"contractID\": \"surge\"}, \"store\": {\"1_d0a3ee72fbbe2ce4dd31e4f9fecc081ec3fa9af0abda50dd9463d4ed0539de1e\": \"{\\\"type\\\": \\\"InitToken\\\", \\\"location\\\": 1}\"}}\n",
      "HTTP/1.1 200 OK\n",
      "{u'outcome': u'accepted_t_commit', u'success': u'True'}\n"
     ]
    },
    {
     "data": {
      "text/plain": [
       "<Response [200]>"
      ]
     },
     "execution_count": 6,
     "metadata": {},
     "output_type": "execute_result"
    }
   ],
   "source": [
    "create_surge_client_txn = surge.create_surge_client(\n",
    "    (init_s0_token2,),\n",
    "    None,\n",
    "    (pack(provider_pub2),),\n",
    "    pack(provider_priv2),\n",
    ")\n",
    "vote_slip2 = create_surge_client_txn['transaction']['outputs'][1]\n",
    "surge_client2 = create_surge_client_txn['transaction']['outputs'][0]\n",
    "client2.process_transaction(create_surge_client_txn)"
   ]
  },
  {
   "cell_type": "code",
   "execution_count": 7,
   "metadata": {},
   "outputs": [
    {
     "name": "stdout",
     "output_type": "stream",
     "text": [
      "inputs: ('{\"type\": \"VoteSlipToken\", \"location\": 0, \"pub\": \"c7220292cd02c9bd02b62675398d8a36a8e5516f70ced7bb92fb58b4834e584376dd566862\"}',)\n",
      "reference_inputs: ()\n",
      "POST http://127.0.0.1:5000/api/1.0/transaction/process HTTP/1.1\n",
      "{\"transaction\": {\"inputIDs\": [\"0_e2c515c24d5f9c4bd606bd23c0b4f76c8fa909607c8f408d68fa5b342df73ac3\"], \"methodID\": \"cast_csc_vote\", \"parameters\": [\"92c71d002b811395416c606f03f8eb25075aceb42622c714c2669d6b01f48a7d0ac71d002bb016a17dde7db28415e34e27031648dbdcab4c0a98eb0acfc4bd3b9e\"], \"outputs\": [\"{\\\"granted_to\\\": \\\"c7220292cd02c9bd0324b660beded7d49e803641d22d0aa56a0b747ed3465e4526b518426d\\\", \\\"type\\\": \\\"CSCVoteToken\\\", \\\"granted_by\\\": \\\"c7220292cd02c9bd02b62675398d8a36a8e5516f70ced7bb92fb58b4834e584376dd566862\\\", \\\"location\\\": 0}\", \"{\\\"type\\\": \\\"VoteSlipToken\\\", \\\"location\\\": 0, \\\"pub\\\": \\\"c7220292cd02c9bd02b62675398d8a36a8e5516f70ced7bb92fb58b4834e584376dd566862\\\"}\"], \"returns\": [], \"dependencies\": [], \"referenceInputIDs\": [], \"contractID\": \"surge\"}, \"store\": {\"0_e2c515c24d5f9c4bd606bd23c0b4f76c8fa909607c8f408d68fa5b342df73ac3\": \"{\\\"type\\\": \\\"VoteSlipToken\\\", \\\"location\\\": 0, \\\"pub\\\": \\\"c7220292cd02c9bd02b62675398d8a36a8e5516f70ced7bb92fb58b4834e584376dd566862\\\"}\"}}\n",
      "HTTP/1.1 200 OK\n",
      "{u'outcome': u'accepted_t_commit', u'success': u'True'}\n"
     ]
    },
    {
     "data": {
      "text/plain": [
       "<Response [200]>"
      ]
     },
     "execution_count": 7,
     "metadata": {},
     "output_type": "execute_result"
    }
   ],
   "source": [
    "cast_csc_vote_txn = surge.cast_csc_vote(\n",
    "    (vote_slip1,),\n",
    "    None,\n",
    "    None,\n",
    "    pack(provider_priv1),\n",
    "    pack(provider_pub3),\n",
    ")\n",
    "vote_token1 = cast_csc_vote_txn['transaction']['outputs'][0]\n",
    "vote_slip1 = cast_csc_vote_txn['transaction']['outputs'][1]\n",
    "client1.process_transaction(cast_csc_vote_txn)\n"
   ]
  },
  {
   "cell_type": "code",
   "execution_count": 8,
   "metadata": {},
   "outputs": [
    {
     "name": "stdout",
     "output_type": "stream",
     "text": [
      "inputs: ('{\"type\": \"VoteSlipToken\", \"location\": 1, \"pub\": \"c7220292cd02c9bd02a47ccf12d78c6870ac7ac3f564466a1f014a273d5e90bb71c8e840d7\"}',)\n",
      "reference_inputs: ()\n",
      "POST http://127.0.0.1:5000/api/1.0/transaction/process HTTP/1.1\n",
      "{\"transaction\": {\"inputIDs\": [\"1_f4d0c91ff0847fdafb9c532cd4de3c3dfa1d5d10c7e3412f5ec0d91c035515fd\"], \"methodID\": \"cast_csc_vote\", \"parameters\": [\"92c71d002b3d95b89345f2235375853d8fc9ca1e097c995a2c0f00d87792f9703bc71d002b977c1d1c435667339b84ef9f0d92a30355140df921411fb459f918da\"], \"outputs\": [\"{\\\"granted_to\\\": \\\"c7220292cd02c9bd0324b660beded7d49e803641d22d0aa56a0b747ed3465e4526b518426d\\\", \\\"type\\\": \\\"CSCVoteToken\\\", \\\"granted_by\\\": \\\"c7220292cd02c9bd02a47ccf12d78c6870ac7ac3f564466a1f014a273d5e90bb71c8e840d7\\\", \\\"location\\\": 1}\", \"{\\\"type\\\": \\\"VoteSlipToken\\\", \\\"location\\\": 1, \\\"pub\\\": \\\"c7220292cd02c9bd02a47ccf12d78c6870ac7ac3f564466a1f014a273d5e90bb71c8e840d7\\\"}\"], \"returns\": [], \"dependencies\": [], \"referenceInputIDs\": [], \"contractID\": \"surge\"}, \"store\": {\"1_f4d0c91ff0847fdafb9c532cd4de3c3dfa1d5d10c7e3412f5ec0d91c035515fd\": \"{\\\"type\\\": \\\"VoteSlipToken\\\", \\\"location\\\": 1, \\\"pub\\\": \\\"c7220292cd02c9bd02a47ccf12d78c6870ac7ac3f564466a1f014a273d5e90bb71c8e840d7\\\"}\"}}\n",
      "HTTP/1.1 200 OK\n",
      "{u'outcome': u'accepted_t_commit', u'success': u'True'}\n"
     ]
    },
    {
     "data": {
      "text/plain": [
       "<Response [200]>"
      ]
     },
     "execution_count": 8,
     "metadata": {},
     "output_type": "execute_result"
    }
   ],
   "source": [
    "cast_csc_vote_txn = surge.cast_csc_vote(\n",
    "    (vote_slip2,),\n",
    "    None,\n",
    "    None,\n",
    "    pack(provider_priv2),\n",
    "    pack(provider_pub3),\n",
    ")\n",
    "vote_token2 = cast_csc_vote_txn['transaction']['outputs'][0]\n",
    "vote_slip2 = cast_csc_vote_txn['transaction']['outputs'][1]\n",
    "client2.process_transaction(cast_csc_vote_txn)\n"
   ]
  },
  {
   "cell_type": "code",
   "execution_count": 9,
   "metadata": {},
   "outputs": [
    {
     "name": "stdout",
     "output_type": "stream",
     "text": [
      "inputs: ('{\"granted_to\": \"c7220292cd02c9bd0324b660beded7d49e803641d22d0aa56a0b747ed3465e4526b518426d\", \"type\": \"CSCVoteToken\", \"granted_by\": \"c7220292cd02c9bd02b62675398d8a36a8e5516f70ced7bb92fb58b4834e584376dd566862\", \"location\": 0}', '{\"granted_to\": \"c7220292cd02c9bd0324b660beded7d49e803641d22d0aa56a0b747ed3465e4526b518426d\", \"type\": \"CSCVoteToken\", \"granted_by\": \"c7220292cd02c9bd02a47ccf12d78c6870ac7ac3f564466a1f014a273d5e90bb71c8e840d7\", \"location\": 1}')\n",
      "reference_inputs: ()\n",
      "POST http://127.0.0.1:5000/api/1.0/transaction/process HTTP/1.1\n",
      "{\"transaction\": {\"inputIDs\": [\"0_4e3ab324145999eeeff54cb84694e6d9b9c4fbcab23387046b70e8eefa618ded\", \"1_75d9c33f090b28c5717b416f7b24384ab6251b34575982d76c357307c0cb0789\"], \"methodID\": \"create_surge_client\", \"parameters\": [\"c7220292cd02c9bd0324b660beded7d49e803641d22d0aa56a0b747ed3465e4526b518426d\", \"92c71d002b39564b9c1fcc642c32bd58131008183f19df624732da278a01f8922cc71d002bafe51423aa63038f19971c83d79ade67dc017ec9de9fc1583beb5d15\"], \"outputs\": [\"{\\\"type\\\": \\\"SurgeClient\\\", \\\"location\\\": 0, \\\"pub\\\": \\\"c7220292cd02c9bd0324b660beded7d49e803641d22d0aa56a0b747ed3465e4526b518426d\\\"}\", \"{\\\"type\\\": \\\"VoteSlipToken\\\", \\\"location\\\": 0, \\\"pub\\\": \\\"c7220292cd02c9bd0324b660beded7d49e803641d22d0aa56a0b747ed3465e4526b518426d\\\"}\"], \"returns\": [], \"dependencies\": [], \"referenceInputIDs\": [], \"contractID\": \"surge\"}, \"store\": {\"1_75d9c33f090b28c5717b416f7b24384ab6251b34575982d76c357307c0cb0789\": \"{\\\"granted_to\\\": \\\"c7220292cd02c9bd0324b660beded7d49e803641d22d0aa56a0b747ed3465e4526b518426d\\\", \\\"type\\\": \\\"CSCVoteToken\\\", \\\"granted_by\\\": \\\"c7220292cd02c9bd02a47ccf12d78c6870ac7ac3f564466a1f014a273d5e90bb71c8e840d7\\\", \\\"location\\\": 1}\", \"0_4e3ab324145999eeeff54cb84694e6d9b9c4fbcab23387046b70e8eefa618ded\": \"{\\\"granted_to\\\": \\\"c7220292cd02c9bd0324b660beded7d49e803641d22d0aa56a0b747ed3465e4526b518426d\\\", \\\"type\\\": \\\"CSCVoteToken\\\", \\\"granted_by\\\": \\\"c7220292cd02c9bd02b62675398d8a36a8e5516f70ced7bb92fb58b4834e584376dd566862\\\", \\\"location\\\": 0}\"}}\n",
      "HTTP/1.1 200 OK\n",
      "{u'outcome': u'accepted_t_commit', u'success': u'True'}\n"
     ]
    },
    {
     "data": {
      "text/plain": [
       "<Response [200]>"
      ]
     },
     "execution_count": 9,
     "metadata": {},
     "output_type": "execute_result"
    }
   ],
   "source": [
    "create_surge_client_txn = surge.create_surge_client(\n",
    "    (vote_token1, vote_token2,),\n",
    "    None,\n",
    "    (pack(provider_pub3),),\n",
    "    pack(provider_priv3),\n",
    ")\n",
    "vote_slip3 = create_surge_client_txn['transaction']['outputs'][1]\n",
    "surge_client3 = create_surge_client_txn['transaction']['outputs'][0]\n",
    "client3.process_transaction(create_surge_client_txn)\n"
   ]
  },
  {
   "cell_type": "code",
   "execution_count": null,
   "metadata": {},
   "outputs": [],
   "source": []
  }
 ],
 "metadata": {
  "kernelspec": {
   "display_name": ".surge",
   "language": "python",
   "name": ".surge"
  },
  "language_info": {
   "codemirror_mode": {
    "name": "ipython",
    "version": 2
   },
   "file_extension": ".py",
   "mimetype": "text/x-python",
   "name": "python",
   "nbconvert_exporter": "python",
   "pygments_lexer": "ipython2",
   "version": "2.7.12"
  }
 },
 "nbformat": 4,
 "nbformat_minor": 2
}
