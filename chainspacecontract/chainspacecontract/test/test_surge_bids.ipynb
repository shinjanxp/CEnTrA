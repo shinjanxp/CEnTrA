{
 "cells": [
  {
   "cell_type": "code",
   "execution_count": 1,
   "metadata": {},
   "outputs": [],
   "source": [
    "from json import dumps, loads\n",
    "import time\n",
    "import threading \n",
    "import ast\n",
    "import unittest\n",
    "import requests\n",
    "# chainsapce\n",
    "from chainspacecontract import transaction_to_solution\n",
    "# from chainspacecontract.examples.surge import contract as surge_contract\n",
    "from chainspacecontract.examples import surge\n",
    "# crypto\n",
    "from chainspacecontract.examples.utils import setup, key_gen, pack\n",
    "from chainspaceapi import ChainspaceClient\n",
    "G = setup()[0]\n"
   ]
  },
  {
   "cell_type": "code",
   "execution_count": 2,
   "metadata": {},
   "outputs": [],
   "source": [
    "global_client = ChainspaceClient(port=5000)\n"
   ]
  },
  {
   "cell_type": "code",
   "execution_count": 3,
   "metadata": {
    "scrolled": true
   },
   "outputs": [
    {
     "name": "stdout",
     "output_type": "stream",
     "text": [
      "inputs: ()\n",
      "reference_inputs: ()\n",
      "POST http://127.0.0.1:5000/api/1.0/transaction/process HTTP/1.1\n",
      "{\"transaction\": {\"inputIDs\": [], \"methodID\": \"init\", \"parameters\": [], \"outputs\": [\"{\\\"type\\\": \\\"InitToken\\\", \\\"location\\\": 0}\", \"{\\\"type\\\": \\\"InitToken\\\", \\\"location\\\": 0}\", \"{\\\"type\\\": \\\"InitToken\\\", \\\"location\\\": 1}\", \"{\\\"type\\\": \\\"InitToken\\\", \\\"location\\\": 1}\"], \"returns\": [], \"dependencies\": [], \"referenceInputIDs\": [], \"contractID\": \"surge\"}, \"store\": {}}\n",
      "HTTP/1.1 200 OK\n",
      "{u'outcome': u'accepted_t_commit', u'success': u'True'}\n"
     ]
    },
    {
     "data": {
      "text/plain": [
       "<Response [200]>"
      ]
     },
     "execution_count": 3,
     "metadata": {},
     "output_type": "execute_result"
    }
   ],
   "source": [
    "init_transaction = surge.init()\n",
    "init_token1 = init_transaction['transaction']['outputs'][0]\n",
    "init_token2 = init_transaction['transaction']['outputs'][1]\n",
    "init_token3 = init_transaction['transaction']['outputs'][2]\n",
    "init_token4 = init_transaction['transaction']['outputs'][3]\n",
    "global_client.process_transaction(init_transaction)"
   ]
  },
  {
   "cell_type": "code",
   "execution_count": 4,
   "metadata": {},
   "outputs": [
    {
     "data": {
      "text/plain": [
       "chainspacecontract.contract.ChainspaceObject"
      ]
     },
     "execution_count": 4,
     "metadata": {},
     "output_type": "execute_result"
    }
   ],
   "source": [
    "type(init_token1)"
   ]
  },
  {
   "cell_type": "code",
   "execution_count": 5,
   "metadata": {},
   "outputs": [
    {
     "name": "stdout",
     "output_type": "stream",
     "text": [
      "inputs: ('{\"type\": \"InitToken\", \"location\": 0}',)\n",
      "reference_inputs: ()\n",
      "POST http://127.0.0.1:5000/api/1.0/transaction/process HTTP/1.1\n",
      "{\"transaction\": {\"inputIDs\": [\"0_616abd97764a2b04f8d9982a44cdcaddfd7b9eddc77c70c147f0d0ea00d67474\"], \"methodID\": \"create_surge_client\", \"parameters\": [\"c7220292cd02c9bd03dd6649c55b0e70e4753b6404d7d055e4b2ea79a93e3b2b46b579462c\", \"92c71d002b6b2df5f5f59b72957ec0845be99ae1f138aacb43a609d24d3c424780c71d002b5829c6ac292793e8ad29f6eebba6d2ec0440a8e22c58ada71ceb950f\"], \"outputs\": [\"{\\\"type\\\": \\\"SurgeClient\\\", \\\"location\\\": 0, \\\"pub\\\": \\\"c7220292cd02c9bd03dd6649c55b0e70e4753b6404d7d055e4b2ea79a93e3b2b46b579462c\\\"}\", \"{\\\"type\\\": \\\"VoteSlipToken\\\", \\\"location\\\": 0, \\\"pub\\\": \\\"c7220292cd02c9bd03dd6649c55b0e70e4753b6404d7d055e4b2ea79a93e3b2b46b579462c\\\"}\", \"{\\\"type\\\": \\\"EBToken\\\", \\\"location\\\": 0, \\\"pub\\\": \\\"c7220292cd02c9bd03dd6649c55b0e70e4753b6404d7d055e4b2ea79a93e3b2b46b579462c\\\"}\"], \"returns\": [], \"dependencies\": [], \"referenceInputIDs\": [], \"contractID\": \"surge\"}, \"store\": {\"0_616abd97764a2b04f8d9982a44cdcaddfd7b9eddc77c70c147f0d0ea00d67474\": \"{\\\"type\\\": \\\"InitToken\\\", \\\"location\\\": 0}\"}}\n",
      "HTTP/1.1 200 OK\n",
      "{u'outcome': u'accepted_t_commit', u'success': u'True'}\n",
      "inputs: ('{\"type\": \"InitToken\", \"location\": 0}',)\n",
      "reference_inputs: ()\n",
      "POST http://127.0.0.1:5000/api/1.0/transaction/process HTTP/1.1\n",
      "{\"transaction\": {\"inputIDs\": [\"0_8ad4195eb49df7cd8031efb7b6d1ff6459b9463351f7aff9238f4dc019dcda8d\"], \"methodID\": \"create_surge_client\", \"parameters\": [\"c7220292cd02c9bd0237048aa2eb433b466fa7aea97bd2c6696bdcf75e4655f0001b0e7cb6\", \"92c71d002bc90554173246b4478441a4f1e26ceec09b4c8423efc93163e973a29fc71d002b01621141ead608fc5449df4036f7c6e85aa7cdcc02763f3f4f92b61f\"], \"outputs\": [\"{\\\"type\\\": \\\"SurgeClient\\\", \\\"location\\\": 0, \\\"pub\\\": \\\"c7220292cd02c9bd0237048aa2eb433b466fa7aea97bd2c6696bdcf75e4655f0001b0e7cb6\\\"}\", \"{\\\"type\\\": \\\"VoteSlipToken\\\", \\\"location\\\": 0, \\\"pub\\\": \\\"c7220292cd02c9bd0237048aa2eb433b466fa7aea97bd2c6696bdcf75e4655f0001b0e7cb6\\\"}\", \"{\\\"type\\\": \\\"EBToken\\\", \\\"location\\\": 0, \\\"pub\\\": \\\"c7220292cd02c9bd0237048aa2eb433b466fa7aea97bd2c6696bdcf75e4655f0001b0e7cb6\\\"}\"], \"returns\": [], \"dependencies\": [], \"referenceInputIDs\": [], \"contractID\": \"surge\"}, \"store\": {\"0_8ad4195eb49df7cd8031efb7b6d1ff6459b9463351f7aff9238f4dc019dcda8d\": \"{\\\"type\\\": \\\"InitToken\\\", \\\"location\\\": 0}\"}}\n",
      "HTTP/1.1 200 OK\n",
      "{u'outcome': u'accepted_t_commit', u'success': u'True'}\n",
      "inputs: ('{\"type\": \"VoteSlipToken\", \"location\": 0, \"pub\": \"c7220292cd02c9bd03dd6649c55b0e70e4753b6404d7d055e4b2ea79a93e3b2b46b579462c\"}',)\n",
      "reference_inputs: ()\n",
      "POST http://127.0.0.1:5000/api/1.0/transaction/process HTTP/1.1\n",
      "{\"transaction\": {\"inputIDs\": [\"0_06e663f11167eb36d6e903ffca457be165d1a5a6264923bded56a7cecd21fc46\"], \"methodID\": \"cast_srep_vote\", \"parameters\": [\"92c71d002b670acc89ad3b936ef41cdbff7691da9ccc0dd0f12959af55b716a2e2c71d002b8434efb72ba339f84e5a708ec370d865f20d13c7c10edda2bec5d322\"], \"outputs\": [\"{\\\"granted_to\\\": \\\"c7220292cd02c9bd027464a66aafed57af70065615d3c2670cec6ca1db014cb28afb928095\\\", \\\"type\\\": \\\"SREPVoteToken\\\", \\\"granted_by\\\": \\\"c7220292cd02c9bd03dd6649c55b0e70e4753b6404d7d055e4b2ea79a93e3b2b46b579462c\\\", \\\"location\\\": 0}\", \"{\\\"type\\\": \\\"VoteSlipToken\\\", \\\"location\\\": 0, \\\"pub\\\": \\\"c7220292cd02c9bd03dd6649c55b0e70e4753b6404d7d055e4b2ea79a93e3b2b46b579462c\\\"}\"], \"returns\": [], \"dependencies\": [], \"referenceInputIDs\": [], \"contractID\": \"surge\"}, \"store\": {\"0_06e663f11167eb36d6e903ffca457be165d1a5a6264923bded56a7cecd21fc46\": \"{\\\"type\\\": \\\"VoteSlipToken\\\", \\\"location\\\": 0, \\\"pub\\\": \\\"c7220292cd02c9bd03dd6649c55b0e70e4753b6404d7d055e4b2ea79a93e3b2b46b579462c\\\"}\"}}\n",
      "HTTP/1.1 200 OK\n",
      "{u'outcome': u'accepted_t_commit', u'success': u'True'}\n",
      "inputs: ('{\"type\": \"VoteSlipToken\", \"location\": 0, \"pub\": \"c7220292cd02c9bd0237048aa2eb433b466fa7aea97bd2c6696bdcf75e4655f0001b0e7cb6\"}',)\n",
      "reference_inputs: ()\n",
      "POST http://127.0.0.1:5000/api/1.0/transaction/process HTTP/1.1\n",
      "{\"transaction\": {\"inputIDs\": [\"0_e674585913b3aa7bbad5f2f534024916a75ad1a34878f324c922ad202c73ced2\"], \"methodID\": \"cast_srep_vote\", \"parameters\": [\"92c71d002b69ce779bf5c41fcb06ec6235d87eec61e9145e8c337e41c33f7ae4e7c71d002bd9702590d32631dfade58dc5928b61054c7474fc307c28e7bbf50211\"], \"outputs\": [\"{\\\"granted_to\\\": \\\"c7220292cd02c9bd027464a66aafed57af70065615d3c2670cec6ca1db014cb28afb928095\\\", \\\"type\\\": \\\"SREPVoteToken\\\", \\\"granted_by\\\": \\\"c7220292cd02c9bd0237048aa2eb433b466fa7aea97bd2c6696bdcf75e4655f0001b0e7cb6\\\", \\\"location\\\": 0}\", \"{\\\"type\\\": \\\"VoteSlipToken\\\", \\\"location\\\": 0, \\\"pub\\\": \\\"c7220292cd02c9bd0237048aa2eb433b466fa7aea97bd2c6696bdcf75e4655f0001b0e7cb6\\\"}\"], \"returns\": [], \"dependencies\": [], \"referenceInputIDs\": [], \"contractID\": \"surge\"}, \"store\": {\"0_e674585913b3aa7bbad5f2f534024916a75ad1a34878f324c922ad202c73ced2\": \"{\\\"type\\\": \\\"VoteSlipToken\\\", \\\"location\\\": 0, \\\"pub\\\": \\\"c7220292cd02c9bd0237048aa2eb433b466fa7aea97bd2c6696bdcf75e4655f0001b0e7cb6\\\"}\"}}\n",
      "HTTP/1.1 200 OK\n",
      "{u'outcome': u'accepted_t_commit', u'success': u'True'}\n",
      "inputs: ('{\"granted_to\": \"c7220292cd02c9bd027464a66aafed57af70065615d3c2670cec6ca1db014cb28afb928095\", \"type\": \"SREPVoteToken\", \"granted_by\": \"c7220292cd02c9bd03dd6649c55b0e70e4753b6404d7d055e4b2ea79a93e3b2b46b579462c\", \"location\": 0}', '{\"granted_to\": \"c7220292cd02c9bd027464a66aafed57af70065615d3c2670cec6ca1db014cb28afb928095\", \"type\": \"SREPVoteToken\", \"granted_by\": \"c7220292cd02c9bd0237048aa2eb433b466fa7aea97bd2c6696bdcf75e4655f0001b0e7cb6\", \"location\": 0}')\n",
      "reference_inputs: ()\n",
      "POST http://127.0.0.1:5000/api/1.0/transaction/process HTTP/1.1\n",
      "{\"transaction\": {\"inputIDs\": [\"0_56db483f49d8b1dd226844d85d9200fd1af0b30745da0a3a6b98455548bd15c9\", \"0_90aff11db142d3a0a9823422829a6ee8b9992417eebaedee6dc8fd0447aa8825\"], \"methodID\": \"create_srep_client\", \"parameters\": [\"c7220292cd02c9bd027464a66aafed57af70065615d3c2670cec6ca1db014cb28afb928095\", \"92c71d002bf7d8d40f0197bd1541b5469846f0bb882a490ee40849c3d64df231e0c71d002b1fa598b143d3a67f27393e2940b803c99c8bf86f21aef9e284182ae3\"], \"outputs\": [\"{\\\"type\\\": \\\"SREPClient\\\", \\\"location\\\": 0, \\\"pub\\\": \\\"c7220292cd02c9bd027464a66aafed57af70065615d3c2670cec6ca1db014cb28afb928095\\\"}\", \"{\\\"type\\\": \\\"VoteSlipToken\\\", \\\"location\\\": 0, \\\"pub\\\": \\\"c7220292cd02c9bd027464a66aafed57af70065615d3c2670cec6ca1db014cb28afb928095\\\"}\"], \"returns\": [], \"dependencies\": [], \"referenceInputIDs\": [], \"contractID\": \"surge\"}, \"store\": {\"0_56db483f49d8b1dd226844d85d9200fd1af0b30745da0a3a6b98455548bd15c9\": \"{\\\"granted_to\\\": \\\"c7220292cd02c9bd027464a66aafed57af70065615d3c2670cec6ca1db014cb28afb928095\\\", \\\"type\\\": \\\"SREPVoteToken\\\", \\\"granted_by\\\": \\\"c7220292cd02c9bd03dd6649c55b0e70e4753b6404d7d055e4b2ea79a93e3b2b46b579462c\\\", \\\"location\\\": 0}\", \"0_90aff11db142d3a0a9823422829a6ee8b9992417eebaedee6dc8fd0447aa8825\": \"{\\\"granted_to\\\": \\\"c7220292cd02c9bd027464a66aafed57af70065615d3c2670cec6ca1db014cb28afb928095\\\", \\\"type\\\": \\\"SREPVoteToken\\\", \\\"granted_by\\\": \\\"c7220292cd02c9bd0237048aa2eb433b466fa7aea97bd2c6696bdcf75e4655f0001b0e7cb6\\\", \\\"location\\\": 0}\"}}\n",
      "HTTP/1.1 200 OK\n",
      "{u'outcome': u'accepted_t_commit', u'success': u'True'}\n"
     ]
    }
   ],
   "source": [
    "r1 = surge.SurgeClient(init_token1) # location=0\n",
    "r2 = surge.SurgeClient(init_token2) # location=0\n",
    "rep1 = surge.SREPClient() \n",
    "\n",
    "votes = (r1.cast_srep_vote(rep1.pub), r2.cast_srep_vote(rep1.pub))\n",
    "rep1.create_srep_client(votes) # location=0\n",
    "# r1.submit_bid('EBBuy', 50)\n",
    "# r2.submit_bid('EBSell', 50)\n"
   ]
  },
  {
   "cell_type": "code",
   "execution_count": 6,
   "metadata": {},
   "outputs": [],
   "source": [
    "t1 = threading.Thread(target=r1.submit_bid, args=('EBBuy',50)) \n",
    "t2 = threading.Thread(target=r2.submit_bid, args=('EBSell',50)) \n",
    "t3 = threading.Thread(target=rep1.accept_bids) "
   ]
  },
  {
   "cell_type": "code",
   "execution_count": 7,
   "metadata": {
    "scrolled": true
   },
   "outputs": [
    {
     "name": "stdout",
     "output_type": "stream",
     "text": [
      "inputs: ('{\"type\": \"EBToken\", \"location\": 0, \"pub\": \"c7220292cd02c9bd03dd6649c55b0e70e4753b6404d7d055e4b2ea79a93e3b2b46b579462c\"}',)\n",
      "reference_inputs: ()\n",
      "inputs: ('{\"type\": \"EBToken\", \"location\": 0, \"pub\": \"c7220292cd02c9bd0237048aa2eb433b466fa7aea97bd2c6696bdcf75e4655f0001b0e7cb6\"}',)\n",
      "reference_inputs: ()\n",
      "POST http://127.0.0.1:5000/api/1.0/transaction/process HTTP/1.1\n",
      " POST http://127.0.0.1:5000/api/1.0/transaction/process HTTP/1.1\n",
      "{\"transaction\": {\"inputIDs\": [\"0_30990706014e4d7352df724ccc837ab147eb334b546d5aee464352a6d38cadd4\"], \"methodID\": \"submit_bid_proof\", \"parameters\": [\"EBSell\", \"92c71d002b8625873115a42948dc214ea1ff5a1312274dec0a60e6723b79ff98d6c71d002bc6fb466ee1bf2f6b3b895967fea428eafeb7bd47e6569155f930420c\"], \"outputs\": [\"{\\\"bid_type\\\": \\\"EBSell\\\", \\\"type\\\": \\\"BidProof\\\", \\\"location\\\": 0, \\\"pub\\\": \\\"c7220292cd02c9bd0237048aa2eb433b466fa7aea97bd2c6696bdcf75e4655f0001b0e7cb6\\\", \\\"quantity_sig\\\": \\\"92c71d002b85707052f6714b94564d43183d338f9010478de826619c6819cb5d02c71d002b19775bc8e4e9ea18d6ab29d253dbccda32fa9f073abe23dd26189afe\\\"}\", \"{\\\"type\\\": \\\"EBToken\\\", \\\"location\\\": 0, \\\"pub\\\": \\\"c7220292cd02c9bd0237048aa2eb433b466fa7aea97bd2c6696bdcf75e4655f0001b0e7cb6\\\"}\"], \"returns\": [], \"dependencies\": [], \"referenceInputIDs\": [], \"contractID\": \"surge\"}, \"store\": {\"0_30990706014e4d7352df724ccc837ab147eb334b546d5aee464352a6d38cadd4\": \"{\\\"type\\\": \\\"EBToken\\\", \\\"location\\\": 0, \\\"pub\\\": \\\"c7220292cd02c9bd0237048aa2eb433b466fa7aea97bd2c6696bdcf75e4655f0001b0e7cb6\\\"}\"}}\n",
      "{\"transaction\": {\"inputIDs\": [\"0_c3be9317c76697e99898e51d8d6a78bb63e24cbaed000b200eba6a0b4641514c\"], \"methodID\": \"submit_bid_proof\", \"parameters\": [\"EBBuy\", \"92c71d002baa7214be19749f06fe183c847a8a675eddc61a303ea48949044c8a1ac71d002bd66f32783ef7c8d2b7ff5e43d4effd6698679fddfdc2eb5c8ab612c0\"], \"outputs\": [\"{\\\"bid_type\\\": \\\"EBBuy\\\", \\\"type\\\": \\\"BidProof\\\", \\\"location\\\": 0, \\\"pub\\\": \\\"c7220292cd02c9bd03dd6649c55b0e70e4753b6404d7d055e4b2ea79a93e3b2b46b579462c\\\", \\\"quantity_sig\\\": \\\"92c71d002b5d351302692780fa9da79eb6ba73a7356564b6026b36137465e93423c71d002b17aef1d88ce050c75268bd9f1300d4664ba59662a031ef4abfc90af2\\\"}\", \"{\\\"type\\\": \\\"EBToken\\\", \\\"location\\\": 0, \\\"pub\\\": \\\"c7220292cd02c9bd03dd6649c55b0e70e4753b6404d7d055e4b2ea79a93e3b2b46b579462c\\\"}\"], \"returns\": [], \"dependencies\": [], \"referenceInputIDs\": [], \"contractID\": \"surge\"}, \"store\": {\"0_c3be9317c76697e99898e51d8d6a78bb63e24cbaed000b200eba6a0b4641514c\": \"{\\\"type\\\": \\\"EBToken\\\", \\\"location\\\": 0, \\\"pub\\\": \\\"c7220292cd02c9bd03dd6649c55b0e70e4753b6404d7d055e4b2ea79a93e3b2b46b579462c\\\"}\"}}\n",
      "HTTP/1.1 200 OK\n",
      "{u'outcome': u'accepted_t_commit', u'success': u'True'}\n",
      "HTTP/1.1 200 OK\n",
      "{u'outcome': u'accepted_t_commit', u'success': u'True'}\n",
      "http://127.0.0.1:5000/api/1.0/objects?status=1\n",
      "HTTP/1.1 200 OK\n",
      "inputs: ('{\"bid_type\": \"EBBuy\", \"type\": \"BidProof\", \"location\": 0, \"pub\": \"c7220292cd02c9bd03dd6649c55b0e70e4753b6404d7d055e4b2ea79a93e3b2b46b579462c\", \"quantity_sig\": \"92c71d002b5d351302692780fa9da79eb6ba73a7356564b6026b36137465e93423c71d002b17aef1d88ce050c75268bd9f1300d4664ba59662a031ef4abfc90af2\"}',)\n",
      "reference_inputs: ()\n",
      "POST http://127.0.0.1:5000/api/1.0/transaction/process HTTP/1.1\n",
      "{\"transaction\": {\"inputIDs\": [\"0_2c7404e59c9dc6eed5e45dcd1af97df2dff35d4a95d0419faaf235f9c2986818\"], \"methodID\": \"submit_bid\", \"parameters\": [50, \"92c71d002b2d1e28bc081b9decd38431ad21ea9ee8db8589e3d17eb06d80cd827ac71d002bdcc8d607bc07ea3fe515e10ac2ca72ed90e973591eaf6c28b337145c\"], \"outputs\": [\"{\\\"quantity_sig\\\": \\\"92c71d002b5d351302692780fa9da79eb6ba73a7356564b6026b36137465e93423c71d002b17aef1d88ce050c75268bd9f1300d4664ba59662a031ef4abfc90af2\\\", \\\"type\\\": \\\"EBBuy\\\", \\\"location\\\": 0, \\\"pub\\\": \\\"c7220292cd02c9bd03dd6649c55b0e70e4753b6404d7d055e4b2ea79a93e3b2b46b579462c\\\", \\\"quantity\\\": 50}\"], \"returns\": [], \"dependencies\": [], \"referenceInputIDs\": [], \"contractID\": \"surge\"}, \"store\": {\"0_2c7404e59c9dc6eed5e45dcd1af97df2dff35d4a95d0419faaf235f9c2986818\": \"{\\\"bid_type\\\": \\\"EBBuy\\\", \\\"type\\\": \\\"BidProof\\\", \\\"location\\\": 0, \\\"pub\\\": \\\"c7220292cd02c9bd03dd6649c55b0e70e4753b6404d7d055e4b2ea79a93e3b2b46b579462c\\\", \\\"quantity_sig\\\": \\\"92c71d002b5d351302692780fa9da79eb6ba73a7356564b6026b36137465e93423c71d002b17aef1d88ce050c75268bd9f1300d4664ba59662a031ef4abfc90af2\\\"}\"}}\n",
      "inputs: ('{\"bid_type\": \"EBSell\", \"type\": \"BidProof\", \"location\": 0, \"pub\": \"c7220292cd02c9bd0237048aa2eb433b466fa7aea97bd2c6696bdcf75e4655f0001b0e7cb6\", \"quantity_sig\": \"92c71d002b85707052f6714b94564d43183d338f9010478de826619c6819cb5d02c71d002b19775bc8e4e9ea18d6ab29d253dbccda32fa9f073abe23dd26189afe\"}',)\n",
      "reference_inputs: ()\n",
      "POST http://127.0.0.1:5000/api/1.0/transaction/process HTTP/1.1\n",
      "{\"transaction\": {\"inputIDs\": [\"0_30e8cc8583a199368e38825d62e7459e1a77bebc2bc4eff7407b0f9c11545ad3\"], \"methodID\": \"submit_bid\", \"parameters\": [50, \"92c71d002bc6444947ef87f05084ed0ed0784f20fa36448a65ac343f6f075bbac8c71d002bc691f9c3b859d9bbbdc1cfa8c1c3e5db88f0494ed1d7942d6b8a38df\"], \"outputs\": [\"{\\\"quantity_sig\\\": \\\"92c71d002b85707052f6714b94564d43183d338f9010478de826619c6819cb5d02c71d002b19775bc8e4e9ea18d6ab29d253dbccda32fa9f073abe23dd26189afe\\\", \\\"type\\\": \\\"EBSell\\\", \\\"location\\\": 0, \\\"pub\\\": \\\"c7220292cd02c9bd0237048aa2eb433b466fa7aea97bd2c6696bdcf75e4655f0001b0e7cb6\\\", \\\"quantity\\\": 50}\"], \"returns\": [], \"dependencies\": [], \"referenceInputIDs\": [], \"contractID\": \"surge\"}, \"store\": {\"0_30e8cc8583a199368e38825d62e7459e1a77bebc2bc4eff7407b0f9c11545ad3\": \"{\\\"bid_type\\\": \\\"EBSell\\\", \\\"type\\\": \\\"BidProof\\\", \\\"location\\\": 0, \\\"pub\\\": \\\"c7220292cd02c9bd0237048aa2eb433b466fa7aea97bd2c6696bdcf75e4655f0001b0e7cb6\\\", \\\"quantity_sig\\\": \\\"92c71d002b85707052f6714b94564d43183d338f9010478de826619c6819cb5d02c71d002b19775bc8e4e9ea18d6ab29d253dbccda32fa9f073abe23dd26189afe\\\"}\"}}\n",
      "HTTP/1.1 200 OK\n",
      "{u'outcome': u'accepted_t_commit', u'success': u'True'}\n",
      "HTTP/1.1 200 OK\n",
      "{u'outcome': u'accepted_t_commit', u'success': u'True'}\n",
      "http://127.0.0.1:5000/api/1.0/objects?status=1\n",
      "HTTP/1.1 200 OK\n",
      "http://127.0.0.1:5000/api/1.0/objects?status=1\n",
      "HTTP/1.1 200 OK\n",
      "inputs: ('{\"quantity_sig\": \"92c71d002b5d351302692780fa9da79eb6ba73a7356564b6026b36137465e93423c71d002b17aef1d88ce050c75268bd9f1300d4664ba59662a031ef4abfc90af2\", \"type\": \"EBBuy\", \"location\": 0, \"pub\": \"c7220292cd02c9bd03dd6649c55b0e70e4753b6404d7d055e4b2ea79a93e3b2b46b579462c\", \"quantity\": 50}', '{\"quantity_sig\": \"92c71d002b85707052f6714b94564d43183d338f9010478de826619c6819cb5d02c71d002b19775bc8e4e9ea18d6ab29d253dbccda32fa9f073abe23dd26189afe\", \"type\": \"EBSell\", \"location\": 0, \"pub\": \"c7220292cd02c9bd0237048aa2eb433b466fa7aea97bd2c6696bdcf75e4655f0001b0e7cb6\", \"quantity\": 50}')\n",
      "reference_inputs: ()\n",
      "POTENTIAL ERROR: 'accept_bids' method output does not satify checker.\n",
      "POST http://127.0.0.1:5000/api/1.0/transaction/process HTTP/1.1\n",
      "{\"transaction\": {\"inputIDs\": [\"0_16bba20e47dce1a3370db15297cce68fbf76edb01634f275886a7c261069a25d\", \"0_126cbefe104a2ed2dd1f22fbcef26bb3143c55b0ee9ec7b34a130dc6d3293458\"], \"methodID\": \"accept_bids\", \"parameters\": [\"c7220292cd02c9bd027464a66aafed57af70065615d3c2670cec6ca1db014cb28afb928095\", \"92c71d002b854f2961b5003078c563e973e8d21b36bb20aa4d5c6e1eb254e3e26fc71d002b8909409cd09c0e91989763dd71f4ae28690391016c818b8b2280de1a\"], \"outputs\": [\"{\\\"total_sell\\\": 50, \\\"type\\\": \\\"BidAccept\\\", \\\"pub\\\": \\\"c7220292cd02c9bd027464a66aafed57af70065615d3c2670cec6ca1db014cb28afb928095\\\", \\\"total_buy\\\": 50, \\\"location\\\": 0}\"], \"returns\": [], \"dependencies\": [], \"referenceInputIDs\": [], \"contractID\": \"surge\"}, \"store\": {\"0_16bba20e47dce1a3370db15297cce68fbf76edb01634f275886a7c261069a25d\": \"{\\\"quantity_sig\\\": \\\"92c71d002b5d351302692780fa9da79eb6ba73a7356564b6026b36137465e93423c71d002b17aef1d88ce050c75268bd9f1300d4664ba59662a031ef4abfc90af2\\\", \\\"type\\\": \\\"EBBuy\\\", \\\"location\\\": 0, \\\"pub\\\": \\\"c7220292cd02c9bd03dd6649c55b0e70e4753b6404d7d055e4b2ea79a93e3b2b46b579462c\\\", \\\"quantity\\\": 50}\", \"0_126cbefe104a2ed2dd1f22fbcef26bb3143c55b0ee9ec7b34a130dc6d3293458\": \"{\\\"quantity_sig\\\": \\\"92c71d002b85707052f6714b94564d43183d338f9010478de826619c6819cb5d02c71d002b19775bc8e4e9ea18d6ab29d253dbccda32fa9f073abe23dd26189afe\\\", \\\"type\\\": \\\"EBSell\\\", \\\"location\\\": 0, \\\"pub\\\": \\\"c7220292cd02c9bd0237048aa2eb433b466fa7aea97bd2c6696bdcf75e4655f0001b0e7cb6\\\", \\\"quantity\\\": 50}\"}}\n"
     ]
    },
    {
     "name": "stderr",
     "output_type": "stream",
     "text": [
      "Traceback (most recent call last):\n",
      "  File \"/home/shinjan/surge/chainspacecontract/chainspacecontract/examples/surge.py\", line 671, in accept_bids_checker\n",
      "    equate(accept_bids['location'], b['location'])\n",
      "TypeError: 'function' object has no attribute '__getitem__'\n"
     ]
    },
    {
     "name": "stdout",
     "output_type": "stream",
     "text": [
      "HTTP/1.1 502 Bad Gateway\n",
      "{u'outcome': u'prepared_t_abort', u'success': u'False'}\n"
     ]
    }
   ],
   "source": [
    "t1.start()\n",
    "t2.start()\n",
    "t3.start()\n",
    "t1.join()\n",
    "t2.join()\n",
    "t3.join()"
   ]
  },
  {
   "cell_type": "code",
   "execution_count": 8,
   "metadata": {},
   "outputs": [
    {
     "name": "stdout",
     "output_type": "stream",
     "text": [
      "http://127.0.0.1:5000/api/1.0/objects?status=1\n",
      "HTTP/1.1 200 OK\n"
     ]
    },
    {
     "data": {
      "text/plain": [
       "0"
      ]
     },
     "execution_count": 8,
     "metadata": {},
     "output_type": "execute_result"
    }
   ],
   "source": [
    "# '{}|{}'.format(50, loads(r1.ebtoken)['pub'])\n",
    "# global_client.fix_json(\"{'type':'InitToken','location':0, 'value':{'foo':'bar'}}\")\n",
    "buy_bids = global_client.get_objects({'location':0, 'type':'EBBuy'})\n",
    "buy_bids = tuple(buy_bids)\n",
    "loads(buy_bids[0])['location']\n",
    "\n",
    "# print loads(objs[0])['type']\n",
    "# bid_proofs = rep1.client.get_objects({ 'type':'EBBuy'})\n",
    "# print init_token1\n"
   ]
  },
  {
   "cell_type": "code",
   "execution_count": null,
   "metadata": {},
   "outputs": [],
   "source": []
  }
 ],
 "metadata": {
  "kernelspec": {
   "display_name": ".surge",
   "language": "python",
   "name": ".surge"
  },
  "language_info": {
   "codemirror_mode": {
    "name": "ipython",
    "version": 2
   },
   "file_extension": ".py",
   "mimetype": "text/x-python",
   "name": "python",
   "nbconvert_exporter": "python",
   "pygments_lexer": "ipython2",
   "version": "2.7.12"
  }
 },
 "nbformat": 4,
 "nbformat_minor": 2
}
