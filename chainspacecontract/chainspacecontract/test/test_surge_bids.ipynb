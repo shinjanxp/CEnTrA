{
 "cells": [
  {
   "cell_type": "code",
   "execution_count": 1,
   "metadata": {},
   "outputs": [],
   "source": [
    "from json import dumps, loads\n",
    "import time\n",
    "import unittest\n",
    "import requests\n",
    "# chainsapce\n",
    "from chainspacecontract import transaction_to_solution\n",
    "# from chainspacecontract.examples.surge import contract as surge_contract\n",
    "from chainspacecontract.examples import surge\n",
    "# crypto\n",
    "from chainspacecontract.examples.utils import setup, key_gen, pack\n",
    "from chainspaceapi import ChainspaceClient\n"
   ]
  },
  {
   "cell_type": "code",
   "execution_count": 2,
   "metadata": {},
   "outputs": [],
   "source": [
    "    \n",
    "G = setup()[0]\n",
    "(provider_priv1, provider_pub1) = key_gen(setup())\n",
    "(provider_priv2, provider_pub2) = key_gen(setup())\n",
    "(provider_priv3, provider_pub3) = key_gen(setup())\n",
    "client1 = ChainspaceClient(port=5000)\n",
    "client2 = ChainspaceClient(port=5000)\n",
    "client3 = ChainspaceClient(port=5000)\n"
   ]
  },
  {
   "cell_type": "code",
   "execution_count": 7,
   "metadata": {
    "scrolled": true
   },
   "outputs": [
    {
     "name": "stdout",
     "output_type": "stream",
     "text": [
      "inputs: ()\n",
      "reference_inputs: ()\n"
     ]
    }
   ],
   "source": [
    "init_transaction = surge.init()\n",
    "init_token1 = init_transaction['transaction']['outputs'][0]\n",
    "init_token2 = init_transaction['transaction']['outputs'][1]\n",
    "init_token3 = init_transaction['transaction']['outputs'][2]\n",
    "client1.process_transaction(init_transaction)"
   ]
  },
  {
   "cell_type": "code",
   "execution_count": null,
   "metadata": {},
   "outputs": [],
   "source": [
    "create_surge_client_txn = surge.create_surge_client(\n",
    "    (init_token1,),\n",
    "    None,\n",
    "    (pack(provider_pub1),),\n",
    "    pack(provider_priv1),\n",
    ")\n",
    "surge_client1 = create_surge_client_txn['transaction']['outputs'][0]\n",
    "ebtoken1 = create_surge_client_txn['transaction']['outputs'][2]\n",
    "client1.process_transaction(create_surge_client_txn)"
   ]
  },
  {
   "cell_type": "code",
   "execution_count": null,
   "metadata": {},
   "outputs": [],
   "source": [
    "create_surge_client_txn = surge.create_surge_client(\n",
    "    (init_token2,),\n",
    "    None,\n",
    "    (pack(provider_pub2),),\n",
    "    pack(provider_priv2),\n",
    ")\n",
    "surge_client2 = create_surge_client_txn['transaction']['outputs'][0]\n",
    "ebtoken2 = create_surge_client_txn['transaction']['outputs'][2]\n",
    "client2.process_transaction(create_surge_client_txn)"
   ]
  },
  {
   "cell_type": "code",
   "execution_count": null,
   "metadata": {},
   "outputs": [],
   "source": [
    "create_surge_client_txn = surge.create_surge_client(\n",
    "    (init_token3,),\n",
    "    None,\n",
    "    (pack(provider_pub3),),\n",
    "    pack(provider_priv3),\n",
    ")\n",
    "surge_client3 = create_surge_client_txn['transaction']['outputs'][0]\n",
    "ebtoken3 = create_surge_client_txn['transaction']['outputs'][2]\n",
    "client3.process_transaction(create_surge_client_txn)"
   ]
  },
  {
   "cell_type": "code",
   "execution_count": null,
   "metadata": {},
   "outputs": [],
   "source": [
    "submit_bid_txn = surge.submit_bid(\n",
    "    (ebtoken1,),\n",
    "    None,\n",
    "    ('EBBuy',50,),\n",
    "    pack(provider_priv1),\n",
    ")\n",
    "bid1 = submit_bid_txn['transaction']['outputs'][0]\n",
    "ebtoken1 = submit_bid_txn['transaction']['outputs'][1]\n",
    "client1.process_transaction(submit_bid_txn)"
   ]
  },
  {
   "cell_type": "code",
   "execution_count": null,
   "metadata": {},
   "outputs": [],
   "source": [
    "submit_bid_txn = surge.submit_bid(\n",
    "    (ebtoken2,),\n",
    "    None,\n",
    "    ('EBSell',55,),\n",
    "    pack(provider_priv2),\n",
    ")\n",
    "bid2 = submit_bid_txn['transaction']['outputs'][0]\n",
    "ebtoken2 = submit_bid_txn['transaction']['outputs'][1]\n",
    "client1.process_transaction(submit_bid_txn)"
   ]
  },
  {
   "cell_type": "code",
   "execution_count": 6,
   "metadata": {},
   "outputs": [
    {
     "name": "stdout",
     "output_type": "stream",
     "text": [
      "http://127.0.0.1:5000/api/1.0/objects?status=1\n",
      "HTTP/1.1 200 OK\n",
      "[{u'status': u'active', u'id': u'1_d0a3ee72fbbe2ce4dd31e4f9fecc081ec3fa9af0abda50dd9463d4ed0539de1e', u'value': {u'type': u'InitToken', u'location': 1}}, {u'status': u'active', u'id': u'2_d84363f405bf730b14a01f7e8cf07feeeac35a3b2ac62582e022c2629f135d12', u'value': {u'type': u'InitToken', u'location': 2}}, {u'status': u'active', u'id': u'0_32d1498f29d15eee49aeb95c00033500c6cb1f4869a1e9114937ec44031d9280', u'value': {u'type': u'SurgeClient', u'location': 0, u'pub': u'c7220292cd02c9bd0378ac85ae7886818ccdd678618f6d988613399843c3f607d0e5821dd4'}}, {u'status': u'active', u'id': u'0_b34cfcab92b006949f1521c0119b48992ee9e64c624516689ae0c17fff4cb5e4', u'value': {u'type': u'VoteSlipToken', u'location': 0, u'pub': u'c7220292cd02c9bd0378ac85ae7886818ccdd678618f6d988613399843c3f607d0e5821dd4'}}, {u'status': u'active', u'id': u'0_07eb24aa0c4ab01390172aa2d92c27fd505fad76012ddfda97cadddc3ad8fbad', u'value': {u'type': u'EBBuy', u'location': 0, u'pub': u'c7220292cd02c9bd0378ac85ae7886818ccdd678618f6d988613399843c3f607d0e5821dd4', u'quantity': 50}}, {u'status': u'active', u'id': u'0_acc4b3e558894ce1c3cb6c26fbcde534f86d8fcbb0bd815ad1784f252b53a6e8', u'value': {u'type': u'EBToken', u'location': 0, u'pub': u'c7220292cd02c9bd0378ac85ae7886818ccdd678618f6d988613399843c3f607d0e5821dd4'}}]\n"
     ]
    },
    {
     "data": {
      "text/plain": [
       "chainspacecontract.contract.ChainspaceObject"
      ]
     },
     "execution_count": 6,
     "metadata": {},
     "output_type": "execute_result"
    }
   ],
   "source": [
    "objs = client1.get_objects({'status':1})\n",
    "type(objs[0])"
   ]
  }
 ],
 "metadata": {
  "kernelspec": {
   "display_name": ".surge",
   "language": "python",
   "name": ".surge"
  },
  "language_info": {
   "codemirror_mode": {
    "name": "ipython",
    "version": 2
   },
   "file_extension": ".py",
   "mimetype": "text/x-python",
   "name": "python",
   "nbconvert_exporter": "python",
   "pygments_lexer": "ipython2",
   "version": "2.7.12"
  }
 },
 "nbformat": 4,
 "nbformat_minor": 2
}
