{
 "cells": [
  {
   "cell_type": "code",
   "execution_count": 1,
   "metadata": {},
   "outputs": [],
   "source": [
    "from json import dumps, loads\n",
    "import time\n",
    "import threading \n",
    "import ast\n",
    "import unittest\n",
    "import requests\n",
    "# chainsapce\n",
    "from chainspacecontract import transaction_to_solution\n",
    "# from chainspacecontract.examples.surge import contract as surge_contract\n",
    "from chainspacecontract.examples import surge\n",
    "# crypto\n",
    "from chainspacecontract.examples.utils import setup, key_gen, pack\n",
    "from chainspaceapi import ChainspaceClient\n",
    "G = setup()[0]\n"
   ]
  },
  {
   "cell_type": "code",
   "execution_count": 3,
   "metadata": {
    "scrolled": true
   },
   "outputs": [
    {
     "name": "stdout",
     "output_type": "stream",
     "text": [
      "inputs: ()\n",
      "reference_inputs: ()\n",
      "POST http://127.0.0.1:5000/api/1.0/transaction/process HTTP/1.1\n",
      "{\"transaction\": {\"inputIDs\": [], \"methodID\": \"init\", \"parameters\": [], \"outputs\": [\"{\\\"type\\\": \\\"InitToken\\\", \\\"location\\\": 0}\", \"{\\\"type\\\": \\\"InitToken\\\", \\\"location\\\": 0}\", \"{\\\"type\\\": \\\"InitToken\\\", \\\"location\\\": 1}\", \"{\\\"type\\\": \\\"InitToken\\\", \\\"location\\\": 1}\", \"{\\\"type\\\": \\\"InitToken\\\", \\\"location\\\": 2}\", \"{\\\"type\\\": \\\"InitToken\\\", \\\"location\\\": 2}\"], \"returns\": [], \"dependencies\": [], \"referenceInputIDs\": [], \"contractID\": \"surge\"}, \"store\": {}}\n",
      "HTTP/1.1 200 OK\n",
      "{u'outcome': u'accepted_t_commit', u'success': u'True'}\n"
     ]
    },
    {
     "data": {
      "text/plain": [
       "<Response [200]>"
      ]
     },
     "execution_count": 3,
     "metadata": {},
     "output_type": "execute_result"
    }
   ],
   "source": [
    "init_transaction = surge.init()\n",
    "init_token1 = init_transaction['transaction']['outputs'][0]\n",
    "init_token2 = init_transaction['transaction']['outputs'][1]\n",
    "init_token3 = init_transaction['transaction']['outputs'][2]\n",
    "init_token4 = init_transaction['transaction']['outputs'][3]\n",
    "init_token5 = init_transaction['transaction']['outputs'][4]\n",
    "init_token6 = init_transaction['transaction']['outputs'][5]\n",
    "global_client.process_transaction(init_transaction)"
   ]
  },
  {
   "cell_type": "code",
   "execution_count": 4,
   "metadata": {},
   "outputs": [
    {
     "name": "stdout",
     "output_type": "stream",
     "text": [
      "inputs: ('{\"type\": \"InitToken\", \"location\": 0}',)\n",
      "reference_inputs: ()\n",
      "POST http://127.0.0.1:5000/api/1.0/transaction/process HTTP/1.1\n",
      "{\"transaction\": {\"inputIDs\": [\"0_4b87d3a7997fc917d1ee75144f6ea37fff3814460efa85d87732a781676eda38\"], \"methodID\": \"create_surge_client\", \"parameters\": [\"c7220292cd02c9bd03b2ecc092ef73c5cbc9f8d423bf1d6ba6c357be98c3ec6cacc9710daf\", \"92c71d002bd6bf2b68ff9ce73ea9cd121403d2fefa78c5c203aca77cef8be72fc2c71d002b8cbd649a0b28445282e743bdea2385934933f0451f4100704f16a6af\"], \"outputs\": [\"{\\\"type\\\": \\\"SurgeClient\\\", \\\"location\\\": 0, \\\"pub\\\": \\\"c7220292cd02c9bd03b2ecc092ef73c5cbc9f8d423bf1d6ba6c357be98c3ec6cacc9710daf\\\"}\", \"{\\\"type\\\": \\\"VoteSlipToken\\\", \\\"location\\\": 0, \\\"pub\\\": \\\"c7220292cd02c9bd03b2ecc092ef73c5cbc9f8d423bf1d6ba6c357be98c3ec6cacc9710daf\\\"}\", \"{\\\"type\\\": \\\"EBToken\\\", \\\"location\\\": 0, \\\"pub\\\": \\\"c7220292cd02c9bd03b2ecc092ef73c5cbc9f8d423bf1d6ba6c357be98c3ec6cacc9710daf\\\"}\"], \"returns\": [], \"dependencies\": [], \"referenceInputIDs\": [], \"contractID\": \"surge\"}, \"store\": {\"0_4b87d3a7997fc917d1ee75144f6ea37fff3814460efa85d87732a781676eda38\": \"{\\\"type\\\": \\\"InitToken\\\", \\\"location\\\": 0}\"}}\n",
      "HTTP/1.1 200 OK\n",
      "{u'outcome': u'accepted_t_commit', u'success': u'True'}\n",
      "inputs: ('{\"type\": \"InitToken\", \"location\": 0}',)\n",
      "reference_inputs: ()\n",
      "POST http://127.0.0.1:5000/api/1.0/transaction/process HTTP/1.1\n",
      "{\"transaction\": {\"inputIDs\": [\"0_e35e0b9229cd394cc38aa31c5f5a3b5a93185552622dcd8728e4e6119555dbf8\"], \"methodID\": \"create_surge_client\", \"parameters\": [\"c7220292cd02c9bd0234dfc5a33ae3d1c7eafb13972a17f1e9c6f664d0f7c9b03a68b8c608\", \"92c71d002b25a83d11b5e15fa0d1c53f250a026f24fa4597485e4d734e43c537efc71d002b8ea2d5659c3f55d804d124777fba281bd05913de11cf42ab6a3b0e7a\"], \"outputs\": [\"{\\\"type\\\": \\\"SurgeClient\\\", \\\"location\\\": 0, \\\"pub\\\": \\\"c7220292cd02c9bd0234dfc5a33ae3d1c7eafb13972a17f1e9c6f664d0f7c9b03a68b8c608\\\"}\", \"{\\\"type\\\": \\\"VoteSlipToken\\\", \\\"location\\\": 0, \\\"pub\\\": \\\"c7220292cd02c9bd0234dfc5a33ae3d1c7eafb13972a17f1e9c6f664d0f7c9b03a68b8c608\\\"}\", \"{\\\"type\\\": \\\"EBToken\\\", \\\"location\\\": 0, \\\"pub\\\": \\\"c7220292cd02c9bd0234dfc5a33ae3d1c7eafb13972a17f1e9c6f664d0f7c9b03a68b8c608\\\"}\"], \"returns\": [], \"dependencies\": [], \"referenceInputIDs\": [], \"contractID\": \"surge\"}, \"store\": {\"0_e35e0b9229cd394cc38aa31c5f5a3b5a93185552622dcd8728e4e6119555dbf8\": \"{\\\"type\\\": \\\"InitToken\\\", \\\"location\\\": 0}\"}}\n",
      "HTTP/1.1 200 OK\n",
      "{u'outcome': u'accepted_t_commit', u'success': u'True'}\n",
      "inputs: ('{\"type\": \"InitToken\", \"location\": 1}',)\n",
      "reference_inputs: ()\n",
      "POST http://127.0.0.1:5000/api/1.0/transaction/process HTTP/1.1\n",
      "{\"transaction\": {\"inputIDs\": [\"1_0ff019f87d101d161cae6e0f9ffdc863542a2db0a13d5422ca30d0b2ecc0d530\"], \"methodID\": \"create_surge_client\", \"parameters\": [\"c7220292cd02c9bd02346e5f6c0a5baed85fab4c12ca58167f0f4225c29f8380f548daa3a6\", \"92c71d002b79ca783845f77c94ff1c8d0e181bd2b0a8f6ae25b12232d2e109f6f5c71d002b70a199d0baf17799efc4ea8f89189263f40083deb8e4fff665f4e528\"], \"outputs\": [\"{\\\"type\\\": \\\"SurgeClient\\\", \\\"location\\\": 1, \\\"pub\\\": \\\"c7220292cd02c9bd02346e5f6c0a5baed85fab4c12ca58167f0f4225c29f8380f548daa3a6\\\"}\", \"{\\\"type\\\": \\\"VoteSlipToken\\\", \\\"location\\\": 1, \\\"pub\\\": \\\"c7220292cd02c9bd02346e5f6c0a5baed85fab4c12ca58167f0f4225c29f8380f548daa3a6\\\"}\", \"{\\\"type\\\": \\\"EBToken\\\", \\\"location\\\": 1, \\\"pub\\\": \\\"c7220292cd02c9bd02346e5f6c0a5baed85fab4c12ca58167f0f4225c29f8380f548daa3a6\\\"}\"], \"returns\": [], \"dependencies\": [], \"referenceInputIDs\": [], \"contractID\": \"surge\"}, \"store\": {\"1_0ff019f87d101d161cae6e0f9ffdc863542a2db0a13d5422ca30d0b2ecc0d530\": \"{\\\"type\\\": \\\"InitToken\\\", \\\"location\\\": 1}\"}}\n",
      "HTTP/1.1 200 OK\n",
      "{u'outcome': u'accepted_t_commit', u'success': u'True'}\n",
      "inputs: ('{\"type\": \"InitToken\", \"location\": 1}',)\n",
      "reference_inputs: ()\n",
      "POST http://127.0.0.1:5000/api/1.0/transaction/process HTTP/1.1\n",
      "{\"transaction\": {\"inputIDs\": [\"1_b1373f26144c038ea31b122e30d8cdc60c60d10c7b7dd5efc7052336cf13d906\"], \"methodID\": \"create_surge_client\", \"parameters\": [\"c7220292cd02c9bd03a379a264996aa846c707894cfebba547a058dfb1e0fc7ec8d92c6298\", \"92c71d002bfdbf0ce09a187f13569efb542152bb3871ac4d933b7fe2f77fc224a8c71d002bf98ac83674f5a85a98f9177b554b4c2518c7ec4e218f28a65d795f37\"], \"outputs\": [\"{\\\"type\\\": \\\"SurgeClient\\\", \\\"location\\\": 1, \\\"pub\\\": \\\"c7220292cd02c9bd03a379a264996aa846c707894cfebba547a058dfb1e0fc7ec8d92c6298\\\"}\", \"{\\\"type\\\": \\\"VoteSlipToken\\\", \\\"location\\\": 1, \\\"pub\\\": \\\"c7220292cd02c9bd03a379a264996aa846c707894cfebba547a058dfb1e0fc7ec8d92c6298\\\"}\", \"{\\\"type\\\": \\\"EBToken\\\", \\\"location\\\": 1, \\\"pub\\\": \\\"c7220292cd02c9bd03a379a264996aa846c707894cfebba547a058dfb1e0fc7ec8d92c6298\\\"}\"], \"returns\": [], \"dependencies\": [], \"referenceInputIDs\": [], \"contractID\": \"surge\"}, \"store\": {\"1_b1373f26144c038ea31b122e30d8cdc60c60d10c7b7dd5efc7052336cf13d906\": \"{\\\"type\\\": \\\"InitToken\\\", \\\"location\\\": 1}\"}}\n",
      "HTTP/1.1 200 OK\n",
      "{u'outcome': u'accepted_t_commit', u'success': u'True'}\n",
      "inputs: ('{\"type\": \"InitToken\", \"location\": 2}',)\n",
      "reference_inputs: ()\n",
      "POST http://127.0.0.1:5000/api/1.0/transaction/process HTTP/1.1\n",
      "{\"transaction\": {\"inputIDs\": [\"2_6d7f645d730960408227eba8290b2494718b0981811eb4ee51b8ba11b5aedada\"], \"methodID\": \"create_surge_client\", \"parameters\": [\"c7220292cd02c9bd02c5c7c0d17b8593c1d3e4a9a5a26c3d326989170830b784eecd856cd2\", \"92c71d002bb8e6dd7e2551f8547f4c19003e5a2d317b87a69059c5d0ed0c51c150c71d002bb483a7dad1d066edfaf3fc6ef114e01a81e803df8f3f6c7af35c0ec0\"], \"outputs\": [\"{\\\"type\\\": \\\"SurgeClient\\\", \\\"location\\\": 2, \\\"pub\\\": \\\"c7220292cd02c9bd02c5c7c0d17b8593c1d3e4a9a5a26c3d326989170830b784eecd856cd2\\\"}\", \"{\\\"type\\\": \\\"VoteSlipToken\\\", \\\"location\\\": 2, \\\"pub\\\": \\\"c7220292cd02c9bd02c5c7c0d17b8593c1d3e4a9a5a26c3d326989170830b784eecd856cd2\\\"}\", \"{\\\"type\\\": \\\"EBToken\\\", \\\"location\\\": 2, \\\"pub\\\": \\\"c7220292cd02c9bd02c5c7c0d17b8593c1d3e4a9a5a26c3d326989170830b784eecd856cd2\\\"}\"], \"returns\": [], \"dependencies\": [], \"referenceInputIDs\": [], \"contractID\": \"surge\"}, \"store\": {\"2_6d7f645d730960408227eba8290b2494718b0981811eb4ee51b8ba11b5aedada\": \"{\\\"type\\\": \\\"InitToken\\\", \\\"location\\\": 2}\"}}\n",
      "HTTP/1.1 502 Bad Gateway\n",
      "{u'outcome': u'prepared_t_abort', u'success': u'False'}\n",
      "inputs: ('{\"type\": \"InitToken\", \"location\": 2}',)\n",
      "reference_inputs: ()\n",
      "POST http://127.0.0.1:5000/api/1.0/transaction/process HTTP/1.1\n",
      "{\"transaction\": {\"inputIDs\": [\"2_519c0d963ebcd2b5cb9d25fa38bcd26c4bd01ba55e5b847576cfd2c6d679ea4a\"], \"methodID\": \"create_surge_client\", \"parameters\": [\"c7220292cd02c9bd03aea7ff067f5d8ad40a2242e89a340630bf38d6935c2cc78a6338f490\", \"92c71d002bdfe6bcc8ca8ce9183e3b20b991e7a1f17d554c0726aae3ea3b4d64edc71d002b0d213c7617ae83d70a07baba8b5ebed7c3d1a655ac8dafc8393a6394\"], \"outputs\": [\"{\\\"type\\\": \\\"SurgeClient\\\", \\\"location\\\": 2, \\\"pub\\\": \\\"c7220292cd02c9bd03aea7ff067f5d8ad40a2242e89a340630bf38d6935c2cc78a6338f490\\\"}\", \"{\\\"type\\\": \\\"VoteSlipToken\\\", \\\"location\\\": 2, \\\"pub\\\": \\\"c7220292cd02c9bd03aea7ff067f5d8ad40a2242e89a340630bf38d6935c2cc78a6338f490\\\"}\", \"{\\\"type\\\": \\\"EBToken\\\", \\\"location\\\": 2, \\\"pub\\\": \\\"c7220292cd02c9bd03aea7ff067f5d8ad40a2242e89a340630bf38d6935c2cc78a6338f490\\\"}\"], \"returns\": [], \"dependencies\": [], \"referenceInputIDs\": [], \"contractID\": \"surge\"}, \"store\": {\"2_519c0d963ebcd2b5cb9d25fa38bcd26c4bd01ba55e5b847576cfd2c6d679ea4a\": \"{\\\"type\\\": \\\"InitToken\\\", \\\"location\\\": 2}\"}}\n",
      "HTTP/1.1 200 OK\n",
      "{u'outcome': u'accepted_t_commit', u'success': u'True'}\n",
      "inputs: ('{\"type\": \"VoteSlipToken\", \"location\": 0, \"pub\": \"c7220292cd02c9bd03b2ecc092ef73c5cbc9f8d423bf1d6ba6c357be98c3ec6cacc9710daf\"}',)\n",
      "reference_inputs: ()\n",
      "POST http://127.0.0.1:5000/api/1.0/transaction/process HTTP/1.1\n",
      "{\"transaction\": {\"inputIDs\": [\"0_8baa06aa3ed2b7a22c5e7ef581205a3526dc5099ba41e7cb9a959487270288f2\"], \"methodID\": \"cast_srep_vote\", \"parameters\": [\"92c71d002bb3b876f165af5e6e47d7291dacd42b436647ed417aaabd87f42349d8c71d002b9e422162018d37d8030e2c60ae83add3f93cea94788e6750c3c1d3ac\"], \"outputs\": [\"{\\\"granted_to\\\": \\\"c7220292cd02c9bd02c5c7c0d17b8593c1d3e4a9a5a26c3d326989170830b784eecd856cd2\\\", \\\"type\\\": \\\"SREPVoteToken\\\", \\\"granted_by\\\": \\\"c7220292cd02c9bd03b2ecc092ef73c5cbc9f8d423bf1d6ba6c357be98c3ec6cacc9710daf\\\", \\\"location\\\": 0}\", \"{\\\"type\\\": \\\"VoteSlipToken\\\", \\\"location\\\": 0, \\\"pub\\\": \\\"c7220292cd02c9bd03b2ecc092ef73c5cbc9f8d423bf1d6ba6c357be98c3ec6cacc9710daf\\\"}\"], \"returns\": [], \"dependencies\": [], \"referenceInputIDs\": [], \"contractID\": \"surge\"}, \"store\": {\"0_8baa06aa3ed2b7a22c5e7ef581205a3526dc5099ba41e7cb9a959487270288f2\": \"{\\\"type\\\": \\\"VoteSlipToken\\\", \\\"location\\\": 0, \\\"pub\\\": \\\"c7220292cd02c9bd03b2ecc092ef73c5cbc9f8d423bf1d6ba6c357be98c3ec6cacc9710daf\\\"}\"}}\n"
     ]
    },
    {
     "name": "stdout",
     "output_type": "stream",
     "text": [
      "HTTP/1.1 200 OK\n",
      "{u'outcome': u'accepted_t_commit', u'success': u'True'}\n",
      "inputs: ('{\"type\": \"VoteSlipToken\", \"location\": 0, \"pub\": \"c7220292cd02c9bd0234dfc5a33ae3d1c7eafb13972a17f1e9c6f664d0f7c9b03a68b8c608\"}',)\n",
      "reference_inputs: ()\n",
      "POST http://127.0.0.1:5000/api/1.0/transaction/process HTTP/1.1\n",
      "{\"transaction\": {\"inputIDs\": [\"0_bf16efc261e702328f1b43ad6182aa62968919e62bbeb74e72ead94f6de6ef3a\"], \"methodID\": \"cast_srep_vote\", \"parameters\": [\"92c71d002b1fd179e097708592b898e696b8e96ddcca51604ba30a631ba534eac8c71d002be1090caa870ec50c6c1cd0b170ca2884d4502b28e66553e7470f575b\"], \"outputs\": [\"{\\\"granted_to\\\": \\\"c7220292cd02c9bd02c5c7c0d17b8593c1d3e4a9a5a26c3d326989170830b784eecd856cd2\\\", \\\"type\\\": \\\"SREPVoteToken\\\", \\\"granted_by\\\": \\\"c7220292cd02c9bd0234dfc5a33ae3d1c7eafb13972a17f1e9c6f664d0f7c9b03a68b8c608\\\", \\\"location\\\": 0}\", \"{\\\"type\\\": \\\"VoteSlipToken\\\", \\\"location\\\": 0, \\\"pub\\\": \\\"c7220292cd02c9bd0234dfc5a33ae3d1c7eafb13972a17f1e9c6f664d0f7c9b03a68b8c608\\\"}\"], \"returns\": [], \"dependencies\": [], \"referenceInputIDs\": [], \"contractID\": \"surge\"}, \"store\": {\"0_bf16efc261e702328f1b43ad6182aa62968919e62bbeb74e72ead94f6de6ef3a\": \"{\\\"type\\\": \\\"VoteSlipToken\\\", \\\"location\\\": 0, \\\"pub\\\": \\\"c7220292cd02c9bd0234dfc5a33ae3d1c7eafb13972a17f1e9c6f664d0f7c9b03a68b8c608\\\"}\"}}\n",
      "HTTP/1.1 200 OK\n",
      "{u'outcome': u'accepted_t_commit', u'success': u'True'}\n",
      "inputs: ('{\"granted_to\": \"c7220292cd02c9bd02c5c7c0d17b8593c1d3e4a9a5a26c3d326989170830b784eecd856cd2\", \"type\": \"SREPVoteToken\", \"granted_by\": \"c7220292cd02c9bd03b2ecc092ef73c5cbc9f8d423bf1d6ba6c357be98c3ec6cacc9710daf\", \"location\": 0}', '{\"granted_to\": \"c7220292cd02c9bd02c5c7c0d17b8593c1d3e4a9a5a26c3d326989170830b784eecd856cd2\", \"type\": \"SREPVoteToken\", \"granted_by\": \"c7220292cd02c9bd0234dfc5a33ae3d1c7eafb13972a17f1e9c6f664d0f7c9b03a68b8c608\", \"location\": 0}')\n",
      "reference_inputs: ()\n",
      "POST http://127.0.0.1:5000/api/1.0/transaction/process HTTP/1.1\n",
      "{\"transaction\": {\"inputIDs\": [\"0_5f2975c14b0386653c007263e5cbe0522c0c72e35b0fd0afc325e8d4b2d39e84\", \"0_d1ff54daabf0a294d1c1ff12d82ed6ca670afbe58e027cf8aa803d34a8961fb7\"], \"methodID\": \"create_srep_client\", \"parameters\": [\"c7220292cd02c9bd02c5c7c0d17b8593c1d3e4a9a5a26c3d326989170830b784eecd856cd2\", \"92c71d002bfc43d377a46f24421f473e9403f17d630b50db805f53aa5402ff944ac71d002ba73eab6bee3b9b87178e3f3c79818dd682d653cdeddd043eb2a893ca\"], \"outputs\": [\"{\\\"type\\\": \\\"SREPClient\\\", \\\"location\\\": 0, \\\"pub\\\": \\\"c7220292cd02c9bd02c5c7c0d17b8593c1d3e4a9a5a26c3d326989170830b784eecd856cd2\\\"}\", \"{\\\"type\\\": \\\"VoteSlipToken\\\", \\\"location\\\": 0, \\\"pub\\\": \\\"c7220292cd02c9bd02c5c7c0d17b8593c1d3e4a9a5a26c3d326989170830b784eecd856cd2\\\"}\"], \"returns\": [], \"dependencies\": [], \"referenceInputIDs\": [], \"contractID\": \"surge\"}, \"store\": {\"0_d1ff54daabf0a294d1c1ff12d82ed6ca670afbe58e027cf8aa803d34a8961fb7\": \"{\\\"granted_to\\\": \\\"c7220292cd02c9bd02c5c7c0d17b8593c1d3e4a9a5a26c3d326989170830b784eecd856cd2\\\", \\\"type\\\": \\\"SREPVoteToken\\\", \\\"granted_by\\\": \\\"c7220292cd02c9bd0234dfc5a33ae3d1c7eafb13972a17f1e9c6f664d0f7c9b03a68b8c608\\\", \\\"location\\\": 0}\", \"0_5f2975c14b0386653c007263e5cbe0522c0c72e35b0fd0afc325e8d4b2d39e84\": \"{\\\"granted_to\\\": \\\"c7220292cd02c9bd02c5c7c0d17b8593c1d3e4a9a5a26c3d326989170830b784eecd856cd2\\\", \\\"type\\\": \\\"SREPVoteToken\\\", \\\"granted_by\\\": \\\"c7220292cd02c9bd03b2ecc092ef73c5cbc9f8d423bf1d6ba6c357be98c3ec6cacc9710daf\\\", \\\"location\\\": 0}\"}}\n",
      "HTTP/1.1 200 OK\n",
      "{u'outcome': u'accepted_t_commit', u'success': u'True'}\n",
      "inputs: ('{\"type\": \"VoteSlipToken\", \"location\": 1, \"pub\": \"c7220292cd02c9bd02346e5f6c0a5baed85fab4c12ca58167f0f4225c29f8380f548daa3a6\"}',)\n",
      "reference_inputs: ()\n",
      "POST http://127.0.0.1:5000/api/1.0/transaction/process HTTP/1.1\n",
      "{\"transaction\": {\"inputIDs\": [\"1_e8aec3b845c9cb3acf78fb4c23cfe37e6db0be5e54214bdc74b2a36ebc535ea4\"], \"methodID\": \"cast_srep_vote\", \"parameters\": [\"92c71d002b5a287f142eb10e5f5103fe2bfb6f03e7db1a3bf427ab7e15ed4fb2a3c71d002bc90fbed34068839487af775c25881f345cdc4c4efd2eb4f4fa96b72d\"], \"outputs\": [\"{\\\"granted_to\\\": \\\"c7220292cd02c9bd03aea7ff067f5d8ad40a2242e89a340630bf38d6935c2cc78a6338f490\\\", \\\"type\\\": \\\"SREPVoteToken\\\", \\\"granted_by\\\": \\\"c7220292cd02c9bd02346e5f6c0a5baed85fab4c12ca58167f0f4225c29f8380f548daa3a6\\\", \\\"location\\\": 1}\", \"{\\\"type\\\": \\\"VoteSlipToken\\\", \\\"location\\\": 1, \\\"pub\\\": \\\"c7220292cd02c9bd02346e5f6c0a5baed85fab4c12ca58167f0f4225c29f8380f548daa3a6\\\"}\"], \"returns\": [], \"dependencies\": [], \"referenceInputIDs\": [], \"contractID\": \"surge\"}, \"store\": {\"1_e8aec3b845c9cb3acf78fb4c23cfe37e6db0be5e54214bdc74b2a36ebc535ea4\": \"{\\\"type\\\": \\\"VoteSlipToken\\\", \\\"location\\\": 1, \\\"pub\\\": \\\"c7220292cd02c9bd02346e5f6c0a5baed85fab4c12ca58167f0f4225c29f8380f548daa3a6\\\"}\"}}\n",
      "HTTP/1.1 200 OK\n",
      "{u'outcome': u'accepted_t_commit', u'success': u'True'}\n",
      "inputs: ('{\"type\": \"VoteSlipToken\", \"location\": 1, \"pub\": \"c7220292cd02c9bd03a379a264996aa846c707894cfebba547a058dfb1e0fc7ec8d92c6298\"}',)\n",
      "reference_inputs: ()\n",
      "POST http://127.0.0.1:5000/api/1.0/transaction/process HTTP/1.1\n",
      "{\"transaction\": {\"inputIDs\": [\"1_44b9e0b81633a9531bdefc8426ec91ef0011a0e02299077529e1e203d83de596\"], \"methodID\": \"cast_srep_vote\", \"parameters\": [\"92c71d002b416742bbd1f2301673722879d954348e9438ab8e026fb2c2fc77e48cc71d002ba9585c062c89e41eb869356cea97909f45c6a5286606d10d82d13588\"], \"outputs\": [\"{\\\"granted_to\\\": \\\"c7220292cd02c9bd03aea7ff067f5d8ad40a2242e89a340630bf38d6935c2cc78a6338f490\\\", \\\"type\\\": \\\"SREPVoteToken\\\", \\\"granted_by\\\": \\\"c7220292cd02c9bd03a379a264996aa846c707894cfebba547a058dfb1e0fc7ec8d92c6298\\\", \\\"location\\\": 1}\", \"{\\\"type\\\": \\\"VoteSlipToken\\\", \\\"location\\\": 1, \\\"pub\\\": \\\"c7220292cd02c9bd03a379a264996aa846c707894cfebba547a058dfb1e0fc7ec8d92c6298\\\"}\"], \"returns\": [], \"dependencies\": [], \"referenceInputIDs\": [], \"contractID\": \"surge\"}, \"store\": {\"1_44b9e0b81633a9531bdefc8426ec91ef0011a0e02299077529e1e203d83de596\": \"{\\\"type\\\": \\\"VoteSlipToken\\\", \\\"location\\\": 1, \\\"pub\\\": \\\"c7220292cd02c9bd03a379a264996aa846c707894cfebba547a058dfb1e0fc7ec8d92c6298\\\"}\"}}\n",
      "HTTP/1.1 200 OK\n",
      "{u'outcome': u'accepted_t_commit', u'success': u'True'}\n",
      "inputs: ('{\"granted_to\": \"c7220292cd02c9bd03aea7ff067f5d8ad40a2242e89a340630bf38d6935c2cc78a6338f490\", \"type\": \"SREPVoteToken\", \"granted_by\": \"c7220292cd02c9bd02346e5f6c0a5baed85fab4c12ca58167f0f4225c29f8380f548daa3a6\", \"location\": 1}', '{\"granted_to\": \"c7220292cd02c9bd03aea7ff067f5d8ad40a2242e89a340630bf38d6935c2cc78a6338f490\", \"type\": \"SREPVoteToken\", \"granted_by\": \"c7220292cd02c9bd03a379a264996aa846c707894cfebba547a058dfb1e0fc7ec8d92c6298\", \"location\": 1}')\n",
      "reference_inputs: ()\n",
      "POST http://127.0.0.1:5001/api/1.0/transaction/process HTTP/1.1\n",
      "{\"transaction\": {\"inputIDs\": [\"1_11d3d0ff38650595b501f8a19cd0ba5796967907ec442ab860c53422fd0e8120\", \"1_110d2f4f77f0ab53da3080b4d05dca521a8f81501512835dcdacc4f15484040c\"], \"methodID\": \"create_srep_client\", \"parameters\": [\"c7220292cd02c9bd03aea7ff067f5d8ad40a2242e89a340630bf38d6935c2cc78a6338f490\", \"92c71d002b912da6596c30fb128f96f0acf63df3748ad45ad181e67673372e034ac71d002bea48ff864ff060a2b9897b05419143c80773c3f4fe38e23a99b4e9a1\"], \"outputs\": [\"{\\\"type\\\": \\\"SREPClient\\\", \\\"location\\\": 1, \\\"pub\\\": \\\"c7220292cd02c9bd03aea7ff067f5d8ad40a2242e89a340630bf38d6935c2cc78a6338f490\\\"}\", \"{\\\"type\\\": \\\"VoteSlipToken\\\", \\\"location\\\": 1, \\\"pub\\\": \\\"c7220292cd02c9bd03aea7ff067f5d8ad40a2242e89a340630bf38d6935c2cc78a6338f490\\\"}\"], \"returns\": [], \"dependencies\": [], \"referenceInputIDs\": [], \"contractID\": \"surge\"}, \"store\": {\"1_110d2f4f77f0ab53da3080b4d05dca521a8f81501512835dcdacc4f15484040c\": \"{\\\"granted_to\\\": \\\"c7220292cd02c9bd03aea7ff067f5d8ad40a2242e89a340630bf38d6935c2cc78a6338f490\\\", \\\"type\\\": \\\"SREPVoteToken\\\", \\\"granted_by\\\": \\\"c7220292cd02c9bd03a379a264996aa846c707894cfebba547a058dfb1e0fc7ec8d92c6298\\\", \\\"location\\\": 1}\", \"1_11d3d0ff38650595b501f8a19cd0ba5796967907ec442ab860c53422fd0e8120\": \"{\\\"granted_to\\\": \\\"c7220292cd02c9bd03aea7ff067f5d8ad40a2242e89a340630bf38d6935c2cc78a6338f490\\\", \\\"type\\\": \\\"SREPVoteToken\\\", \\\"granted_by\\\": \\\"c7220292cd02c9bd02346e5f6c0a5baed85fab4c12ca58167f0f4225c29f8380f548daa3a6\\\", \\\"location\\\": 1}\"}}\n",
      "HTTP/1.1 200 OK\n",
      "{u'outcome': u'accepted_t_commit', u'success': u'True'}\n"
     ]
    }
   ],
   "source": [
    "# Create prosumer clients for locations 0 and 1\n",
    "c00 = surge.SurgeClient(5000, init_token1) # location=0\n",
    "c01 = surge.SurgeClient(5000, init_token2) # location=0\n",
    "c10 = surge.SurgeClient(5001, init_token3) # location=1\n",
    "c11 = surge.SurgeClient(5001, init_token4) # location=1\n",
    "# Create sreps for locations 0 and 1 which will be clients in location 2\n",
    "rep0 = surge.SREPClient(5002, init_token5) # location=2\n",
    "rep1 = surge.SREPClient(5002, init_token6) # location=2\n",
    "\n",
    "# Elect rep1 as SREP for location 0\n",
    "votes = (c00.cast_srep_vote(rep0.pub), c01.cast_srep_vote(rep0.pub))\n",
    "rep0.create_srep_client(5000, votes) \n",
    "\n",
    "# Elect rep2 as SREP for location 1\n",
    "votes = (c10.cast_srep_vote(rep1.pub), c11.cast_srep_vote(rep1.pub))\n",
    "rep1.create_srep_client(5001, votes) \n"
   ]
  },
  {
   "cell_type": "code",
   "execution_count": 5,
   "metadata": {},
   "outputs": [],
   "source": [
    "t00 = threading.Thread(target=c00.submit_bid, args=('EBBuy',50)) \n",
    "t01 = threading.Thread(target=c01.submit_bid, args=('EBSell',55)) \n",
    "trep0 = threading.Thread(target=rep0.accept_bids) \n",
    "\n",
    "t10 = threading.Thread(target=c10.submit_bid, args=('EBBuy',55)) \n",
    "t11 = threading.Thread(target=c11.submit_bid, args=('EBSell',50)) \n",
    "trep1 = threading.Thread(target=rep1.accept_bids) \n"
   ]
  },
  {
   "cell_type": "code",
   "execution_count": 6,
   "metadata": {
    "scrolled": true
   },
   "outputs": [
    {
     "name": "stdout",
     "output_type": "stream",
     "text": [
      "inputs: ('{\"type\": \"EBToken\", \"location\": 0, \"pub\": \"c7220292cd02c9bd03b2ecc092ef73c5cbc9f8d423bf1d6ba6c357be98c3ec6cacc9710daf\"}',)\n",
      "reference_inputs: ()\n",
      "inputs: ('{\"type\": \"EBToken\", \"location\": 1, \"pub\": \"c7220292cd02c9bd02346e5f6c0a5baed85fab4c12ca58167f0f4225c29f8380f548daa3a6\"}',)\n",
      "reference_inputs: ()\n",
      "inputs: ('{\"type\": \"EBToken\", \"location\": 0, \"pub\": \"c7220292cd02c9bd0234dfc5a33ae3d1c7eafb13972a17f1e9c6f664d0f7c9b03a68b8c608\"}',)\n",
      "reference_inputs: ()\n",
      "inputs: ('{\"type\": \"EBToken\", \"location\": 1, \"pub\": \"c7220292cd02c9bd03a379a264996aa846c707894cfebba547a058dfb1e0fc7ec8d92c6298\"}',)\n",
      "reference_inputs: ()\n",
      "POST http://127.0.0.1:5000/api/1.0/transaction/process HTTP/1.1\n",
      "{\"transaction\": {\"inputIDs\": [\"0_89b7aa7a1519da8f7e22ae82afb5f22fbaf2bb5c718f4f5cc3b488d1356830bb\"], \"methodID\": \"submit_bid_proof\", \"parameters\": [\"EBBuy\", \"92c71d002b8eea8aaab13a12c5689d43113327b9ed532a9b956cd605b2da0c0fefc71d002b9d581c426c2fd20d7ea347e5a8577461bc485f23e9fd8865a66d66dc\"], \"outputs\": [\"{\\\"bid_type\\\": \\\"EBBuy\\\", \\\"type\\\": \\\"BidProof\\\", \\\"location\\\": 0, \\\"pub\\\": \\\"c7220292cd02c9bd03b2ecc092ef73c5cbc9f8d423bf1d6ba6c357be98c3ec6cacc9710daf\\\", \\\"quantity_sig\\\": \\\"92c71d002b22f26ed33a6808832defcefb2236b9bb601cec13344ae372c6de83a0c71d002b1d46b5b5159b85c4a82cb93c558d296783a656c5d99d8bda83fe9f27\\\"}\", \"{\\\"type\\\": \\\"EBToken\\\", \\\"location\\\": 0, \\\"pub\\\": \\\"c7220292cd02c9bd03b2ecc092ef73c5cbc9f8d423bf1d6ba6c357be98c3ec6cacc9710daf\\\"}\"], \"returns\": [], \"dependencies\": [], \"referenceInputIDs\": [], \"contractID\": \"surge\"}, \"store\": {\"0_89b7aa7a1519da8f7e22ae82afb5f22fbaf2bb5c718f4f5cc3b488d1356830bb\": \"{\\\"type\\\": \\\"EBToken\\\", \\\"location\\\": 0, \\\"pub\\\": \\\"c7220292cd02c9bd03b2ecc092ef73c5cbc9f8d423bf1d6ba6c357be98c3ec6cacc9710daf\\\"}\"}}\n",
      "POST http://127.0.0.1:5000/api/1.0/transaction/process HTTP/1.1\n",
      "{\"transaction\": {\"inputIDs\": [\"0_0abdf4ce48e9a617d25594c794c48439c0b8acca316ef2b6035f21555ac31943\"], \"methodID\": \"submit_bid_proof\", \"parameters\": [\"EBSell\", \"92c71d002b59e32d7edc09dd2c8f2cfc4c235c63e25d9f1b7a8352dfe1997c334ec71d002bb2f25375519a881fb0aa9de92fe77865dd0eebb19147c7dcb7f53c47\"], \"outputs\": [\"{\\\"bid_type\\\": \\\"EBSell\\\", \\\"type\\\": \\\"BidProof\\\", \\\"location\\\": 0, \\\"pub\\\": \\\"c7220292cd02c9bd0234dfc5a33ae3d1c7eafb13972a17f1e9c6f664d0f7c9b03a68b8c608\\\", \\\"quantity_sig\\\": \\\"92c71d002b0cc85c373e32b7bfe946d6723a3f9f82b1fbc9123a59195f7f7df11ac71d002b5f1fd32e6f7ab66025931d51ad05ba9625d592847d4edce8f627e97d\\\"}\", \"{\\\"type\\\": \\\"EBToken\\\", \\\"location\\\": 0, \\\"pub\\\": \\\"c7220292cd02c9bd0234dfc5a33ae3d1c7eafb13972a17f1e9c6f664d0f7c9b03a68b8c608\\\"}\"], \"returns\": [], \"dependencies\": [], \"referenceInputIDs\": [], \"contractID\": \"surge\"}, \"store\": {\"0_0abdf4ce48e9a617d25594c794c48439c0b8acca316ef2b6035f21555ac31943\": \"{\\\"type\\\": \\\"EBToken\\\", \\\"location\\\": 0, \\\"pub\\\": \\\"c7220292cd02c9bd0234dfc5a33ae3d1c7eafb13972a17f1e9c6f664d0f7c9b03a68b8c608\\\"}\"}}\n",
      "POST http://127.0.0.1:5000/api/1.0/transaction/process HTTP/1.1\n",
      "{\"transaction\": {\"inputIDs\": [\"1_66a15051fc78dc066451b6ff19aade03533bdd6051ab82e42a8a3f7b41d6db36\"], \"methodID\": \"submit_bid_proof\", \"parameters\": [\"EBBuy\", \"92c71d002bf7055fdd3c0a0454aebc1097e1b0a295dd205c316418e54266a185d8c71d002bbf260d1ba9b1bd959841d758b4042940b9d5d5c946551918fe5419db\"], \"outputs\": [\"{\\\"bid_type\\\": \\\"EBBuy\\\", \\\"type\\\": \\\"BidProof\\\", \\\"location\\\": 1, \\\"pub\\\": \\\"c7220292cd02c9bd02346e5f6c0a5baed85fab4c12ca58167f0f4225c29f8380f548daa3a6\\\", \\\"quantity_sig\\\": \\\"92c71d002b53a3cc2851576bf5ca15b5f31fce85d3f77e49cdda841501b8d0a5ecc71d002b1ef2c6960c28d98a9e6f284d253fc619364aaaa5760413256491a6f8\\\"}\", \"{\\\"type\\\": \\\"EBToken\\\", \\\"location\\\": 1, \\\"pub\\\": \\\"c7220292cd02c9bd02346e5f6c0a5baed85fab4c12ca58167f0f4225c29f8380f548daa3a6\\\"}\"], \"returns\": [], \"dependencies\": [], \"referenceInputIDs\": [], \"contractID\": \"surge\"}, \"store\": {\"1_66a15051fc78dc066451b6ff19aade03533bdd6051ab82e42a8a3f7b41d6db36\": \"{\\\"type\\\": \\\"EBToken\\\", \\\"location\\\": 1, \\\"pub\\\": \\\"c7220292cd02c9bd02346e5f6c0a5baed85fab4c12ca58167f0f4225c29f8380f548daa3a6\\\"}\"}}\n",
      "POST http://127.0.0.1:5000/api/1.0/transaction/process HTTP/1.1\n",
      "{\"transaction\": {\"inputIDs\": [\"1_e95a6e22ea4f7e7d86409d11ed97e246133f13a094104d475dd6f02b19cf6a38\"], \"methodID\": \"submit_bid_proof\", \"parameters\": [\"EBSell\", \"92c71d002b642af7c2e5fac2a1923b58feed4b33437bd5c336dcb6e36bdfdaac1bc71d002b3f634988a8b062cd618ad61f427a6f0f7e2af6abbe15374fca893a2d\"], \"outputs\": [\"{\\\"bid_type\\\": \\\"EBSell\\\", \\\"type\\\": \\\"BidProof\\\", \\\"location\\\": 1, \\\"pub\\\": \\\"c7220292cd02c9bd03a379a264996aa846c707894cfebba547a058dfb1e0fc7ec8d92c6298\\\", \\\"quantity_sig\\\": \\\"92c71d002b7e208a535f3fd30d8b2fecd7769699255c423cb611d16c3aa680d92bc71d002b93fbc1992529da695a74c8f56d4abace979ba7568aecd5c3130ea505\\\"}\", \"{\\\"type\\\": \\\"EBToken\\\", \\\"location\\\": 1, \\\"pub\\\": \\\"c7220292cd02c9bd03a379a264996aa846c707894cfebba547a058dfb1e0fc7ec8d92c6298\\\"}\"], \"returns\": [], \"dependencies\": [], \"referenceInputIDs\": [], \"contractID\": \"surge\"}, \"store\": {\"1_e95a6e22ea4f7e7d86409d11ed97e246133f13a094104d475dd6f02b19cf6a38\": \"{\\\"type\\\": \\\"EBToken\\\", \\\"location\\\": 1, \\\"pub\\\": \\\"c7220292cd02c9bd03a379a264996aa846c707894cfebba547a058dfb1e0fc7ec8d92c6298\\\"}\"}}\n",
      "HTTP/1.1 200 OK\n",
      "{u'outcome': u'accepted_t_commit', u'success': u'True'}\n",
      "HTTP/1.1 200 OK\n",
      "{u'outcome': u'accepted_t_commit', u'success': u'True'}\n",
      "HTTP/1.1 200 OK\n",
      "{u'outcome': u'accepted_t_commit', u'success': u'True'}\n",
      "HTTP/1.1 200 OK\n",
      "{u'outcome': u'accepted_t_commit', u'success': u'True'}\n",
      "http://127.0.0.1:5001/api/1.0/objects?status=1\n",
      "HTTP/1.1 200 OK\n",
      "http://127.0.0.1:5000/api/1.0/objects?status=1\n",
      "HTTP/1.1 200 OK\n",
      "inputs: ('{\"bid_type\": \"EBBuy\", \"type\": \"BidProof\", \"location\": 1, \"pub\": \"c7220292cd02c9bd02346e5f6c0a5baed85fab4c12ca58167f0f4225c29f8380f548daa3a6\", \"quantity_sig\": \"92c71d002b53a3cc2851576bf5ca15b5f31fce85d3f77e49cdda841501b8d0a5ecc71d002b1ef2c6960c28d98a9e6f284d253fc619364aaaa5760413256491a6f8\"}',)\n",
      "reference_inputs: ()\n",
      "POST http://127.0.0.1:5000/api/1.0/transaction/process HTTP/1.1\n",
      "{\"transaction\": {\"inputIDs\": [\"1_4aa88dc36aaa5e22572862a99e3560758218052d79c1867b4473ab63d1926553\"], \"methodID\": \"submit_bid\", \"parameters\": [55, \"92c71d002b6f6e3159f531a80acfbadc5a5d024241a1b7fe7130f39adf32e8e108c71d002bfa662f17f482a9f27b15400436e30d003bbaa0e109455e9e34923a4d\"], \"outputs\": [\"{\\\"quantity_sig\\\": \\\"92c71d002b53a3cc2851576bf5ca15b5f31fce85d3f77e49cdda841501b8d0a5ecc71d002b1ef2c6960c28d98a9e6f284d253fc619364aaaa5760413256491a6f8\\\", \\\"type\\\": \\\"EBBuy\\\", \\\"location\\\": 1, \\\"pub\\\": \\\"c7220292cd02c9bd02346e5f6c0a5baed85fab4c12ca58167f0f4225c29f8380f548daa3a6\\\", \\\"quantity\\\": 55}\"], \"returns\": [], \"dependencies\": [], \"referenceInputIDs\": [], \"contractID\": \"surge\"}, \"store\": {\"1_4aa88dc36aaa5e22572862a99e3560758218052d79c1867b4473ab63d1926553\": \"{\\\"bid_type\\\": \\\"EBBuy\\\", \\\"type\\\": \\\"BidProof\\\", \\\"location\\\": 1, \\\"pub\\\": \\\"c7220292cd02c9bd02346e5f6c0a5baed85fab4c12ca58167f0f4225c29f8380f548daa3a6\\\", \\\"quantity_sig\\\": \\\"92c71d002b53a3cc2851576bf5ca15b5f31fce85d3f77e49cdda841501b8d0a5ecc71d002b1ef2c6960c28d98a9e6f284d253fc619364aaaa5760413256491a6f8\\\"}\"}}\n",
      "inputs: ('{\"bid_type\": \"EBBuy\", \"type\": \"BidProof\", \"location\": 0, \"pub\": \"c7220292cd02c9bd03b2ecc092ef73c5cbc9f8d423bf1d6ba6c357be98c3ec6cacc9710daf\", \"quantity_sig\": \"92c71d002b22f26ed33a6808832defcefb2236b9bb601cec13344ae372c6de83a0c71d002b1d46b5b5159b85c4a82cb93c558d296783a656c5d99d8bda83fe9f27\"}',)\n",
      "reference_inputs: ()\n",
      "POST http://127.0.0.1:5000/api/1.0/transaction/process HTTP/1.1\n",
      "{\"transaction\": {\"inputIDs\": [\"0_ef4b742e27b445bd1368f5baa7d25439c8dadaf7507e9a3a48110df19a7f6ad7\"], \"methodID\": \"submit_bid\", \"parameters\": [50, \"92c71d002b2898321501926bfec28ba23e556f92be25c7b3e6e568b95308b6be48c71d002bd00c9fcca324190c29bd8a0c85a4033cbfc8fdd630a9a3c21db5a88b\"], \"outputs\": [\"{\\\"quantity_sig\\\": \\\"92c71d002b22f26ed33a6808832defcefb2236b9bb601cec13344ae372c6de83a0c71d002b1d46b5b5159b85c4a82cb93c558d296783a656c5d99d8bda83fe9f27\\\", \\\"type\\\": \\\"EBBuy\\\", \\\"location\\\": 0, \\\"pub\\\": \\\"c7220292cd02c9bd03b2ecc092ef73c5cbc9f8d423bf1d6ba6c357be98c3ec6cacc9710daf\\\", \\\"quantity\\\": 50}\"], \"returns\": [], \"dependencies\": [], \"referenceInputIDs\": [], \"contractID\": \"surge\"}, \"store\": {\"0_ef4b742e27b445bd1368f5baa7d25439c8dadaf7507e9a3a48110df19a7f6ad7\": \"{\\\"bid_type\\\": \\\"EBBuy\\\", \\\"type\\\": \\\"BidProof\\\", \\\"location\\\": 0, \\\"pub\\\": \\\"c7220292cd02c9bd03b2ecc092ef73c5cbc9f8d423bf1d6ba6c357be98c3ec6cacc9710daf\\\", \\\"quantity_sig\\\": \\\"92c71d002b22f26ed33a6808832defcefb2236b9bb601cec13344ae372c6de83a0c71d002b1d46b5b5159b85c4a82cb93c558d296783a656c5d99d8bda83fe9f27\\\"}\"}}\n",
      "inputs: ('{\"bid_type\": \"EBSell\", \"type\": \"BidProof\", \"location\": 0, \"pub\": \"c7220292cd02c9bd0234dfc5a33ae3d1c7eafb13972a17f1e9c6f664d0f7c9b03a68b8c608\", \"quantity_sig\": \"92c71d002b0cc85c373e32b7bfe946d6723a3f9f82b1fbc9123a59195f7f7df11ac71d002b5f1fd32e6f7ab66025931d51ad05ba9625d592847d4edce8f627e97d\"}',)\n",
      "reference_inputs: ()\n"
     ]
    },
    {
     "name": "stdout",
     "output_type": "stream",
     "text": [
      "POST http://127.0.0.1:5000/api/1.0/transaction/process HTTP/1.1\n",
      "{\"transaction\": {\"inputIDs\": [\"0_73986a086069534421b0a8cd9d928f69ad7cb957962d085fd1e787102e06d968\"], \"methodID\": \"submit_bid\", \"parameters\": [55, \"92c71d002bc2efdc19d8b371064e8ab2bd31cbefeb777f573a0f6a6cbe4cbe0e47c71d002be1476968fc303b2c889e929d0cab1519e7ecb135b74cbeb1458c9d93\"], \"outputs\": [\"{\\\"quantity_sig\\\": \\\"92c71d002b0cc85c373e32b7bfe946d6723a3f9f82b1fbc9123a59195f7f7df11ac71d002b5f1fd32e6f7ab66025931d51ad05ba9625d592847d4edce8f627e97d\\\", \\\"type\\\": \\\"EBSell\\\", \\\"location\\\": 0, \\\"pub\\\": \\\"c7220292cd02c9bd0234dfc5a33ae3d1c7eafb13972a17f1e9c6f664d0f7c9b03a68b8c608\\\", \\\"quantity\\\": 55}\"], \"returns\": [], \"dependencies\": [], \"referenceInputIDs\": [], \"contractID\": \"surge\"}, \"store\": {\"0_73986a086069534421b0a8cd9d928f69ad7cb957962d085fd1e787102e06d968\": \"{\\\"bid_type\\\": \\\"EBSell\\\", \\\"type\\\": \\\"BidProof\\\", \\\"location\\\": 0, \\\"pub\\\": \\\"c7220292cd02c9bd0234dfc5a33ae3d1c7eafb13972a17f1e9c6f664d0f7c9b03a68b8c608\\\", \\\"quantity_sig\\\": \\\"92c71d002b0cc85c373e32b7bfe946d6723a3f9f82b1fbc9123a59195f7f7df11ac71d002b5f1fd32e6f7ab66025931d51ad05ba9625d592847d4edce8f627e97d\\\"}\"}}\n",
      "inputs: ('{\"bid_type\": \"EBSell\", \"type\": \"BidProof\", \"location\": 1, \"pub\": \"c7220292cd02c9bd03a379a264996aa846c707894cfebba547a058dfb1e0fc7ec8d92c6298\", \"quantity_sig\": \"92c71d002b7e208a535f3fd30d8b2fecd7769699255c423cb611d16c3aa680d92bc71d002b93fbc1992529da695a74c8f56d4abace979ba7568aecd5c3130ea505\"}',)\n",
      "reference_inputs: ()\n",
      "POST http://127.0.0.1:5000/api/1.0/transaction/process HTTP/1.1\n",
      "{\"transaction\": {\"inputIDs\": [\"1_cdfd27cce7ccb2401857f65f61059f1f998f362c959a03984e6553fcd278c108\"], \"methodID\": \"submit_bid\", \"parameters\": [50, \"92c71d002bc35d233840340d924ba1464301c358b0dae4a04c94b34ec631db92ebc71d002bbacd1263ee3ba9223c1795db47fb01c36627cefd5cbb0772ffe9b027\"], \"outputs\": [\"{\\\"quantity_sig\\\": \\\"92c71d002b7e208a535f3fd30d8b2fecd7769699255c423cb611d16c3aa680d92bc71d002b93fbc1992529da695a74c8f56d4abace979ba7568aecd5c3130ea505\\\", \\\"type\\\": \\\"EBSell\\\", \\\"location\\\": 1, \\\"pub\\\": \\\"c7220292cd02c9bd03a379a264996aa846c707894cfebba547a058dfb1e0fc7ec8d92c6298\\\", \\\"quantity\\\": 50}\"], \"returns\": [], \"dependencies\": [], \"referenceInputIDs\": [], \"contractID\": \"surge\"}, \"store\": {\"1_cdfd27cce7ccb2401857f65f61059f1f998f362c959a03984e6553fcd278c108\": \"{\\\"bid_type\\\": \\\"EBSell\\\", \\\"type\\\": \\\"BidProof\\\", \\\"location\\\": 1, \\\"pub\\\": \\\"c7220292cd02c9bd03a379a264996aa846c707894cfebba547a058dfb1e0fc7ec8d92c6298\\\", \\\"quantity_sig\\\": \\\"92c71d002b7e208a535f3fd30d8b2fecd7769699255c423cb611d16c3aa680d92bc71d002b93fbc1992529da695a74c8f56d4abace979ba7568aecd5c3130ea505\\\"}\"}}\n",
      "HTTP/1.1 200 OK\n",
      "{u'outcome': u'accepted_t_commit', u'success': u'True'}\n",
      "HTTP/1.1 200 OK\n",
      "{u'outcome': u'accepted_t_commit', u'success': u'True'}\n",
      "HTTP/1.1 200 OK\n",
      "{u'outcome': u'accepted_t_commit', u'success': u'True'}\n",
      "HTTP/1.1 200 OK\n",
      "{u'outcome': u'accepted_t_commit', u'success': u'True'}\n",
      "http://127.0.0.1:5001/api/1.0/objects?status=1\n",
      "HTTP/1.1 200 OK\n",
      "http://127.0.0.1:5001/api/1.0/objects?status=1\n",
      "HTTP/1.1 200 OK\n",
      "http://127.0.0.1:5000/api/1.0/objects?status=1\n",
      "HTTP/1.1 200 OK\n",
      "http://127.0.0.1:5000/api/1.0/objects?status=1\n",
      "HTTP/1.1 200 OK\n",
      "inputs: ('{\"quantity_sig\": \"92c71d002b53a3cc2851576bf5ca15b5f31fce85d3f77e49cdda841501b8d0a5ecc71d002b1ef2c6960c28d98a9e6f284d253fc619364aaaa5760413256491a6f8\", \"type\": \"EBBuy\", \"location\": 1, \"pub\": \"c7220292cd02c9bd02346e5f6c0a5baed85fab4c12ca58167f0f4225c29f8380f548daa3a6\", \"quantity\": 55}', '{\"quantity_sig\": \"92c71d002b7e208a535f3fd30d8b2fecd7769699255c423cb611d16c3aa680d92bc71d002b93fbc1992529da695a74c8f56d4abace979ba7568aecd5c3130ea505\", \"type\": \"EBSell\", \"location\": 1, \"pub\": \"c7220292cd02c9bd03a379a264996aa846c707894cfebba547a058dfb1e0fc7ec8d92c6298\", \"quantity\": 50}')\n",
      "reference_inputs: ()\n",
      "inputs: ('{\"quantity_sig\": \"92c71d002b22f26ed33a6808832defcefb2236b9bb601cec13344ae372c6de83a0c71d002b1d46b5b5159b85c4a82cb93c558d296783a656c5d99d8bda83fe9f27\", \"type\": \"EBBuy\", \"location\": 0, \"pub\": \"c7220292cd02c9bd03b2ecc092ef73c5cbc9f8d423bf1d6ba6c357be98c3ec6cacc9710daf\", \"quantity\": 50}', '{\"quantity_sig\": \"92c71d002b0cc85c373e32b7bfe946d6723a3f9f82b1fbc9123a59195f7f7df11ac71d002b5f1fd32e6f7ab66025931d51ad05ba9625d592847d4edce8f627e97d\", \"type\": \"EBSell\", \"location\": 0, \"pub\": \"c7220292cd02c9bd0234dfc5a33ae3d1c7eafb13972a17f1e9c6f664d0f7c9b03a68b8c608\", \"quantity\": 55}')\n",
      "reference_inputs: ()\n",
      "POST http://127.0.0.1:5001/api/1.0/transaction/process HTTP/1.1\n",
      "{\"transaction\": {\"inputIDs\": [\"1_4a3bd4308a9073cae9496bc6f931b21a30a78474d5bbee7157df047526e4ca3c\", \"1_531a55e09cbc5f1a78997a3bf4ea975583ba556571a874e22e86222d6d14b146\"], \"methodID\": \"accept_bids\", \"parameters\": [\"c7220292cd02c9bd03aea7ff067f5d8ad40a2242e89a340630bf38d6935c2cc78a6338f490\", \"92c71d002b4d63641d519d263e46996a99eef54d753c04c3adbc6fc7fab5218621c71d002bba80966d00068a84d525b33c5f165ffdc0a3cad1ae9b859586bbcd62\"], \"outputs\": [\"{\\\"total_sell\\\": 50, \\\"type\\\": \\\"BidAccept\\\", \\\"pub\\\": \\\"c7220292cd02c9bd03aea7ff067f5d8ad40a2242e89a340630bf38d6935c2cc78a6338f490\\\", \\\"total_buy\\\": 55, \\\"location\\\": 1}\"], \"returns\": [], \"dependencies\": [], \"referenceInputIDs\": [], \"contractID\": \"surge\"}, \"store\": {\"1_4a3bd4308a9073cae9496bc6f931b21a30a78474d5bbee7157df047526e4ca3c\": \"{\\\"quantity_sig\\\": \\\"92c71d002b53a3cc2851576bf5ca15b5f31fce85d3f77e49cdda841501b8d0a5ecc71d002b1ef2c6960c28d98a9e6f284d253fc619364aaaa5760413256491a6f8\\\", \\\"type\\\": \\\"EBBuy\\\", \\\"location\\\": 1, \\\"pub\\\": \\\"c7220292cd02c9bd02346e5f6c0a5baed85fab4c12ca58167f0f4225c29f8380f548daa3a6\\\", \\\"quantity\\\": 55}\", \"1_531a55e09cbc5f1a78997a3bf4ea975583ba556571a874e22e86222d6d14b146\": \"{\\\"quantity_sig\\\": \\\"92c71d002b7e208a535f3fd30d8b2fecd7769699255c423cb611d16c3aa680d92bc71d002b93fbc1992529da695a74c8f56d4abace979ba7568aecd5c3130ea505\\\", \\\"type\\\": \\\"EBSell\\\", \\\"location\\\": 1, \\\"pub\\\": \\\"c7220292cd02c9bd03a379a264996aa846c707894cfebba547a058dfb1e0fc7ec8d92c6298\\\", \\\"quantity\\\": 50}\"}}\n",
      "POST http://127.0.0.1:5000/api/1.0/transaction/process HTTP/1.1\n",
      "{\"transaction\": {\"inputIDs\": [\"0_d6a064e8d420b2c12a4185c08b9ff6559c6016c81e527fcb758889126a497af9\", \"0_ebd602d6a714cddf907124f3e4a6c0fa5155166d4f66a8aed008501042c31061\"], \"methodID\": \"accept_bids\", \"parameters\": [\"c7220292cd02c9bd02c5c7c0d17b8593c1d3e4a9a5a26c3d326989170830b784eecd856cd2\", \"92c71d002b74dac3bb576c31e754d051442ecc6813ba8deb610b6eadb51d22fca7c71d002bef7d69244baa2e83d5461160a16858c03605bcbfc3fac91eeba0a5bf\"], \"outputs\": [\"{\\\"total_sell\\\": 55, \\\"type\\\": \\\"BidAccept\\\", \\\"pub\\\": \\\"c7220292cd02c9bd02c5c7c0d17b8593c1d3e4a9a5a26c3d326989170830b784eecd856cd2\\\", \\\"total_buy\\\": 50, \\\"location\\\": 0}\"], \"returns\": [], \"dependencies\": [], \"referenceInputIDs\": [], \"contractID\": \"surge\"}, \"store\": {\"0_d6a064e8d420b2c12a4185c08b9ff6559c6016c81e527fcb758889126a497af9\": \"{\\\"quantity_sig\\\": \\\"92c71d002b22f26ed33a6808832defcefb2236b9bb601cec13344ae372c6de83a0c71d002b1d46b5b5159b85c4a82cb93c558d296783a656c5d99d8bda83fe9f27\\\", \\\"type\\\": \\\"EBBuy\\\", \\\"location\\\": 0, \\\"pub\\\": \\\"c7220292cd02c9bd03b2ecc092ef73c5cbc9f8d423bf1d6ba6c357be98c3ec6cacc9710daf\\\", \\\"quantity\\\": 50}\", \"0_ebd602d6a714cddf907124f3e4a6c0fa5155166d4f66a8aed008501042c31061\": \"{\\\"quantity_sig\\\": \\\"92c71d002b0cc85c373e32b7bfe946d6723a3f9f82b1fbc9123a59195f7f7df11ac71d002b5f1fd32e6f7ab66025931d51ad05ba9625d592847d4edce8f627e97d\\\", \\\"type\\\": \\\"EBSell\\\", \\\"location\\\": 0, \\\"pub\\\": \\\"c7220292cd02c9bd0234dfc5a33ae3d1c7eafb13972a17f1e9c6f664d0f7c9b03a68b8c608\\\", \\\"quantity\\\": 55}\"}}\n",
      "HTTP/1.1 200 OK\n",
      "{u'outcome': u'accepted_t_commit', u'success': u'True'}\n",
      "HTTP/1.1 200 OK\n",
      "{u'outcome': u'accepted_t_commit', u'success': u'True'}\n"
     ]
    }
   ],
   "source": [
    "t00.start()\n",
    "t01.start()\n",
    "trep0.start()\n",
    "t10.start()\n",
    "t11.start()\n",
    "trep1.start()\n",
    "\n",
    "t00.join()\n",
    "t01.join()\n",
    "trep0.join()\n",
    "t10.join()\n",
    "t11.join()\n",
    "trep1.join()\n"
   ]
  },
  {
   "cell_type": "code",
   "execution_count": 12,
   "metadata": {},
   "outputs": [
    {
     "name": "stdout",
     "output_type": "stream",
     "text": [
      "http://127.0.0.1:5001/api/1.0/objects?status=1\n",
      "HTTP/1.1 200 OK\n"
     ]
    },
    {
     "data": {
      "text/plain": [
       "['{\"type\": \"SurgeClient\", \"location\": 1, \"pub\": \"c7220292cd02c9bd02346e5f6c0a5baed85fab4c12ca58167f0f4225c29f8380f548daa3a6\"}',\n",
       " '{\"type\": \"SurgeClient\", \"location\": 1, \"pub\": \"c7220292cd02c9bd03a379a264996aa846c707894cfebba547a058dfb1e0fc7ec8d92c6298\"}',\n",
       " '{\"type\": \"VoteSlipToken\", \"location\": 1, \"pub\": \"c7220292cd02c9bd02346e5f6c0a5baed85fab4c12ca58167f0f4225c29f8380f548daa3a6\"}',\n",
       " '{\"type\": \"VoteSlipToken\", \"location\": 1, \"pub\": \"c7220292cd02c9bd03a379a264996aa846c707894cfebba547a058dfb1e0fc7ec8d92c6298\"}',\n",
       " '{\"type\": \"SREPClient\", \"location\": 1, \"pub\": \"c7220292cd02c9bd03aea7ff067f5d8ad40a2242e89a340630bf38d6935c2cc78a6338f490\"}',\n",
       " '{\"type\": \"VoteSlipToken\", \"location\": 1, \"pub\": \"c7220292cd02c9bd03aea7ff067f5d8ad40a2242e89a340630bf38d6935c2cc78a6338f490\"}',\n",
       " '{\"type\": \"EBToken\", \"location\": 1, \"pub\": \"c7220292cd02c9bd02346e5f6c0a5baed85fab4c12ca58167f0f4225c29f8380f548daa3a6\"}',\n",
       " '{\"type\": \"EBToken\", \"location\": 1, \"pub\": \"c7220292cd02c9bd03a379a264996aa846c707894cfebba547a058dfb1e0fc7ec8d92c6298\"}',\n",
       " '{\"total_sell\": 50, \"type\": \"BidAccept\", \"location\": 1, \"pub\": \"c7220292cd02c9bd03aea7ff067f5d8ad40a2242e89a340630bf38d6935c2cc78a6338f490\", \"total_buy\": 55}']"
      ]
     },
     "execution_count": 12,
     "metadata": {},
     "output_type": "execute_result"
    }
   ],
   "source": [
    "# '{}|{}'.format(50, loads(r1.ebtoken)['pub'])\n",
    "# global_client.fix_json(\"{'type':'EBBuy','location':0\")\n",
    "global_client = ChainspaceClient(port=5001)\n",
    "global_client.get_objects({'location':1})\n",
    "# print buy_bids\n",
    "\n",
    "# print loads(objs[0])['type']\n",
    "# bid_proofs = rep1.client.get_objects({ 'type':'EBBuy'})\n",
    "# print init_token1\n"
   ]
  },
  {
   "cell_type": "code",
   "execution_count": null,
   "metadata": {},
   "outputs": [],
   "source": []
  }
 ],
 "metadata": {
  "kernelspec": {
   "display_name": ".surge",
   "language": "python",
   "name": ".surge"
  },
  "language_info": {
   "codemirror_mode": {
    "name": "ipython",
    "version": 2
   },
   "file_extension": ".py",
   "mimetype": "text/x-python",
   "name": "python",
   "nbconvert_exporter": "python",
   "pygments_lexer": "ipython2",
   "version": "2.7.12"
  }
 },
 "nbformat": 4,
 "nbformat_minor": 2
}
