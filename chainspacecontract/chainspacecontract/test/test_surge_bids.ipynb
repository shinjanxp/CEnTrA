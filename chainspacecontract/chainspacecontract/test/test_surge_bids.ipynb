{
 "cells": [
  {
   "cell_type": "code",
   "execution_count": 1,
   "metadata": {},
   "outputs": [],
   "source": [
    "from json import dumps, loads\n",
    "import time\n",
    "import threading \n",
    "import ast\n",
    "import unittest\n",
    "import requests\n",
    "# chainsapce\n",
    "from chainspacecontract import transaction_to_solution\n",
    "# from chainspacecontract.examples.surge import contract as surge_contract\n",
    "from chainspacecontract.examples import surge\n",
    "# crypto\n",
    "from chainspacecontract.examples.utils import setup, key_gen, pack\n",
    "from chainspaceapi import ChainspaceClient\n",
    "G = setup()[0]\n"
   ]
  },
  {
   "cell_type": "code",
   "execution_count": 2,
   "metadata": {},
   "outputs": [],
   "source": [
    "global_client = ChainspaceClient(port=5000)\n"
   ]
  },
  {
   "cell_type": "code",
   "execution_count": 3,
   "metadata": {
    "scrolled": true
   },
   "outputs": [
    {
     "name": "stdout",
     "output_type": "stream",
     "text": [
      "inputs: ()\n",
      "reference_inputs: ()\n",
      "POST http://127.0.0.1:5000/api/1.0/transaction/process HTTP/1.1\n",
      "{\"transaction\": {\"inputIDs\": [], \"methodID\": \"init\", \"parameters\": [], \"outputs\": [\"{\\\"type\\\": \\\"InitToken\\\", \\\"location\\\": 0}\", \"{\\\"type\\\": \\\"InitToken\\\", \\\"location\\\": 0}\", \"{\\\"type\\\": \\\"InitToken\\\", \\\"location\\\": 1}\", \"{\\\"type\\\": \\\"InitToken\\\", \\\"location\\\": 1}\"], \"returns\": [], \"dependencies\": [], \"referenceInputIDs\": [], \"contractID\": \"surge\"}, \"store\": {}}\n",
      "HTTP/1.1 200 OK\n",
      "{u'outcome': u'accepted_t_commit', u'success': u'True'}\n"
     ]
    },
    {
     "data": {
      "text/plain": [
       "<Response [200]>"
      ]
     },
     "execution_count": 3,
     "metadata": {},
     "output_type": "execute_result"
    }
   ],
   "source": [
    "init_transaction = surge.init()\n",
    "init_token1 = init_transaction['transaction']['outputs'][0]\n",
    "init_token2 = init_transaction['transaction']['outputs'][1]\n",
    "init_token3 = init_transaction['transaction']['outputs'][2]\n",
    "init_token4 = init_transaction['transaction']['outputs'][3]\n",
    "global_client.process_transaction(init_transaction)"
   ]
  },
  {
   "cell_type": "code",
   "execution_count": 4,
   "metadata": {},
   "outputs": [
    {
     "data": {
      "text/plain": [
       "chainspacecontract.contract.ChainspaceObject"
      ]
     },
     "execution_count": 4,
     "metadata": {},
     "output_type": "execute_result"
    }
   ],
   "source": [
    "type(init_token1)"
   ]
  },
  {
   "cell_type": "code",
   "execution_count": 5,
   "metadata": {},
   "outputs": [
    {
     "name": "stdout",
     "output_type": "stream",
     "text": [
      "inputs: ('{\"type\": \"InitToken\", \"location\": 0}',)\n",
      "reference_inputs: ()\n",
      "POST http://127.0.0.1:5000/api/1.0/transaction/process HTTP/1.1\n",
      "{\"transaction\": {\"inputIDs\": [\"0_616abd97764a2b04f8d9982a44cdcaddfd7b9eddc77c70c147f0d0ea00d67474\"], \"methodID\": \"create_surge_client\", \"parameters\": [\"c7220292cd02c9bd0206338ef472937be15a532823231e1883ccfb99dc32407623d662513c\", \"92c71d002b473adb80bb937aa77d787a4fe2bc8497c9da495e5a89fdb33922fa56c71d002b528b2fe9db704654cf53e8fd014d4682eaae59d4ac435dfe31a780a1\"], \"outputs\": [\"{\\\"type\\\": \\\"SurgeClient\\\", \\\"location\\\": 0, \\\"pub\\\": \\\"c7220292cd02c9bd0206338ef472937be15a532823231e1883ccfb99dc32407623d662513c\\\"}\", \"{\\\"type\\\": \\\"VoteSlipToken\\\", \\\"location\\\": 0, \\\"pub\\\": \\\"c7220292cd02c9bd0206338ef472937be15a532823231e1883ccfb99dc32407623d662513c\\\"}\", \"{\\\"type\\\": \\\"EBToken\\\", \\\"location\\\": 0, \\\"pub\\\": \\\"c7220292cd02c9bd0206338ef472937be15a532823231e1883ccfb99dc32407623d662513c\\\"}\"], \"returns\": [], \"dependencies\": [], \"referenceInputIDs\": [], \"contractID\": \"surge\"}, \"store\": {\"0_616abd97764a2b04f8d9982a44cdcaddfd7b9eddc77c70c147f0d0ea00d67474\": \"{\\\"type\\\": \\\"InitToken\\\", \\\"location\\\": 0}\"}}\n",
      "HTTP/1.1 200 OK\n",
      "{u'outcome': u'accepted_t_commit', u'success': u'True'}\n",
      "inputs: ('{\"type\": \"InitToken\", \"location\": 0}',)\n",
      "reference_inputs: ()\n",
      "POST http://127.0.0.1:5000/api/1.0/transaction/process HTTP/1.1\n",
      "{\"transaction\": {\"inputIDs\": [\"0_8ad4195eb49df7cd8031efb7b6d1ff6459b9463351f7aff9238f4dc019dcda8d\"], \"methodID\": \"create_surge_client\", \"parameters\": [\"c7220292cd02c9bd03430776847726217765bc859ed55c3c2fc8e6683c4dff9c70026b0fed\", \"92c71d002b20cac6dd44e0c1f0d77d96326eaaf625c390875fadf220aaa331b323c71d002bb09eaf377f7f288f93244e9bc299ecf5ea3b113a0ab10cf3f12c5373\"], \"outputs\": [\"{\\\"type\\\": \\\"SurgeClient\\\", \\\"location\\\": 0, \\\"pub\\\": \\\"c7220292cd02c9bd03430776847726217765bc859ed55c3c2fc8e6683c4dff9c70026b0fed\\\"}\", \"{\\\"type\\\": \\\"VoteSlipToken\\\", \\\"location\\\": 0, \\\"pub\\\": \\\"c7220292cd02c9bd03430776847726217765bc859ed55c3c2fc8e6683c4dff9c70026b0fed\\\"}\", \"{\\\"type\\\": \\\"EBToken\\\", \\\"location\\\": 0, \\\"pub\\\": \\\"c7220292cd02c9bd03430776847726217765bc859ed55c3c2fc8e6683c4dff9c70026b0fed\\\"}\"], \"returns\": [], \"dependencies\": [], \"referenceInputIDs\": [], \"contractID\": \"surge\"}, \"store\": {\"0_8ad4195eb49df7cd8031efb7b6d1ff6459b9463351f7aff9238f4dc019dcda8d\": \"{\\\"type\\\": \\\"InitToken\\\", \\\"location\\\": 0}\"}}\n",
      "HTTP/1.1 200 OK\n",
      "{u'outcome': u'accepted_t_commit', u'success': u'True'}\n",
      "inputs: ('{\"type\": \"VoteSlipToken\", \"location\": 0, \"pub\": \"c7220292cd02c9bd0206338ef472937be15a532823231e1883ccfb99dc32407623d662513c\"}',)\n",
      "reference_inputs: ()\n",
      "POST http://127.0.0.1:5000/api/1.0/transaction/process HTTP/1.1\n",
      "{\"transaction\": {\"inputIDs\": [\"0_3145217b0a00e566105ebcb330083baea59ea4252b4f04b03f93429a5b6b26f9\"], \"methodID\": \"cast_srep_vote\", \"parameters\": [\"92c71d002b6ce44388ed0c60c5eeeec6902ef6c76bda53b52c2da82d7717aeb99dc71d002b41a58f2167cc6dca8b3df97bbd2ddde65657dce4110a618a10b3d327\"], \"outputs\": [\"{\\\"granted_to\\\": \\\"c7220292cd02c9bd0240bc4dd3992ceaf75924f102ee20190d1131523c0872dec4a0958073\\\", \\\"type\\\": \\\"SREPVoteToken\\\", \\\"granted_by\\\": \\\"c7220292cd02c9bd0206338ef472937be15a532823231e1883ccfb99dc32407623d662513c\\\", \\\"location\\\": 0}\", \"{\\\"type\\\": \\\"VoteSlipToken\\\", \\\"location\\\": 0, \\\"pub\\\": \\\"c7220292cd02c9bd0206338ef472937be15a532823231e1883ccfb99dc32407623d662513c\\\"}\"], \"returns\": [], \"dependencies\": [], \"referenceInputIDs\": [], \"contractID\": \"surge\"}, \"store\": {\"0_3145217b0a00e566105ebcb330083baea59ea4252b4f04b03f93429a5b6b26f9\": \"{\\\"type\\\": \\\"VoteSlipToken\\\", \\\"location\\\": 0, \\\"pub\\\": \\\"c7220292cd02c9bd0206338ef472937be15a532823231e1883ccfb99dc32407623d662513c\\\"}\"}}\n",
      "HTTP/1.1 200 OK\n",
      "{u'outcome': u'accepted_t_commit', u'success': u'True'}\n",
      "inputs: ('{\"type\": \"VoteSlipToken\", \"location\": 0, \"pub\": \"c7220292cd02c9bd03430776847726217765bc859ed55c3c2fc8e6683c4dff9c70026b0fed\"}',)\n",
      "reference_inputs: ()\n",
      "POST http://127.0.0.1:5000/api/1.0/transaction/process HTTP/1.1\n",
      "{\"transaction\": {\"inputIDs\": [\"0_57e574f9bd147060731a2a1bcc3eb15d0f4081515a516cb88653e008231ec622\"], \"methodID\": \"cast_srep_vote\", \"parameters\": [\"92c71d002b7e92c30bbe38ab054df3f231de161028745d17f8d03de7bf4ca077a6c71d002b868fc2b86debd6006454f596af36a7a6479cac5b895c1369d14ef3d7\"], \"outputs\": [\"{\\\"granted_to\\\": \\\"c7220292cd02c9bd0240bc4dd3992ceaf75924f102ee20190d1131523c0872dec4a0958073\\\", \\\"type\\\": \\\"SREPVoteToken\\\", \\\"granted_by\\\": \\\"c7220292cd02c9bd03430776847726217765bc859ed55c3c2fc8e6683c4dff9c70026b0fed\\\", \\\"location\\\": 0}\", \"{\\\"type\\\": \\\"VoteSlipToken\\\", \\\"location\\\": 0, \\\"pub\\\": \\\"c7220292cd02c9bd03430776847726217765bc859ed55c3c2fc8e6683c4dff9c70026b0fed\\\"}\"], \"returns\": [], \"dependencies\": [], \"referenceInputIDs\": [], \"contractID\": \"surge\"}, \"store\": {\"0_57e574f9bd147060731a2a1bcc3eb15d0f4081515a516cb88653e008231ec622\": \"{\\\"type\\\": \\\"VoteSlipToken\\\", \\\"location\\\": 0, \\\"pub\\\": \\\"c7220292cd02c9bd03430776847726217765bc859ed55c3c2fc8e6683c4dff9c70026b0fed\\\"}\"}}\n",
      "HTTP/1.1 200 OK\n",
      "{u'outcome': u'accepted_t_commit', u'success': u'True'}\n",
      "inputs: ('{\"granted_to\": \"c7220292cd02c9bd0240bc4dd3992ceaf75924f102ee20190d1131523c0872dec4a0958073\", \"type\": \"SREPVoteToken\", \"granted_by\": \"c7220292cd02c9bd0206338ef472937be15a532823231e1883ccfb99dc32407623d662513c\", \"location\": 0}', '{\"granted_to\": \"c7220292cd02c9bd0240bc4dd3992ceaf75924f102ee20190d1131523c0872dec4a0958073\", \"type\": \"SREPVoteToken\", \"granted_by\": \"c7220292cd02c9bd03430776847726217765bc859ed55c3c2fc8e6683c4dff9c70026b0fed\", \"location\": 0}')\n",
      "reference_inputs: ()\n",
      "POST http://127.0.0.1:5000/api/1.0/transaction/process HTTP/1.1\n",
      "{\"transaction\": {\"inputIDs\": [\"0_da43df3d9777482332efa9ae9fca51735e65465a1c0e03a8a1cb7c24008fcc30\", \"0_a198da40c8f7742b2e19a235fa5360675b0ef9eced9f66269779fa6b12ee3b5e\"], \"methodID\": \"create_srep_client\", \"parameters\": [\"c7220292cd02c9bd0240bc4dd3992ceaf75924f102ee20190d1131523c0872dec4a0958073\", \"92c71d002b3419c5d2b6989a2e284fa06da39fe4cb20774adc0a631013928e3df4c71d002ba04e8677fde3b19f36edd127028d29b4f6b201dcfa376eac5e22dfcd\"], \"outputs\": [\"{\\\"type\\\": \\\"SREPClient\\\", \\\"location\\\": 0, \\\"pub\\\": \\\"c7220292cd02c9bd0240bc4dd3992ceaf75924f102ee20190d1131523c0872dec4a0958073\\\"}\", \"{\\\"type\\\": \\\"VoteSlipToken\\\", \\\"location\\\": 0, \\\"pub\\\": \\\"c7220292cd02c9bd0240bc4dd3992ceaf75924f102ee20190d1131523c0872dec4a0958073\\\"}\"], \"returns\": [], \"dependencies\": [], \"referenceInputIDs\": [], \"contractID\": \"surge\"}, \"store\": {\"0_da43df3d9777482332efa9ae9fca51735e65465a1c0e03a8a1cb7c24008fcc30\": \"{\\\"granted_to\\\": \\\"c7220292cd02c9bd0240bc4dd3992ceaf75924f102ee20190d1131523c0872dec4a0958073\\\", \\\"type\\\": \\\"SREPVoteToken\\\", \\\"granted_by\\\": \\\"c7220292cd02c9bd0206338ef472937be15a532823231e1883ccfb99dc32407623d662513c\\\", \\\"location\\\": 0}\", \"0_a198da40c8f7742b2e19a235fa5360675b0ef9eced9f66269779fa6b12ee3b5e\": \"{\\\"granted_to\\\": \\\"c7220292cd02c9bd0240bc4dd3992ceaf75924f102ee20190d1131523c0872dec4a0958073\\\", \\\"type\\\": \\\"SREPVoteToken\\\", \\\"granted_by\\\": \\\"c7220292cd02c9bd03430776847726217765bc859ed55c3c2fc8e6683c4dff9c70026b0fed\\\", \\\"location\\\": 0}\"}}\n",
      "HTTP/1.1 200 OK\n",
      "{u'outcome': u'accepted_t_commit', u'success': u'True'}\n"
     ]
    }
   ],
   "source": [
    "r1 = surge.SurgeClient(init_token1) # location=0\n",
    "r2 = surge.SurgeClient(init_token2) # location=0\n",
    "rep1 = surge.SREPClient() \n",
    "\n",
    "votes = (r1.cast_srep_vote(rep1.pub), r2.cast_srep_vote(rep1.pub))\n",
    "rep1.create_srep_client(votes) # location=0\n",
    "# r1.submit_bid('EBBuy', 50)\n",
    "# r2.submit_bid('EBSell', 50)\n"
   ]
  },
  {
   "cell_type": "code",
   "execution_count": 6,
   "metadata": {},
   "outputs": [],
   "source": [
    "t1 = threading.Thread(target=r1.submit_bid, args=('EBBuy',50)) \n",
    "t2 = threading.Thread(target=r2.submit_bid, args=('EBSell',50)) \n",
    "t3 = threading.Thread(target=rep1.accept_bids) "
   ]
  },
  {
   "cell_type": "code",
   "execution_count": 7,
   "metadata": {},
   "outputs": [
    {
     "name": "stdout",
     "output_type": "stream",
     "text": [
      "inputs: ('{\"type\": \"EBToken\", \"location\": 0, \"pub\": \"c7220292cd02c9bd0206338ef472937be15a532823231e1883ccfb99dc32407623d662513c\"}',)\n",
      "reference_inputs: ()\n",
      "inputs: ('{\"type\": \"EBToken\", \"location\": 0, \"pub\": \"c7220292cd02c9bd03430776847726217765bc859ed55c3c2fc8e6683c4dff9c70026b0fed\"}',)\n",
      "reference_inputs: ()\n",
      "POST http://127.0.0.1:5000/api/1.0/transaction/process HTTP/1.1\n",
      "{\"transaction\": {\"inputIDs\": [\"0_b718f5be7a309b6f51d5ea46f3f78e193eae3840baa420cc16d77e779796391f\"], \"methodID\": \"submit_bid_proof\", \"parameters\": [\"EBBuy\", \"92c71d002b995853359deb975b660dfb3acff38769bd6e81a2746ea48725400e94c71d002b0ecaaccb28377984fe242b6678255e975c4c49174d2a378a6dc77ab4\"], \"outputs\": [\"{\\\"bid_type\\\": \\\"EBBuy\\\", \\\"type\\\": \\\"BidProof\\\", \\\"location\\\": 0, \\\"pub\\\": \\\"c7220292cd02c9bd0206338ef472937be15a532823231e1883ccfb99dc32407623d662513c\\\", \\\"quantity_sig\\\": \\\"92c71d002b4e3deeb97430579882eecf269935f3842a9c58ce957ddf65767e8efac71d002bc155ba874cfa3da5cddedac1a0fbcd622848322f1c273a9a994b19e8\\\"}\", \"{\\\"type\\\": \\\"EBToken\\\", \\\"location\\\": 0, \\\"pub\\\": \\\"c7220292cd02c9bd0206338ef472937be15a532823231e1883ccfb99dc32407623d662513c\\\"}\"], \"returns\": [], \"dependencies\": [], \"referenceInputIDs\": [], \"contractID\": \"surge\"}, \"store\": {\"0_b718f5be7a309b6f51d5ea46f3f78e193eae3840baa420cc16d77e779796391f\": \"{\\\"type\\\": \\\"EBToken\\\", \\\"location\\\": 0, \\\"pub\\\": \\\"c7220292cd02c9bd0206338ef472937be15a532823231e1883ccfb99dc32407623d662513c\\\"}\"}}\n",
      "POST http://127.0.0.1:5000/api/1.0/transaction/process HTTP/1.1\n",
      "{\"transaction\": {\"inputIDs\": [\"0_351b63d2b249fcaa667cd0ac100a8f42f9a201d412e43cc76f9d24b226b6a982\"], \"methodID\": \"submit_bid_proof\", \"parameters\": [\"EBSell\", \"92c71d002b16dbd75b05bcb0a389f03dc5dcd94e5bed1da0bfc2829ee1400e8107c71d002b35e57fd1c0dca67258ebb6ffbde6c3ca394a36dabc2f78391d55d1a2\"], \"outputs\": [\"{\\\"bid_type\\\": \\\"EBSell\\\", \\\"type\\\": \\\"BidProof\\\", \\\"location\\\": 0, \\\"pub\\\": \\\"c7220292cd02c9bd03430776847726217765bc859ed55c3c2fc8e6683c4dff9c70026b0fed\\\", \\\"quantity_sig\\\": \\\"92c71d002baac7c909055a743a0579e8b74721273a325a4e4938c744c18d3af3d2c71d002bb7ddb856cacfb269f261c993823ae4ba0e9c6c2ac250d159e47d8a1b\\\"}\", \"{\\\"type\\\": \\\"EBToken\\\", \\\"location\\\": 0, \\\"pub\\\": \\\"c7220292cd02c9bd03430776847726217765bc859ed55c3c2fc8e6683c4dff9c70026b0fed\\\"}\"], \"returns\": [], \"dependencies\": [], \"referenceInputIDs\": [], \"contractID\": \"surge\"}, \"store\": {\"0_351b63d2b249fcaa667cd0ac100a8f42f9a201d412e43cc76f9d24b226b6a982\": \"{\\\"type\\\": \\\"EBToken\\\", \\\"location\\\": 0, \\\"pub\\\": \\\"c7220292cd02c9bd03430776847726217765bc859ed55c3c2fc8e6683c4dff9c70026b0fed\\\"}\"}}\n",
      "HTTP/1.1 200 OK\n",
      "{u'outcome': u'accepted_t_commit', u'success': u'True'}\n",
      "HTTP/1.1 200 OK\n",
      "{u'outcome': u'accepted_t_commit', u'success': u'True'}\n",
      "http://127.0.0.1:5000/api/1.0/objects?status=1\n",
      "HTTP/1.1 200 OK\n",
      "inputs: ('{\"bid_type\": \"EBSell\", \"type\": \"BidProof\", \"location\": 0, \"pub\": \"c7220292cd02c9bd03430776847726217765bc859ed55c3c2fc8e6683c4dff9c70026b0fed\", \"quantity_sig\": \"92c71d002baac7c909055a743a0579e8b74721273a325a4e4938c744c18d3af3d2c71d002bb7ddb856cacfb269f261c993823ae4ba0e9c6c2ac250d159e47d8a1b\"}',)\n",
      "reference_inputs: ()\n",
      "inputs: ('{\"bid_type\": \"EBBuy\", \"type\": \"BidProof\", \"location\": 0, \"pub\": \"c7220292cd02c9bd0206338ef472937be15a532823231e1883ccfb99dc32407623d662513c\", \"quantity_sig\": \"92c71d002b4e3deeb97430579882eecf269935f3842a9c58ce957ddf65767e8efac71d002bc155ba874cfa3da5cddedac1a0fbcd622848322f1c273a9a994b19e8\"}',)\n",
      "reference_inputs: ()\n",
      "POST http://127.0.0.1:5000/api/1.0/transaction/process HTTP/1.1\n",
      "{\"transaction\": {\"inputIDs\": [\"0_3b94b920959cfcb105b2b97dbc9785bc7a378da3ce3e022bfd2482e254587006\"], \"methodID\": \"submit_bid\", \"parameters\": [50, \"92c71d002b80fd9cb88ba243fc569afb967af43f013e5581b52d65d1964054832bc71d002b0cce5bd0b27eb8fc831e5c24e34d2dd42104873f3a31dec888fa80ef\"], \"outputs\": [\"{\\\"quantity_sig\\\": \\\"92c71d002baac7c909055a743a0579e8b74721273a325a4e4938c744c18d3af3d2c71d002bb7ddb856cacfb269f261c993823ae4ba0e9c6c2ac250d159e47d8a1b\\\", \\\"type\\\": \\\"EBSell\\\", \\\"location\\\": 0, \\\"pub\\\": \\\"c7220292cd02c9bd03430776847726217765bc859ed55c3c2fc8e6683c4dff9c70026b0fed\\\", \\\"quantity\\\": 50}\"], \"returns\": [], \"dependencies\": [], \"referenceInputIDs\": [], \"contractID\": \"surge\"}, \"store\": {\"0_3b94b920959cfcb105b2b97dbc9785bc7a378da3ce3e022bfd2482e254587006\": \"{\\\"bid_type\\\": \\\"EBSell\\\", \\\"type\\\": \\\"BidProof\\\", \\\"location\\\": 0, \\\"pub\\\": \\\"c7220292cd02c9bd03430776847726217765bc859ed55c3c2fc8e6683c4dff9c70026b0fed\\\", \\\"quantity_sig\\\": \\\"92c71d002baac7c909055a743a0579e8b74721273a325a4e4938c744c18d3af3d2c71d002bb7ddb856cacfb269f261c993823ae4ba0e9c6c2ac250d159e47d8a1b\\\"}\"}}\n",
      "POST http://127.0.0.1:5000/api/1.0/transaction/process HTTP/1.1\n",
      "{\"transaction\": {\"inputIDs\": [\"0_9327940d33696f7d26216ea1fa9227e7ed3fc2ee740162edf791aae9a833f9b7\"], \"methodID\": \"submit_bid\", \"parameters\": [50, \"92c71d002b4060d6e83196453731f5c27b6faa64e4a609626a87e50c466cecd9ffc71d002b6dc2180cf4f32d87a75c10037fdf1310bfa9c27ca9cbfaaed5101c12\"], \"outputs\": [\"{\\\"quantity_sig\\\": \\\"92c71d002b4e3deeb97430579882eecf269935f3842a9c58ce957ddf65767e8efac71d002bc155ba874cfa3da5cddedac1a0fbcd622848322f1c273a9a994b19e8\\\", \\\"type\\\": \\\"EBBuy\\\", \\\"location\\\": 0, \\\"pub\\\": \\\"c7220292cd02c9bd0206338ef472937be15a532823231e1883ccfb99dc32407623d662513c\\\", \\\"quantity\\\": 50}\"], \"returns\": [], \"dependencies\": [], \"referenceInputIDs\": [], \"contractID\": \"surge\"}, \"store\": {\"0_9327940d33696f7d26216ea1fa9227e7ed3fc2ee740162edf791aae9a833f9b7\": \"{\\\"bid_type\\\": \\\"EBBuy\\\", \\\"type\\\": \\\"BidProof\\\", \\\"location\\\": 0, \\\"pub\\\": \\\"c7220292cd02c9bd0206338ef472937be15a532823231e1883ccfb99dc32407623d662513c\\\", \\\"quantity_sig\\\": \\\"92c71d002b4e3deeb97430579882eecf269935f3842a9c58ce957ddf65767e8efac71d002bc155ba874cfa3da5cddedac1a0fbcd622848322f1c273a9a994b19e8\\\"}\"}}\n",
      "HTTP/1.1 200 OK\n",
      "{u'outcome': u'accepted_t_commit', u'success': u'True'}\n",
      "HTTP/1.1 200 OK\n",
      "{u'outcome': u'accepted_t_commit', u'success': u'True'}\n",
      "http://127.0.0.1:5000/api/1.0/objects?status=1\n",
      "HTTP/1.1 200 OK\n",
      "http://127.0.0.1:5000/api/1.0/objects?status=1\n",
      "HTTP/1.1 200 OK\n"
     ]
    }
   ],
   "source": [
    "t1.start()\n",
    "t2.start()\n",
    "t3.start()\n",
    "t1.join()\n",
    "t2.join()\n",
    "t3.join()"
   ]
  },
  {
   "cell_type": "code",
   "execution_count": 8,
   "metadata": {},
   "outputs": [],
   "source": [
    "# '{}|{}'.format(50, loads(r1.ebtoken)['pub'])\n",
    "# objs = global_client.get_objects({'location':0, 'type':'SurgeClient'})\n",
    "# print (objs)\n",
    "# bid_proofs = rep1.client.get_objects({ 'type':'EBBuy'})\n",
    "# bid = ast.literal_eval(bid_proofs[0])\n",
    "# bid['type']"
   ]
  }
 ],
 "metadata": {
  "kernelspec": {
   "display_name": ".surge",
   "language": "python",
   "name": ".surge"
  },
  "language_info": {
   "codemirror_mode": {
    "name": "ipython",
    "version": 2
   },
   "file_extension": ".py",
   "mimetype": "text/x-python",
   "name": "python",
   "nbconvert_exporter": "python",
   "pygments_lexer": "ipython2",
   "version": "2.7.12"
  }
 },
 "nbformat": 4,
 "nbformat_minor": 2
}
