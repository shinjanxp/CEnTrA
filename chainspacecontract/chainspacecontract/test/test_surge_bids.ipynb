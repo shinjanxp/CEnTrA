{
 "cells": [
  {
   "cell_type": "code",
   "execution_count": 1,
   "metadata": {},
   "outputs": [],
   "source": [
    "from json import dumps, loads\n",
    "import time\n",
    "import threading \n",
    "import ast\n",
    "import unittest\n",
    "import requests\n",
    "# chainsapce\n",
    "from chainspacecontract import transaction_to_solution\n",
    "# from chainspacecontract.examples.surge import contract as surge_contract\n",
    "from chainspacecontract.examples import surge\n",
    "# crypto\n",
    "from chainspacecontract.examples.utils import setup, key_gen, pack\n",
    "from chainspaceapi import ChainspaceClient\n",
    "G = setup()[0]\n"
   ]
  },
  {
   "cell_type": "code",
   "execution_count": 2,
   "metadata": {
    "scrolled": false
   },
   "outputs": [
    {
     "name": "stdout",
     "output_type": "stream",
     "text": [
      "inputs: ()\n",
      "reference_inputs: ()\n",
      "POST http://127.0.0.1:5000/api/1.0/transaction/process HTTP/1.1\n",
      "{\"transaction\": {\"inputIDs\": [], \"methodID\": \"init\", \"parameters\": [], \"outputs\": [\"{\\\"type\\\": \\\"InitToken\\\", \\\"location\\\": 0}\", \"{\\\"type\\\": \\\"InitToken\\\", \\\"location\\\": 0}\", \"{\\\"type\\\": \\\"InitToken\\\", \\\"location\\\": 1}\", \"{\\\"type\\\": \\\"InitToken\\\", \\\"location\\\": 1}\", \"{\\\"type\\\": \\\"InitToken\\\", \\\"location\\\": 2}\", \"{\\\"type\\\": \\\"InitToken\\\", \\\"location\\\": 2}\"], \"returns\": [], \"dependencies\": [], \"referenceInputIDs\": [], \"contractID\": \"surge\"}, \"store\": {}}\n",
      "HTTP/1.1 200 OK\n",
      "{u'outcome': u'accepted_t_commit', u'success': u'True'}\n"
     ]
    },
    {
     "data": {
      "text/plain": [
       "<Response [200]>"
      ]
     },
     "execution_count": 2,
     "metadata": {},
     "output_type": "execute_result"
    }
   ],
   "source": [
    "global_client = ChainspaceClient(port=5000)\n",
    "init_transaction = surge.init()\n",
    "init_token1 = init_transaction['transaction']['outputs'][0]\n",
    "init_token2 = init_transaction['transaction']['outputs'][1]\n",
    "init_token3 = init_transaction['transaction']['outputs'][2]\n",
    "init_token4 = init_transaction['transaction']['outputs'][3]\n",
    "init_token5 = init_transaction['transaction']['outputs'][4]\n",
    "init_token6 = init_transaction['transaction']['outputs'][5]\n",
    "global_client.process_transaction(init_transaction)"
   ]
  },
  {
   "cell_type": "code",
   "execution_count": 3,
   "metadata": {},
   "outputs": [
    {
     "name": "stdout",
     "output_type": "stream",
     "text": [
      "inputs: ('{\"type\": \"InitToken\", \"location\": 0}',)\n",
      "reference_inputs: ()\n",
      "POST http://127.0.0.1:5000/api/1.0/transaction/process HTTP/1.1\n",
      "{\"transaction\": {\"inputIDs\": [\"0_4b87d3a7997fc917d1ee75144f6ea37fff3814460efa85d87732a781676eda38\"], \"methodID\": \"create_surge_client\", \"parameters\": [\"c7220292cd02c9bd037d6cfca3a3e2b1f0b4fab15a07946a21aaecff75e5a7912574251455\", \"92c71d002b17e71b8fa8aa51e1e3ba4540982bb28c4b718ceb2c6c09f67816a2a1c71d002b626f0ceee76f38bf0909da33aad58d5cea2870953b3d1d4b10c010f3\"], \"outputs\": [\"{\\\"type\\\": \\\"SurgeClient\\\", \\\"location\\\": 0, \\\"pub\\\": \\\"c7220292cd02c9bd037d6cfca3a3e2b1f0b4fab15a07946a21aaecff75e5a7912574251455\\\"}\", \"{\\\"type\\\": \\\"VoteSlipToken\\\", \\\"location\\\": 0, \\\"pub\\\": \\\"c7220292cd02c9bd037d6cfca3a3e2b1f0b4fab15a07946a21aaecff75e5a7912574251455\\\"}\", \"{\\\"type\\\": \\\"EBToken\\\", \\\"location\\\": 0, \\\"pub\\\": \\\"c7220292cd02c9bd037d6cfca3a3e2b1f0b4fab15a07946a21aaecff75e5a7912574251455\\\"}\"], \"returns\": [], \"dependencies\": [], \"referenceInputIDs\": [], \"contractID\": \"surge\"}, \"store\": {\"0_4b87d3a7997fc917d1ee75144f6ea37fff3814460efa85d87732a781676eda38\": \"{\\\"type\\\": \\\"InitToken\\\", \\\"location\\\": 0}\"}}\n",
      "HTTP/1.1 200 OK\n",
      "{u'outcome': u'accepted_t_commit', u'success': u'True'}\n",
      "inputs: ('{\"type\": \"InitToken\", \"location\": 0}',)\n",
      "reference_inputs: ()\n",
      "POST http://127.0.0.1:5000/api/1.0/transaction/process HTTP/1.1\n",
      "{\"transaction\": {\"inputIDs\": [\"0_e35e0b9229cd394cc38aa31c5f5a3b5a93185552622dcd8728e4e6119555dbf8\"], \"methodID\": \"create_surge_client\", \"parameters\": [\"c7220292cd02c9bd03bd67740f083b629f6f711cfa698cce071ea0d34280cb610fd5d8df10\", \"92c71d002b161a2e510df56aac2e7c936a738a15ca55ac9f3042337d6d37024dfdc71d002bf49c951f5adb7d15d71e361bf1e4c6af72d59e4370abbef750393f5c\"], \"outputs\": [\"{\\\"type\\\": \\\"SurgeClient\\\", \\\"location\\\": 0, \\\"pub\\\": \\\"c7220292cd02c9bd03bd67740f083b629f6f711cfa698cce071ea0d34280cb610fd5d8df10\\\"}\", \"{\\\"type\\\": \\\"VoteSlipToken\\\", \\\"location\\\": 0, \\\"pub\\\": \\\"c7220292cd02c9bd03bd67740f083b629f6f711cfa698cce071ea0d34280cb610fd5d8df10\\\"}\", \"{\\\"type\\\": \\\"EBToken\\\", \\\"location\\\": 0, \\\"pub\\\": \\\"c7220292cd02c9bd03bd67740f083b629f6f711cfa698cce071ea0d34280cb610fd5d8df10\\\"}\"], \"returns\": [], \"dependencies\": [], \"referenceInputIDs\": [], \"contractID\": \"surge\"}, \"store\": {\"0_e35e0b9229cd394cc38aa31c5f5a3b5a93185552622dcd8728e4e6119555dbf8\": \"{\\\"type\\\": \\\"InitToken\\\", \\\"location\\\": 0}\"}}\n",
      "HTTP/1.1 200 OK\n",
      "{u'outcome': u'accepted_t_commit', u'success': u'True'}\n",
      "inputs: ('{\"type\": \"InitToken\", \"location\": 1}',)\n",
      "reference_inputs: ()\n",
      "POST http://127.0.0.1:5000/api/1.0/transaction/process HTTP/1.1\n",
      "{\"transaction\": {\"inputIDs\": [\"1_0ff019f87d101d161cae6e0f9ffdc863542a2db0a13d5422ca30d0b2ecc0d530\"], \"methodID\": \"create_surge_client\", \"parameters\": [\"c7220292cd02c9bd02819fc35ea413670168692e081d2cba45a241c70d860d2b134dbb5672\", \"92c71d002b3777f4e0c0a521072354c5dc0449547cdbfacb4ab0c6a8e4caae4da7c71d002b200c08222e061124c59163acb6f2b5eaa00cb41a6d5002cb5cd8d5a3\"], \"outputs\": [\"{\\\"type\\\": \\\"SurgeClient\\\", \\\"location\\\": 1, \\\"pub\\\": \\\"c7220292cd02c9bd02819fc35ea413670168692e081d2cba45a241c70d860d2b134dbb5672\\\"}\", \"{\\\"type\\\": \\\"VoteSlipToken\\\", \\\"location\\\": 1, \\\"pub\\\": \\\"c7220292cd02c9bd02819fc35ea413670168692e081d2cba45a241c70d860d2b134dbb5672\\\"}\", \"{\\\"type\\\": \\\"EBToken\\\", \\\"location\\\": 1, \\\"pub\\\": \\\"c7220292cd02c9bd02819fc35ea413670168692e081d2cba45a241c70d860d2b134dbb5672\\\"}\"], \"returns\": [], \"dependencies\": [], \"referenceInputIDs\": [], \"contractID\": \"surge\"}, \"store\": {\"1_0ff019f87d101d161cae6e0f9ffdc863542a2db0a13d5422ca30d0b2ecc0d530\": \"{\\\"type\\\": \\\"InitToken\\\", \\\"location\\\": 1}\"}}\n",
      "HTTP/1.1 200 OK\n",
      "{u'outcome': u'accepted_t_commit', u'success': u'True'}\n",
      "inputs: ('{\"type\": \"InitToken\", \"location\": 1}',)\n",
      "reference_inputs: ()\n",
      "POST http://127.0.0.1:5000/api/1.0/transaction/process HTTP/1.1\n",
      "{\"transaction\": {\"inputIDs\": [\"1_b1373f26144c038ea31b122e30d8cdc60c60d10c7b7dd5efc7052336cf13d906\"], \"methodID\": \"create_surge_client\", \"parameters\": [\"c7220292cd02c9bd03f203c566f01833a50de6b41c6dd7571c99d4a164b40976c9e6c629c5\", \"92c71d002ba3fff8fc6d99ff850935480351cf709114664713987ba976a0447713c71d002beac938682c1c5e644f7471f5d2ac36f4ee021c215651c1d8c1fcebfd\"], \"outputs\": [\"{\\\"type\\\": \\\"SurgeClient\\\", \\\"location\\\": 1, \\\"pub\\\": \\\"c7220292cd02c9bd03f203c566f01833a50de6b41c6dd7571c99d4a164b40976c9e6c629c5\\\"}\", \"{\\\"type\\\": \\\"VoteSlipToken\\\", \\\"location\\\": 1, \\\"pub\\\": \\\"c7220292cd02c9bd03f203c566f01833a50de6b41c6dd7571c99d4a164b40976c9e6c629c5\\\"}\", \"{\\\"type\\\": \\\"EBToken\\\", \\\"location\\\": 1, \\\"pub\\\": \\\"c7220292cd02c9bd03f203c566f01833a50de6b41c6dd7571c99d4a164b40976c9e6c629c5\\\"}\"], \"returns\": [], \"dependencies\": [], \"referenceInputIDs\": [], \"contractID\": \"surge\"}, \"store\": {\"1_b1373f26144c038ea31b122e30d8cdc60c60d10c7b7dd5efc7052336cf13d906\": \"{\\\"type\\\": \\\"InitToken\\\", \\\"location\\\": 1}\"}}\n",
      "HTTP/1.1 200 OK\n",
      "{u'outcome': u'accepted_t_commit', u'success': u'True'}\n",
      "inputs: ('{\"type\": \"InitToken\", \"location\": 2}',)\n",
      "reference_inputs: ()\n",
      "POST http://127.0.0.1:5000/api/1.0/transaction/process HTTP/1.1\n",
      "{\"transaction\": {\"inputIDs\": [\"2_6d7f645d730960408227eba8290b2494718b0981811eb4ee51b8ba11b5aedada\"], \"methodID\": \"create_surge_client\", \"parameters\": [\"c7220292cd02c9bd027ca7d71f28ea0e0144658e947a8912c4e1f23d39773ce8e84428b7d4\", \"92c71d002b84e6125f9c04236af98e8b544202126469e72103df4b1495641409ecc71d002b204143d7dece36f5443890011c2b0bb91f420be064c5e596ddcfd567\"], \"outputs\": [\"{\\\"type\\\": \\\"SurgeClient\\\", \\\"location\\\": 2, \\\"pub\\\": \\\"c7220292cd02c9bd027ca7d71f28ea0e0144658e947a8912c4e1f23d39773ce8e84428b7d4\\\"}\", \"{\\\"type\\\": \\\"VoteSlipToken\\\", \\\"location\\\": 2, \\\"pub\\\": \\\"c7220292cd02c9bd027ca7d71f28ea0e0144658e947a8912c4e1f23d39773ce8e84428b7d4\\\"}\", \"{\\\"type\\\": \\\"EBToken\\\", \\\"location\\\": 2, \\\"pub\\\": \\\"c7220292cd02c9bd027ca7d71f28ea0e0144658e947a8912c4e1f23d39773ce8e84428b7d4\\\"}\"], \"returns\": [], \"dependencies\": [], \"referenceInputIDs\": [], \"contractID\": \"surge\"}, \"store\": {\"2_6d7f645d730960408227eba8290b2494718b0981811eb4ee51b8ba11b5aedada\": \"{\\\"type\\\": \\\"InitToken\\\", \\\"location\\\": 2}\"}}\n",
      "HTTP/1.1 502 Bad Gateway\n",
      "{u'outcome': u'prepared_t_abort', u'success': u'False'}\n",
      "inputs: ('{\"type\": \"InitToken\", \"location\": 2}',)\n",
      "reference_inputs: ()\n",
      "POST http://127.0.0.1:5000/api/1.0/transaction/process HTTP/1.1\n",
      "{\"transaction\": {\"inputIDs\": [\"2_519c0d963ebcd2b5cb9d25fa38bcd26c4bd01ba55e5b847576cfd2c6d679ea4a\"], \"methodID\": \"create_surge_client\", \"parameters\": [\"c7220292cd02c9bd03807a3ea27a49ff1ab3f0e92b62e653ac9fdc52455115b4b3daa892f5\", \"92c71d002be1359220ff22736f4b7db1a468ed7e076cfc46413825138e0c2612d9c71d002b57547e45094ccadba83b797b2f243eadb4fad7a3bc944202721e0b33\"], \"outputs\": [\"{\\\"type\\\": \\\"SurgeClient\\\", \\\"location\\\": 2, \\\"pub\\\": \\\"c7220292cd02c9bd03807a3ea27a49ff1ab3f0e92b62e653ac9fdc52455115b4b3daa892f5\\\"}\", \"{\\\"type\\\": \\\"VoteSlipToken\\\", \\\"location\\\": 2, \\\"pub\\\": \\\"c7220292cd02c9bd03807a3ea27a49ff1ab3f0e92b62e653ac9fdc52455115b4b3daa892f5\\\"}\", \"{\\\"type\\\": \\\"EBToken\\\", \\\"location\\\": 2, \\\"pub\\\": \\\"c7220292cd02c9bd03807a3ea27a49ff1ab3f0e92b62e653ac9fdc52455115b4b3daa892f5\\\"}\"], \"returns\": [], \"dependencies\": [], \"referenceInputIDs\": [], \"contractID\": \"surge\"}, \"store\": {\"2_519c0d963ebcd2b5cb9d25fa38bcd26c4bd01ba55e5b847576cfd2c6d679ea4a\": \"{\\\"type\\\": \\\"InitToken\\\", \\\"location\\\": 2}\"}}\n",
      "HTTP/1.1 200 OK\n",
      "{u'outcome': u'accepted_t_commit', u'success': u'True'}\n",
      "inputs: ('{\"type\": \"VoteSlipToken\", \"location\": 0, \"pub\": \"c7220292cd02c9bd037d6cfca3a3e2b1f0b4fab15a07946a21aaecff75e5a7912574251455\"}',)\n",
      "reference_inputs: ()\n",
      "POST http://127.0.0.1:5000/api/1.0/transaction/process HTTP/1.1\n",
      "{\"transaction\": {\"inputIDs\": [\"0_c573c282212f97a30a3d22c6e64bcd393854ad3c855f78d424f4e0791a1a4513\"], \"methodID\": \"cast_srep_vote\", \"parameters\": [\"92c71d002bccd7d60627a9f790c9d03278a16a3db2a6447982e1a566ea1bdcc7c1c71d002b2a5b5cd3e63add52d1d639e61afddf32a01ee083b523f24a3b315a63\"], \"outputs\": [\"{\\\"granted_to\\\": \\\"c7220292cd02c9bd027ca7d71f28ea0e0144658e947a8912c4e1f23d39773ce8e84428b7d4\\\", \\\"type\\\": \\\"SREPVoteToken\\\", \\\"granted_by\\\": \\\"c7220292cd02c9bd037d6cfca3a3e2b1f0b4fab15a07946a21aaecff75e5a7912574251455\\\", \\\"location\\\": 0}\", \"{\\\"type\\\": \\\"VoteSlipToken\\\", \\\"location\\\": 0, \\\"pub\\\": \\\"c7220292cd02c9bd037d6cfca3a3e2b1f0b4fab15a07946a21aaecff75e5a7912574251455\\\"}\"], \"returns\": [], \"dependencies\": [], \"referenceInputIDs\": [], \"contractID\": \"surge\"}, \"store\": {\"0_c573c282212f97a30a3d22c6e64bcd393854ad3c855f78d424f4e0791a1a4513\": \"{\\\"type\\\": \\\"VoteSlipToken\\\", \\\"location\\\": 0, \\\"pub\\\": \\\"c7220292cd02c9bd037d6cfca3a3e2b1f0b4fab15a07946a21aaecff75e5a7912574251455\\\"}\"}}\n"
     ]
    },
    {
     "name": "stdout",
     "output_type": "stream",
     "text": [
      "HTTP/1.1 200 OK\n",
      "{u'outcome': u'accepted_t_commit', u'success': u'True'}\n",
      "inputs: ('{\"type\": \"VoteSlipToken\", \"location\": 0, \"pub\": \"c7220292cd02c9bd03bd67740f083b629f6f711cfa698cce071ea0d34280cb610fd5d8df10\"}',)\n",
      "reference_inputs: ()\n",
      "POST http://127.0.0.1:5000/api/1.0/transaction/process HTTP/1.1\n",
      "{\"transaction\": {\"inputIDs\": [\"0_77c8a0407f92faeef18e5ac91a40739270a53bbf98d7a7a44cdad9483fb8b4dc\"], \"methodID\": \"cast_srep_vote\", \"parameters\": [\"92c71d002b9205180845f408873abc39509216033168fe1ee5dbb23d22d7687c38c71d002b06c3af22a45e32f344d3554a0b35a4610730ca7420e5107c0db168f4\"], \"outputs\": [\"{\\\"granted_to\\\": \\\"c7220292cd02c9bd027ca7d71f28ea0e0144658e947a8912c4e1f23d39773ce8e84428b7d4\\\", \\\"type\\\": \\\"SREPVoteToken\\\", \\\"granted_by\\\": \\\"c7220292cd02c9bd03bd67740f083b629f6f711cfa698cce071ea0d34280cb610fd5d8df10\\\", \\\"location\\\": 0}\", \"{\\\"type\\\": \\\"VoteSlipToken\\\", \\\"location\\\": 0, \\\"pub\\\": \\\"c7220292cd02c9bd03bd67740f083b629f6f711cfa698cce071ea0d34280cb610fd5d8df10\\\"}\"], \"returns\": [], \"dependencies\": [], \"referenceInputIDs\": [], \"contractID\": \"surge\"}, \"store\": {\"0_77c8a0407f92faeef18e5ac91a40739270a53bbf98d7a7a44cdad9483fb8b4dc\": \"{\\\"type\\\": \\\"VoteSlipToken\\\", \\\"location\\\": 0, \\\"pub\\\": \\\"c7220292cd02c9bd03bd67740f083b629f6f711cfa698cce071ea0d34280cb610fd5d8df10\\\"}\"}}\n",
      "HTTP/1.1 200 OK\n",
      "{u'outcome': u'accepted_t_commit', u'success': u'True'}\n",
      "inputs: ('{\"granted_to\": \"c7220292cd02c9bd027ca7d71f28ea0e0144658e947a8912c4e1f23d39773ce8e84428b7d4\", \"type\": \"SREPVoteToken\", \"granted_by\": \"c7220292cd02c9bd037d6cfca3a3e2b1f0b4fab15a07946a21aaecff75e5a7912574251455\", \"location\": 0}', '{\"granted_to\": \"c7220292cd02c9bd027ca7d71f28ea0e0144658e947a8912c4e1f23d39773ce8e84428b7d4\", \"type\": \"SREPVoteToken\", \"granted_by\": \"c7220292cd02c9bd03bd67740f083b629f6f711cfa698cce071ea0d34280cb610fd5d8df10\", \"location\": 0}')\n",
      "reference_inputs: ()\n",
      "POST http://127.0.0.1:5000/api/1.0/transaction/process HTTP/1.1\n",
      "{\"transaction\": {\"inputIDs\": [\"0_b7e68862f35ff1402833d804809636d73047a7705ebcd9f9c5b70e33cff9bdd7\", \"0_cf9dbf590cef2e5a3f880489824ef6b275e9d754085306596423f608de28e4b9\"], \"methodID\": \"create_srep_client\", \"parameters\": [\"c7220292cd02c9bd027ca7d71f28ea0e0144658e947a8912c4e1f23d39773ce8e84428b7d4\", \"92c71d002bed39df023c97722ff31aac4afac0566e7419bc880be7fbfcb61d90bac71d002b9101a839162988a45fe59fd3c9312e03c6bb96d5bbafc8f7cdbe2f90\"], \"outputs\": [\"{\\\"type\\\": \\\"SREPClient\\\", \\\"location\\\": 0, \\\"pub\\\": \\\"c7220292cd02c9bd027ca7d71f28ea0e0144658e947a8912c4e1f23d39773ce8e84428b7d4\\\"}\", \"{\\\"type\\\": \\\"VoteSlipToken\\\", \\\"location\\\": 0, \\\"pub\\\": \\\"c7220292cd02c9bd027ca7d71f28ea0e0144658e947a8912c4e1f23d39773ce8e84428b7d4\\\"}\"], \"returns\": [], \"dependencies\": [], \"referenceInputIDs\": [], \"contractID\": \"surge\"}, \"store\": {\"0_cf9dbf590cef2e5a3f880489824ef6b275e9d754085306596423f608de28e4b9\": \"{\\\"granted_to\\\": \\\"c7220292cd02c9bd027ca7d71f28ea0e0144658e947a8912c4e1f23d39773ce8e84428b7d4\\\", \\\"type\\\": \\\"SREPVoteToken\\\", \\\"granted_by\\\": \\\"c7220292cd02c9bd03bd67740f083b629f6f711cfa698cce071ea0d34280cb610fd5d8df10\\\", \\\"location\\\": 0}\", \"0_b7e68862f35ff1402833d804809636d73047a7705ebcd9f9c5b70e33cff9bdd7\": \"{\\\"granted_to\\\": \\\"c7220292cd02c9bd027ca7d71f28ea0e0144658e947a8912c4e1f23d39773ce8e84428b7d4\\\", \\\"type\\\": \\\"SREPVoteToken\\\", \\\"granted_by\\\": \\\"c7220292cd02c9bd037d6cfca3a3e2b1f0b4fab15a07946a21aaecff75e5a7912574251455\\\", \\\"location\\\": 0}\"}}\n",
      "HTTP/1.1 200 OK\n",
      "{u'outcome': u'accepted_t_commit', u'success': u'True'}\n",
      "inputs: ('{\"type\": \"VoteSlipToken\", \"location\": 1, \"pub\": \"c7220292cd02c9bd02819fc35ea413670168692e081d2cba45a241c70d860d2b134dbb5672\"}',)\n",
      "reference_inputs: ()\n",
      "POST http://127.0.0.1:5000/api/1.0/transaction/process HTTP/1.1\n",
      "{\"transaction\": {\"inputIDs\": [\"1_6ae32f85412a9fe4fb311516e4cc47567ba035b8daf6f7018615e98b9ae9f8a3\"], \"methodID\": \"cast_srep_vote\", \"parameters\": [\"92c71d002b47642ecc465a897004a016e35340fb82ed4dd5d010f3daea82081752c71d002b118093b4eee64e314f6bdd4c44b2f9fdb841bbf4d288f53f8482d2c7\"], \"outputs\": [\"{\\\"granted_to\\\": \\\"c7220292cd02c9bd03807a3ea27a49ff1ab3f0e92b62e653ac9fdc52455115b4b3daa892f5\\\", \\\"type\\\": \\\"SREPVoteToken\\\", \\\"granted_by\\\": \\\"c7220292cd02c9bd02819fc35ea413670168692e081d2cba45a241c70d860d2b134dbb5672\\\", \\\"location\\\": 1}\", \"{\\\"type\\\": \\\"VoteSlipToken\\\", \\\"location\\\": 1, \\\"pub\\\": \\\"c7220292cd02c9bd02819fc35ea413670168692e081d2cba45a241c70d860d2b134dbb5672\\\"}\"], \"returns\": [], \"dependencies\": [], \"referenceInputIDs\": [], \"contractID\": \"surge\"}, \"store\": {\"1_6ae32f85412a9fe4fb311516e4cc47567ba035b8daf6f7018615e98b9ae9f8a3\": \"{\\\"type\\\": \\\"VoteSlipToken\\\", \\\"location\\\": 1, \\\"pub\\\": \\\"c7220292cd02c9bd02819fc35ea413670168692e081d2cba45a241c70d860d2b134dbb5672\\\"}\"}}\n",
      "HTTP/1.1 200 OK\n",
      "{u'outcome': u'accepted_t_commit', u'success': u'True'}\n",
      "inputs: ('{\"type\": \"VoteSlipToken\", \"location\": 1, \"pub\": \"c7220292cd02c9bd03f203c566f01833a50de6b41c6dd7571c99d4a164b40976c9e6c629c5\"}',)\n",
      "reference_inputs: ()\n",
      "POST http://127.0.0.1:5000/api/1.0/transaction/process HTTP/1.1\n",
      "{\"transaction\": {\"inputIDs\": [\"1_72cdd770cf5a6fe2b17568acfd09f8a629a2211bd702b3caaa9854972538c386\"], \"methodID\": \"cast_srep_vote\", \"parameters\": [\"92c71d002b371f9816d3cba6671d19dc460630a91db3f666aa96765ddfdcc51c1fc71d002ba4f6d3f26b16300997d161a9afee85fd7b26e9aebee652bc8f556050\"], \"outputs\": [\"{\\\"granted_to\\\": \\\"c7220292cd02c9bd03807a3ea27a49ff1ab3f0e92b62e653ac9fdc52455115b4b3daa892f5\\\", \\\"type\\\": \\\"SREPVoteToken\\\", \\\"granted_by\\\": \\\"c7220292cd02c9bd03f203c566f01833a50de6b41c6dd7571c99d4a164b40976c9e6c629c5\\\", \\\"location\\\": 1}\", \"{\\\"type\\\": \\\"VoteSlipToken\\\", \\\"location\\\": 1, \\\"pub\\\": \\\"c7220292cd02c9bd03f203c566f01833a50de6b41c6dd7571c99d4a164b40976c9e6c629c5\\\"}\"], \"returns\": [], \"dependencies\": [], \"referenceInputIDs\": [], \"contractID\": \"surge\"}, \"store\": {\"1_72cdd770cf5a6fe2b17568acfd09f8a629a2211bd702b3caaa9854972538c386\": \"{\\\"type\\\": \\\"VoteSlipToken\\\", \\\"location\\\": 1, \\\"pub\\\": \\\"c7220292cd02c9bd03f203c566f01833a50de6b41c6dd7571c99d4a164b40976c9e6c629c5\\\"}\"}}\n",
      "HTTP/1.1 200 OK\n",
      "{u'outcome': u'accepted_t_commit', u'success': u'True'}\n",
      "inputs: ('{\"granted_to\": \"c7220292cd02c9bd03807a3ea27a49ff1ab3f0e92b62e653ac9fdc52455115b4b3daa892f5\", \"type\": \"SREPVoteToken\", \"granted_by\": \"c7220292cd02c9bd02819fc35ea413670168692e081d2cba45a241c70d860d2b134dbb5672\", \"location\": 1}', '{\"granted_to\": \"c7220292cd02c9bd03807a3ea27a49ff1ab3f0e92b62e653ac9fdc52455115b4b3daa892f5\", \"type\": \"SREPVoteToken\", \"granted_by\": \"c7220292cd02c9bd03f203c566f01833a50de6b41c6dd7571c99d4a164b40976c9e6c629c5\", \"location\": 1}')\n",
      "reference_inputs: ()\n",
      "POST http://127.0.0.1:5001/api/1.0/transaction/process HTTP/1.1\n",
      "{\"transaction\": {\"inputIDs\": [\"1_4d386cf98d55a4e6f5ecb33efbaac62e6b60c8be7d77a5f682d2c649fe54cf36\", \"1_88b916a9ddf71a0534e9cc40878e5a889bcb7cd3995df695eee68b9bc7ec4c95\"], \"methodID\": \"create_srep_client\", \"parameters\": [\"c7220292cd02c9bd03807a3ea27a49ff1ab3f0e92b62e653ac9fdc52455115b4b3daa892f5\", \"92c71d002bd79d378ea5daef89a2143b89eb9b53597434740b0dccee2cdfb378a4c71d002b56dc122849a1bb84434959568d9c158efad2565688d015662bac93d4\"], \"outputs\": [\"{\\\"type\\\": \\\"SREPClient\\\", \\\"location\\\": 1, \\\"pub\\\": \\\"c7220292cd02c9bd03807a3ea27a49ff1ab3f0e92b62e653ac9fdc52455115b4b3daa892f5\\\"}\", \"{\\\"type\\\": \\\"VoteSlipToken\\\", \\\"location\\\": 1, \\\"pub\\\": \\\"c7220292cd02c9bd03807a3ea27a49ff1ab3f0e92b62e653ac9fdc52455115b4b3daa892f5\\\"}\"], \"returns\": [], \"dependencies\": [], \"referenceInputIDs\": [], \"contractID\": \"surge\"}, \"store\": {\"1_88b916a9ddf71a0534e9cc40878e5a889bcb7cd3995df695eee68b9bc7ec4c95\": \"{\\\"granted_to\\\": \\\"c7220292cd02c9bd03807a3ea27a49ff1ab3f0e92b62e653ac9fdc52455115b4b3daa892f5\\\", \\\"type\\\": \\\"SREPVoteToken\\\", \\\"granted_by\\\": \\\"c7220292cd02c9bd03f203c566f01833a50de6b41c6dd7571c99d4a164b40976c9e6c629c5\\\", \\\"location\\\": 1}\", \"1_4d386cf98d55a4e6f5ecb33efbaac62e6b60c8be7d77a5f682d2c649fe54cf36\": \"{\\\"granted_to\\\": \\\"c7220292cd02c9bd03807a3ea27a49ff1ab3f0e92b62e653ac9fdc52455115b4b3daa892f5\\\", \\\"type\\\": \\\"SREPVoteToken\\\", \\\"granted_by\\\": \\\"c7220292cd02c9bd02819fc35ea413670168692e081d2cba45a241c70d860d2b134dbb5672\\\", \\\"location\\\": 1}\"}}\n",
      "HTTP/1.1 200 OK\n",
      "{u'outcome': u'accepted_t_commit', u'success': u'True'}\n"
     ]
    }
   ],
   "source": [
    "# Create prosumer clients for locations 0 and 1\n",
    "c00 = surge.SurgeClient(5000, init_token1) # location=0\n",
    "c01 = surge.SurgeClient(5000, init_token2) # location=0\n",
    "c10 = surge.SurgeClient(5001, init_token3) # location=1\n",
    "c11 = surge.SurgeClient(5001, init_token4) # location=1\n",
    "# Create sreps for locations 0 and 1 which will be clients in location 2\n",
    "rep0 = surge.SREPClient(5002, init_token5) # location=2\n",
    "rep1 = surge.SREPClient(5002, init_token6) # location=2\n",
    "\n",
    "# Elect rep1 as SREP for location 0\n",
    "votes = (c00.cast_srep_vote(rep0.pub), c01.cast_srep_vote(rep0.pub))\n",
    "rep0.create_srep_client(5000, votes) \n",
    "\n",
    "# Elect rep2 as SREP for location 1\n",
    "votes = (c10.cast_srep_vote(rep1.pub), c11.cast_srep_vote(rep1.pub))\n",
    "rep1.create_srep_client(5001, votes) \n"
   ]
  },
  {
   "cell_type": "code",
   "execution_count": 4,
   "metadata": {},
   "outputs": [],
   "source": [
    "t00 = threading.Thread(target=c00.submit_bid, args=('EBBuy',50)) \n",
    "t01 = threading.Thread(target=c01.submit_bid, args=('EBSell',55)) \n",
    "trep0 = threading.Thread(target=rep0.accept_bids) \n",
    "\n",
    "t10 = threading.Thread(target=c10.submit_bid, args=('EBBuy',55)) \n",
    "t11 = threading.Thread(target=c11.submit_bid, args=('EBSell',50)) \n",
    "trep1 = threading.Thread(target=rep1.accept_bids) \n"
   ]
  },
  {
   "cell_type": "code",
   "execution_count": 5,
   "metadata": {
    "scrolled": true
   },
   "outputs": [
    {
     "name": "stdout",
     "output_type": "stream",
     "text": [
      "inputs: ('{\"type\": \"EBToken\", \"location\": 0, \"pub\": \"c7220292cd02c9bd037d6cfca3a3e2b1f0b4fab15a07946a21aaecff75e5a7912574251455\"}',)\n",
      "reference_inputs: ()\n",
      "inputs: ('{\"type\": \"EBToken\", \"location\": 1, \"pub\": \"c7220292cd02c9bd02819fc35ea413670168692e081d2cba45a241c70d860d2b134dbb5672\"}',)\n",
      "reference_inputs: ()\n",
      "inputs: ('{\"type\": \"EBToken\", \"location\": 0, \"pub\": \"c7220292cd02c9bd03bd67740f083b629f6f711cfa698cce071ea0d34280cb610fd5d8df10\"}',)\n",
      "reference_inputs: ()\n",
      "inputs: ('{\"type\": \"EBToken\", \"location\": 1, \"pub\": \"c7220292cd02c9bd03f203c566f01833a50de6b41c6dd7571c99d4a164b40976c9e6c629c5\"}',)\n",
      "reference_inputs: ()\n",
      "POST http://127.0.0.1:5000/api/1.0/transaction/process HTTP/1.1\n",
      "{\"transaction\": {\"inputIDs\": [\"0_2d9e1d283728e94e927c022cd39c2eb52c5984455cdf9f46e2a9a9ce9f75dd03\"], \"methodID\": \"submit_bid_proof\", \"parameters\": [\"EBBuy\", \"92c71d002bfbbc37ab24a6bab65d4445898b9820d765343969b5a7c44607917bf5c71d002ba854c2e24dab8938971605396235ab09bb1e64ef5297817835f6bec1\"], \"outputs\": [\"{\\\"bid_type\\\": \\\"EBBuy\\\", \\\"type\\\": \\\"BidProof\\\", \\\"location\\\": 0, \\\"pub\\\": \\\"c7220292cd02c9bd037d6cfca3a3e2b1f0b4fab15a07946a21aaecff75e5a7912574251455\\\", \\\"quantity_sig\\\": \\\"92c71d002be82d093e0f003ce35dcfc261c57454bdd3dc4cd2dd17c665da7c5fcfc71d002b1fc35d337d7f9ce6cd9b3f02f2832899ba3c92b67dfa32b7c133e843\\\"}\", \"{\\\"type\\\": \\\"EBToken\\\", \\\"location\\\": 0, \\\"pub\\\": \\\"c7220292cd02c9bd037d6cfca3a3e2b1f0b4fab15a07946a21aaecff75e5a7912574251455\\\"}\"], \"returns\": [], \"dependencies\": [], \"referenceInputIDs\": [], \"contractID\": \"surge\"}, \"store\": {\"0_2d9e1d283728e94e927c022cd39c2eb52c5984455cdf9f46e2a9a9ce9f75dd03\": \"{\\\"type\\\": \\\"EBToken\\\", \\\"location\\\": 0, \\\"pub\\\": \\\"c7220292cd02c9bd037d6cfca3a3e2b1f0b4fab15a07946a21aaecff75e5a7912574251455\\\"}\"}}\n",
      "POST http://127.0.0.1:5000/api/1.0/transaction/process HTTP/1.1\n",
      "{\"transaction\": {\"inputIDs\": [\"1_dcc1360cf260c1347b8bd00c3683c57ddb595a2c7fab00e3e2be15df07a89701\"], \"methodID\": \"submit_bid_proof\", \"parameters\": [\"EBSell\", \"92c71d002bb60a5136557af6c54a13f04125a043e0f24916e31366d91009c00c3ec71d002b57a4a3ad9e5ca6c66f42e7e3c911f186977a0673fd4d4e65bcc6edba\"], \"outputs\": [\"{\\\"bid_type\\\": \\\"EBSell\\\", \\\"type\\\": \\\"BidProof\\\", \\\"location\\\": 1, \\\"pub\\\": \\\"c7220292cd02c9bd03f203c566f01833a50de6b41c6dd7571c99d4a164b40976c9e6c629c5\\\", \\\"quantity_sig\\\": \\\"92c71d002b375b011546a8a378bbee354e462be7d95300ca5624902959a52f9da6c71d002b33a3991c9e09daf315a89c0f613ee386330170b82c4a0c78088b6cb9\\\"}\", \"{\\\"type\\\": \\\"EBToken\\\", \\\"location\\\": 1, \\\"pub\\\": \\\"c7220292cd02c9bd03f203c566f01833a50de6b41c6dd7571c99d4a164b40976c9e6c629c5\\\"}\"], \"returns\": [], \"dependencies\": [], \"referenceInputIDs\": [], \"contractID\": \"surge\"}, \"store\": {\"1_dcc1360cf260c1347b8bd00c3683c57ddb595a2c7fab00e3e2be15df07a89701\": \"{\\\"type\\\": \\\"EBToken\\\", \\\"location\\\": 1, \\\"pub\\\": \\\"c7220292cd02c9bd03f203c566f01833a50de6b41c6dd7571c99d4a164b40976c9e6c629c5\\\"}\"}}\n",
      "POST http://127.0.0.1:5000/api/1.0/transaction/process HTTP/1.1\n",
      "{\"transaction\": {\"inputIDs\": [\"1_0f54830cd94bcbea0ecf9e21c440ac002e5aa44613c386a24661c8cf11742e09\"], \"methodID\": \"submit_bid_proof\", \"parameters\": [\"EBBuy\", \"92c71d002bc9d23c7db3a161ecee43656483ff95816c768e210d56b8c124013335c71d002b9a249f088d4b8dfb26349ef503a52b522719e7a64f7d52dcf544d03b\"], \"outputs\": [\"{\\\"bid_type\\\": \\\"EBBuy\\\", \\\"type\\\": \\\"BidProof\\\", \\\"location\\\": 1, \\\"pub\\\": \\\"c7220292cd02c9bd02819fc35ea413670168692e081d2cba45a241c70d860d2b134dbb5672\\\", \\\"quantity_sig\\\": \\\"92c71d002bd418f65db6f1398711a2513cfd3e4c5ea909de32e016e783b5ef1697c71d002bd287372eb3d343c09dacb870ca822cd2265a2f74a929b4f7fb26af59\\\"}\", \"{\\\"type\\\": \\\"EBToken\\\", \\\"location\\\": 1, \\\"pub\\\": \\\"c7220292cd02c9bd02819fc35ea413670168692e081d2cba45a241c70d860d2b134dbb5672\\\"}\"], \"returns\": [], \"dependencies\": [], \"referenceInputIDs\": [], \"contractID\": \"surge\"}, \"store\": {\"1_0f54830cd94bcbea0ecf9e21c440ac002e5aa44613c386a24661c8cf11742e09\": \"{\\\"type\\\": \\\"EBToken\\\", \\\"location\\\": 1, \\\"pub\\\": \\\"c7220292cd02c9bd02819fc35ea413670168692e081d2cba45a241c70d860d2b134dbb5672\\\"}\"}}\n",
      "POST http://127.0.0.1:5000/api/1.0/transaction/process HTTP/1.1\n",
      "{\"transaction\": {\"inputIDs\": [\"0_3bcafa6eeec8fcc8722d913f1293e9dd046aaf771695356fdf261bdd1345024e\"], \"methodID\": \"submit_bid_proof\", \"parameters\": [\"EBSell\", \"92c71d002b852d5592a6509d0d53640ebfe2102fddd8a9e9901f0460b1d78f3a21c71d002b0a0c4ca5d640d023c602276c0e437eb5c73b2729d2453fb66779a991\"], \"outputs\": [\"{\\\"bid_type\\\": \\\"EBSell\\\", \\\"type\\\": \\\"BidProof\\\", \\\"location\\\": 0, \\\"pub\\\": \\\"c7220292cd02c9bd03bd67740f083b629f6f711cfa698cce071ea0d34280cb610fd5d8df10\\\", \\\"quantity_sig\\\": \\\"92c71d002baeff15f7a8930a879818ea3e4638f8162f82625553298933ad6d6a3cc71d002b633bbc0de48caa1ae5ada1ecd93a16d9ef43869b89ef8cb835d8e328\\\"}\", \"{\\\"type\\\": \\\"EBToken\\\", \\\"location\\\": 0, \\\"pub\\\": \\\"c7220292cd02c9bd03bd67740f083b629f6f711cfa698cce071ea0d34280cb610fd5d8df10\\\"}\"], \"returns\": [], \"dependencies\": [], \"referenceInputIDs\": [], \"contractID\": \"surge\"}, \"store\": {\"0_3bcafa6eeec8fcc8722d913f1293e9dd046aaf771695356fdf261bdd1345024e\": \"{\\\"type\\\": \\\"EBToken\\\", \\\"location\\\": 0, \\\"pub\\\": \\\"c7220292cd02c9bd03bd67740f083b629f6f711cfa698cce071ea0d34280cb610fd5d8df10\\\"}\"}}\n",
      "HTTP/1.1 200 OK\n",
      "{u'outcome': u'accepted_t_commit', u'success': u'True'}\n",
      "HTTP/1.1 200 OK\n",
      "{u'outcome': u'accepted_t_commit', u'success': u'True'}\n",
      "HTTP/1.1 200 OK\n",
      "{u'outcome': u'accepted_t_commit', u'success': u'True'}\n",
      "HTTP/1.1 200 OK\n",
      "{u'outcome': u'accepted_t_commit', u'success': u'True'}\n",
      "http://127.0.0.1:5001/api/1.0/objects?status=1\n",
      "HTTP/1.1 200 OK\n",
      "http://127.0.0.1:5000/api/1.0/objects?status=1\n",
      "HTTP/1.1 200 OK\n",
      "inputs: ('{\"bid_type\": \"EBBuy\", \"type\": \"BidProof\", \"location\": 0, \"pub\": \"c7220292cd02c9bd037d6cfca3a3e2b1f0b4fab15a07946a21aaecff75e5a7912574251455\", \"quantity_sig\": \"92c71d002be82d093e0f003ce35dcfc261c57454bdd3dc4cd2dd17c665da7c5fcfc71d002b1fc35d337d7f9ce6cd9b3f02f2832899ba3c92b67dfa32b7c133e843\"}',)\n",
      "reference_inputs: ()\n",
      "POST http://127.0.0.1:5000/api/1.0/transaction/process HTTP/1.1\n",
      "{\"transaction\": {\"inputIDs\": [\"0_919a303367fc6481146af5cf95fd268c3506e39d3d3fd70f7e76a41430e32d76\"], \"methodID\": \"submit_bid\", \"parameters\": [50, \"92c71d002b57c087b70bc75a80d42da3ffc959bed79ca1a2f5ed029972d3fe31d8c71d002b462124253fdb6b523dc950845b84706ee37ebbb085ae5ab154a776dc\"], \"outputs\": [\"{\\\"quantity_sig\\\": \\\"92c71d002be82d093e0f003ce35dcfc261c57454bdd3dc4cd2dd17c665da7c5fcfc71d002b1fc35d337d7f9ce6cd9b3f02f2832899ba3c92b67dfa32b7c133e843\\\", \\\"type\\\": \\\"EBBuy\\\", \\\"location\\\": 0, \\\"pub\\\": \\\"c7220292cd02c9bd037d6cfca3a3e2b1f0b4fab15a07946a21aaecff75e5a7912574251455\\\", \\\"quantity\\\": 50}\"], \"returns\": [], \"dependencies\": [], \"referenceInputIDs\": [], \"contractID\": \"surge\"}, \"store\": {\"0_919a303367fc6481146af5cf95fd268c3506e39d3d3fd70f7e76a41430e32d76\": \"{\\\"bid_type\\\": \\\"EBBuy\\\", \\\"type\\\": \\\"BidProof\\\", \\\"location\\\": 0, \\\"pub\\\": \\\"c7220292cd02c9bd037d6cfca3a3e2b1f0b4fab15a07946a21aaecff75e5a7912574251455\\\", \\\"quantity_sig\\\": \\\"92c71d002be82d093e0f003ce35dcfc261c57454bdd3dc4cd2dd17c665da7c5fcfc71d002b1fc35d337d7f9ce6cd9b3f02f2832899ba3c92b67dfa32b7c133e843\\\"}\"}}\n",
      "inputs: ('{\"bid_type\": \"EBSell\", \"type\": \"BidProof\", \"location\": 1, \"pub\": \"c7220292cd02c9bd03f203c566f01833a50de6b41c6dd7571c99d4a164b40976c9e6c629c5\", \"quantity_sig\": \"92c71d002b375b011546a8a378bbee354e462be7d95300ca5624902959a52f9da6c71d002b33a3991c9e09daf315a89c0f613ee386330170b82c4a0c78088b6cb9\"}',)\n",
      "reference_inputs: ()\n",
      "POST http://127.0.0.1:5000/api/1.0/transaction/process HTTP/1.1\n",
      "{\"transaction\": {\"inputIDs\": [\"1_d87524d5261bfc6e44ff21f5fd4d7eb791da86b56ab420d6ea7980fce5d4d27b\"], \"methodID\": \"submit_bid\", \"parameters\": [50, \"92c71d002ba59d645a938b018a8b5a0b8cec86eb3750495ffe56b94e209646657ec71d002bd1f6e85817f81048bb25941b344d40bb0ac1d032879725dfafcb96b8\"], \"outputs\": [\"{\\\"quantity_sig\\\": \\\"92c71d002b375b011546a8a378bbee354e462be7d95300ca5624902959a52f9da6c71d002b33a3991c9e09daf315a89c0f613ee386330170b82c4a0c78088b6cb9\\\", \\\"type\\\": \\\"EBSell\\\", \\\"location\\\": 1, \\\"pub\\\": \\\"c7220292cd02c9bd03f203c566f01833a50de6b41c6dd7571c99d4a164b40976c9e6c629c5\\\", \\\"quantity\\\": 50}\"], \"returns\": [], \"dependencies\": [], \"referenceInputIDs\": [], \"contractID\": \"surge\"}, \"store\": {\"1_d87524d5261bfc6e44ff21f5fd4d7eb791da86b56ab420d6ea7980fce5d4d27b\": \"{\\\"bid_type\\\": \\\"EBSell\\\", \\\"type\\\": \\\"BidProof\\\", \\\"location\\\": 1, \\\"pub\\\": \\\"c7220292cd02c9bd03f203c566f01833a50de6b41c6dd7571c99d4a164b40976c9e6c629c5\\\", \\\"quantity_sig\\\": \\\"92c71d002b375b011546a8a378bbee354e462be7d95300ca5624902959a52f9da6c71d002b33a3991c9e09daf315a89c0f613ee386330170b82c4a0c78088b6cb9\\\"}\"}}\n"
     ]
    },
    {
     "name": "stdout",
     "output_type": "stream",
     "text": [
      "inputs: ('{\"bid_type\": \"EBBuy\", \"type\": \"BidProof\", \"location\": 1, \"pub\": \"c7220292cd02c9bd02819fc35ea413670168692e081d2cba45a241c70d860d2b134dbb5672\", \"quantity_sig\": \"92c71d002bd418f65db6f1398711a2513cfd3e4c5ea909de32e016e783b5ef1697c71d002bd287372eb3d343c09dacb870ca822cd2265a2f74a929b4f7fb26af59\"}',)\n",
      "reference_inputs: ()\n",
      "inputs: ('{\"bid_type\": \"EBSell\", \"type\": \"BidProof\", \"location\": 0, \"pub\": \"c7220292cd02c9bd03bd67740f083b629f6f711cfa698cce071ea0d34280cb610fd5d8df10\", \"quantity_sig\": \"92c71d002baeff15f7a8930a879818ea3e4638f8162f82625553298933ad6d6a3cc71d002b633bbc0de48caa1ae5ada1ecd93a16d9ef43869b89ef8cb835d8e328\"}',)\n",
      "reference_inputs: ()\n",
      "POST http://127.0.0.1:5000/api/1.0/transaction/process HTTP/1.1\n",
      "{\"transaction\": {\"inputIDs\": [\"1_4f514d043314a6f1642fd977e176ffc24b10b54cde4f0daf7c4f7493e892d39a\"], \"methodID\": \"submit_bid\", \"parameters\": [55, \"92c71d002ba99c0ad710fbe6573db121aa436e7f1dcdaa2e408a68f793ff010a6ac71d002b2e348859e9f0d2bc503c78b17e312d129221da1aae8a2cd0d5fe3a1c\"], \"outputs\": [\"{\\\"quantity_sig\\\": \\\"92c71d002bd418f65db6f1398711a2513cfd3e4c5ea909de32e016e783b5ef1697c71d002bd287372eb3d343c09dacb870ca822cd2265a2f74a929b4f7fb26af59\\\", \\\"type\\\": \\\"EBBuy\\\", \\\"location\\\": 1, \\\"pub\\\": \\\"c7220292cd02c9bd02819fc35ea413670168692e081d2cba45a241c70d860d2b134dbb5672\\\", \\\"quantity\\\": 55}\"], \"returns\": [], \"dependencies\": [], \"referenceInputIDs\": [], \"contractID\": \"surge\"}, \"store\": {\"1_4f514d043314a6f1642fd977e176ffc24b10b54cde4f0daf7c4f7493e892d39a\": \"{\\\"bid_type\\\": \\\"EBBuy\\\", \\\"type\\\": \\\"BidProof\\\", \\\"location\\\": 1, \\\"pub\\\": \\\"c7220292cd02c9bd02819fc35ea413670168692e081d2cba45a241c70d860d2b134dbb5672\\\", \\\"quantity_sig\\\": \\\"92c71d002bd418f65db6f1398711a2513cfd3e4c5ea909de32e016e783b5ef1697c71d002bd287372eb3d343c09dacb870ca822cd2265a2f74a929b4f7fb26af59\\\"}\"}}\n",
      "POST http://127.0.0.1:5000/api/1.0/transaction/process HTTP/1.1\n",
      "{\"transaction\": {\"inputIDs\": [\"0_393a5f496519aaa8b54c746eb959df8eea6097c9d0dc4c2d410392d90deafe5a\"], \"methodID\": \"submit_bid\", \"parameters\": [55, \"92c71d002b27fb5ff19ff5bbb5d2f5cb8a237eb5792d2a65e5361a0f382ad3bd78c71d002b1c44dc8977bd1357fd0f74f21f2320c5089616bd0f055c06102c999b\"], \"outputs\": [\"{\\\"quantity_sig\\\": \\\"92c71d002baeff15f7a8930a879818ea3e4638f8162f82625553298933ad6d6a3cc71d002b633bbc0de48caa1ae5ada1ecd93a16d9ef43869b89ef8cb835d8e328\\\", \\\"type\\\": \\\"EBSell\\\", \\\"location\\\": 0, \\\"pub\\\": \\\"c7220292cd02c9bd03bd67740f083b629f6f711cfa698cce071ea0d34280cb610fd5d8df10\\\", \\\"quantity\\\": 55}\"], \"returns\": [], \"dependencies\": [], \"referenceInputIDs\": [], \"contractID\": \"surge\"}, \"store\": {\"0_393a5f496519aaa8b54c746eb959df8eea6097c9d0dc4c2d410392d90deafe5a\": \"{\\\"bid_type\\\": \\\"EBSell\\\", \\\"type\\\": \\\"BidProof\\\", \\\"location\\\": 0, \\\"pub\\\": \\\"c7220292cd02c9bd03bd67740f083b629f6f711cfa698cce071ea0d34280cb610fd5d8df10\\\", \\\"quantity_sig\\\": \\\"92c71d002baeff15f7a8930a879818ea3e4638f8162f82625553298933ad6d6a3cc71d002b633bbc0de48caa1ae5ada1ecd93a16d9ef43869b89ef8cb835d8e328\\\"}\"}}\n",
      "HTTP/1.1 200 OK\n",
      "{u'outcome': u'accepted_t_commit', u'success': u'True'}\n",
      "HTTP/1.1 200 OK\n",
      "{u'outcome': u'accepted_t_commit', u'success': u'True'}\n",
      "HTTP/1.1 200 OK\n",
      "{u'outcome': u'accepted_t_commit', u'success': u'True'}\n",
      "HTTP/1.1 200 OK\n",
      "{u'outcome': u'accepted_t_commit', u'success': u'True'}\n",
      "http://127.0.0.1:5001/api/1.0/objects?status=1\n",
      "HTTP/1.1 200 OK\n",
      " http://127.0.0.1:5000/api/1.0/objects?status=1\n",
      "HTTP/1.1 200 OK\n",
      "http://127.0.0.1:5000/api/1.0/objects?status=1\n",
      "HTTP/1.1 200 OK\n",
      "http://127.0.0.1:5001/api/1.0/objects?status=1\n",
      "HTTP/1.1 200 OK\n",
      "inputs: ('{\"quantity_sig\": \"92c71d002bd418f65db6f1398711a2513cfd3e4c5ea909de32e016e783b5ef1697c71d002bd287372eb3d343c09dacb870ca822cd2265a2f74a929b4f7fb26af59\", \"type\": \"EBBuy\", \"location\": 1, \"pub\": \"c7220292cd02c9bd02819fc35ea413670168692e081d2cba45a241c70d860d2b134dbb5672\", \"quantity\": 55}', '{\"quantity_sig\": \"92c71d002b375b011546a8a378bbee354e462be7d95300ca5624902959a52f9da6c71d002b33a3991c9e09daf315a89c0f613ee386330170b82c4a0c78088b6cb9\", \"type\": \"EBSell\", \"location\": 1, \"pub\": \"c7220292cd02c9bd03f203c566f01833a50de6b41c6dd7571c99d4a164b40976c9e6c629c5\", \"quantity\": 50}')inputs: ('{\"quantity_sig\": \"92c71d002be82d093e0f003ce35dcfc261c57454bdd3dc4cd2dd17c665da7c5fcfc71d002b1fc35d337d7f9ce6cd9b3f02f2832899ba3c92b67dfa32b7c133e843\", \"type\": \"EBBuy\", \"location\": 0, \"pub\": \"c7220292cd02c9bd037d6cfca3a3e2b1f0b4fab15a07946a21aaecff75e5a7912574251455\", \"quantity\": 50}', '{\"quantity_sig\": \"92c71d002baeff15f7a8930a879818ea3e4638f8162f82625553298933ad6d6a3cc71d002b633bbc0de48caa1ae5ada1ecd93a16d9ef43869b89ef8cb835d8e328\", \"type\": \"EBSell\", \"location\": 0, \"pub\": \"c7220292cd02c9bd03bd67740f083b629f6f711cfa698cce071ea0d34280cb610fd5d8df10\", \"quantity\": 55}')\n",
      "reference_inputs: ()\n",
      "\n",
      "reference_inputs: ()\n",
      "POST http://127.0.0.1:5000/api/1.0/transaction/process HTTP/1.1\n",
      "{\"transaction\": {\"inputIDs\": [\"0_9c0d4b0bbdeb981cfe28dcfca854c26581efd39fa4a4213d2961c6d2fc279399\", \"0_b237692cd20dd4c702ae45d1dfb1d4133f96bd798150a2214b6a92cbcbb44ac9\"], \"methodID\": \"accept_bids\", \"parameters\": [\"c7220292cd02c9bd027ca7d71f28ea0e0144658e947a8912c4e1f23d39773ce8e84428b7d4\", \"92c71d002bfc3a958e3a3fbeddb092bf10d9c029fb759095c32aac7e4d8d55db8ac71d002b2586e08e39bf574436b7e675f85d7c52d6c85532a945a61d26eaf629\"], \"outputs\": [\"{\\\"total_sell\\\": 55, \\\"type\\\": \\\"BidAccept\\\", \\\"pub\\\": \\\"c7220292cd02c9bd027ca7d71f28ea0e0144658e947a8912c4e1f23d39773ce8e84428b7d4\\\", \\\"total_buy\\\": 50, \\\"location\\\": 0}\"], \"returns\": [], \"dependencies\": [], \"referenceInputIDs\": [], \"contractID\": \"surge\"}, \"store\": {\"0_b237692cd20dd4c702ae45d1dfb1d4133f96bd798150a2214b6a92cbcbb44ac9\": \"{\\\"quantity_sig\\\": \\\"92c71d002baeff15f7a8930a879818ea3e4638f8162f82625553298933ad6d6a3cc71d002b633bbc0de48caa1ae5ada1ecd93a16d9ef43869b89ef8cb835d8e328\\\", \\\"type\\\": \\\"EBSell\\\", \\\"location\\\": 0, \\\"pub\\\": \\\"c7220292cd02c9bd03bd67740f083b629f6f711cfa698cce071ea0d34280cb610fd5d8df10\\\", \\\"quantity\\\": 55}\", \"0_9c0d4b0bbdeb981cfe28dcfca854c26581efd39fa4a4213d2961c6d2fc279399\": \"{\\\"quantity_sig\\\": \\\"92c71d002be82d093e0f003ce35dcfc261c57454bdd3dc4cd2dd17c665da7c5fcfc71d002b1fc35d337d7f9ce6cd9b3f02f2832899ba3c92b67dfa32b7c133e843\\\", \\\"type\\\": \\\"EBBuy\\\", \\\"location\\\": 0, \\\"pub\\\": \\\"c7220292cd02c9bd037d6cfca3a3e2b1f0b4fab15a07946a21aaecff75e5a7912574251455\\\", \\\"quantity\\\": 50}\"}}\n",
      "POST http://127.0.0.1:5001/api/1.0/transaction/process HTTP/1.1\n",
      "{\"transaction\": {\"inputIDs\": [\"1_d269d84e79e479f4c9f4caf4ee6aa27be42e9dd51fcc3775427b2e5d9df9ca63\", \"1_43de28f8a1ec4004a2b80c5547938422e97498df31e16552d176ee82a073a21e\"], \"methodID\": \"accept_bids\", \"parameters\": [\"c7220292cd02c9bd03807a3ea27a49ff1ab3f0e92b62e653ac9fdc52455115b4b3daa892f5\", \"92c71d002b47a429b1be9f999a1360be214c063b88345f1fb3c091b85f94efbe0ec71d002b25491ed4ba5649383ebb264b9710ee65b75a7bcc7b89779901f04c76\"], \"outputs\": [\"{\\\"total_sell\\\": 50, \\\"type\\\": \\\"BidAccept\\\", \\\"pub\\\": \\\"c7220292cd02c9bd03807a3ea27a49ff1ab3f0e92b62e653ac9fdc52455115b4b3daa892f5\\\", \\\"total_buy\\\": 55, \\\"location\\\": 1}\"], \"returns\": [], \"dependencies\": [], \"referenceInputIDs\": [], \"contractID\": \"surge\"}, \"store\": {\"1_d269d84e79e479f4c9f4caf4ee6aa27be42e9dd51fcc3775427b2e5d9df9ca63\": \"{\\\"quantity_sig\\\": \\\"92c71d002bd418f65db6f1398711a2513cfd3e4c5ea909de32e016e783b5ef1697c71d002bd287372eb3d343c09dacb870ca822cd2265a2f74a929b4f7fb26af59\\\", \\\"type\\\": \\\"EBBuy\\\", \\\"location\\\": 1, \\\"pub\\\": \\\"c7220292cd02c9bd02819fc35ea413670168692e081d2cba45a241c70d860d2b134dbb5672\\\", \\\"quantity\\\": 55}\", \"1_43de28f8a1ec4004a2b80c5547938422e97498df31e16552d176ee82a073a21e\": \"{\\\"quantity_sig\\\": \\\"92c71d002b375b011546a8a378bbee354e462be7d95300ca5624902959a52f9da6c71d002b33a3991c9e09daf315a89c0f613ee386330170b82c4a0c78088b6cb9\\\", \\\"type\\\": \\\"EBSell\\\", \\\"location\\\": 1, \\\"pub\\\": \\\"c7220292cd02c9bd03f203c566f01833a50de6b41c6dd7571c99d4a164b40976c9e6c629c5\\\", \\\"quantity\\\": 50}\"}}\n",
      "HTTP/1.1 200 OK\n",
      "{u'outcome': u'accepted_t_commit', u'success': u'True'}\n",
      "HTTP/1.1 200 OK\n",
      "{u'outcome': u'accepted_t_commit', u'success': u'True'}\n"
     ]
    }
   ],
   "source": [
    "t00.start()\n",
    "t01.start()\n",
    "trep0.start()\n",
    "t10.start()\n",
    "t11.start()\n",
    "trep1.start()\n",
    "\n",
    "t00.join()\n",
    "t01.join()\n",
    "trep0.join()\n",
    "t10.join()\n",
    "t11.join()\n",
    "trep1.join()\n"
   ]
  },
  {
   "cell_type": "code",
   "execution_count": 7,
   "metadata": {},
   "outputs": [
    {
     "name": "stdout",
     "output_type": "stream",
     "text": [
      "http://127.0.0.1:5000/api/1.0/objects?status=1\n",
      "HTTP/1.1 200 OK\n"
     ]
    },
    {
     "data": {
      "text/plain": [
       "['{\"total_sell\": 55, \"type\": \"BidAccept\", \"location\": 0, \"pub\": \"c7220292cd02c9bd027ca7d71f28ea0e0144658e947a8912c4e1f23d39773ce8e84428b7d4\", \"total_buy\": 50}']"
      ]
     },
     "execution_count": 7,
     "metadata": {},
     "output_type": "execute_result"
    }
   ],
   "source": [
    "# '{}|{}'.format(50, loads(r1.ebtoken)['pub'])\n",
    "# global_client.fix_json(\"{'type':'EBBuy','location':0\")\n",
    "# global_client = ChainspaceClient(port=5001)\n",
    "global_client.get_objects({'location':0,'type':'BidAccept'})\n",
    "# print buy_bids\n",
    "\n",
    "# print loads(objs[0])['type']\n",
    "# bid_proofs = rep1.client.get_objects({ 'type':'EBBuy'})\n",
    "# print init_token1\n"
   ]
  },
  {
   "cell_type": "code",
   "execution_count": null,
   "metadata": {},
   "outputs": [],
   "source": []
  }
 ],
 "metadata": {
  "kernelspec": {
   "display_name": ".surge",
   "language": "python",
   "name": ".surge"
  },
  "language_info": {
   "codemirror_mode": {
    "name": "ipython",
    "version": 2
   },
   "file_extension": ".py",
   "mimetype": "text/x-python",
   "name": "python",
   "nbconvert_exporter": "python",
   "pygments_lexer": "ipython2",
   "version": "2.7.12"
  }
 },
 "nbformat": 4,
 "nbformat_minor": 2
}
