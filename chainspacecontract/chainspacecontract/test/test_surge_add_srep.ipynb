{
 "cells": [
  {
   "cell_type": "code",
   "execution_count": 1,
   "metadata": {},
   "outputs": [
    {
     "ename": "SyntaxError",
     "evalue": "invalid syntax (surge.py, line 69)",
     "output_type": "error",
     "traceback": [
      "\u001b[0;36m  File \u001b[0;32m\"/home/shinjan/surge/chainspacecontract/chainspacecontract/examples/surge.py\"\u001b[0;36m, line \u001b[0;32m69\u001b[0m\n\u001b[0;31m    }\u001b[0m\n\u001b[0m    ^\u001b[0m\n\u001b[0;31mSyntaxError\u001b[0m\u001b[0;31m:\u001b[0m invalid syntax\n"
     ]
    }
   ],
   "source": [
    "from json import dumps, loads\n",
    "import time\n",
    "import unittest\n",
    "import requests\n",
    "# chainsapce\n",
    "from chainspacecontract import transaction_to_solution\n",
    "# from chainspacecontract.examples.surge import contract as surge_contract\n",
    "from chainspacecontract.examples import surge\n",
    "# crypto\n",
    "from chainspacecontract.examples.utils import setup, key_gen, pack\n",
    "from chainspaceapi import ChainspaceClient\n"
   ]
  },
  {
   "cell_type": "code",
   "execution_count": null,
   "metadata": {},
   "outputs": [],
   "source": [
    "    \n",
    "G = setup()[0]\n",
    "(provider_priv1, provider_pub1) = key_gen(setup())\n",
    "(provider_priv2, provider_pub2) = key_gen(setup())\n",
    "(provider_priv3, provider_pub3) = key_gen(setup())\n",
    "client1 = ChainspaceClient(port=5000)\n",
    "client2 = ChainspaceClient(port=5000)\n",
    "client3 = ChainspaceClient(port=5000)\n"
   ]
  },
  {
   "cell_type": "code",
   "execution_count": null,
   "metadata": {
    "scrolled": true
   },
   "outputs": [],
   "source": [
    "init_transaction = surge.init()\n",
    "init_s0_token1 = init_transaction['transaction']['outputs'][0]\n",
    "init_s0_token2 = init_transaction['transaction']['outputs'][1]\n",
    "client1.process_transaction(init_transaction)"
   ]
  },
  {
   "cell_type": "code",
   "execution_count": null,
   "metadata": {},
   "outputs": [],
   "source": [
    "create_surge_client_txn = surge.create_surge_client(\n",
    "    (init_s0_token1,),\n",
    "    None,\n",
    "    (pack(provider_pub1),),\n",
    "    pack(provider_priv1),\n",
    ")\n",
    "vote_slip1 = create_surge_client_txn['transaction']['outputs'][1]\n",
    "surge_client1 = create_surge_client_txn['transaction']['outputs'][0]\n",
    "client1.process_transaction(create_surge_client_txn)"
   ]
  },
  {
   "cell_type": "code",
   "execution_count": null,
   "metadata": {},
   "outputs": [],
   "source": [
    "create_surge_client_txn = surge.create_surge_client(\n",
    "    (init_s0_token2,),\n",
    "    None,\n",
    "    (pack(provider_pub2),),\n",
    "    pack(provider_priv2),\n",
    ")\n",
    "vote_slip2 = create_surge_client_txn['transaction']['outputs'][1]\n",
    "surge_client2 = create_surge_client_txn['transaction']['outputs'][0]\n",
    "client1.process_transaction(create_surge_client_txn)"
   ]
  },
  {
   "cell_type": "code",
   "execution_count": null,
   "metadata": {},
   "outputs": [],
   "source": [
    "cast_srep_vote_txn = surge.cast_srep_vote(\n",
    "    (vote_slip1,),\n",
    "    None,\n",
    "    None,\n",
    "    pack(provider_priv1),\n",
    "    pack(provider_pub3),\n",
    ")\n",
    "vote_token1 = cast_srep_vote_txn['transaction']['outputs'][0]\n",
    "vote_slip1 = cast_srep_vote_txn['transaction']['outputs'][1]\n",
    "client1.process_transaction(cast_srep_vote_txn)\n"
   ]
  },
  {
   "cell_type": "code",
   "execution_count": null,
   "metadata": {},
   "outputs": [],
   "source": [
    "cast_srep_vote_txn = surge.cast_srep_vote(\n",
    "    (vote_slip2,),\n",
    "    None,\n",
    "    None,\n",
    "    pack(provider_priv2),\n",
    "    pack(provider_pub3),\n",
    ")\n",
    "vote_token2 = cast_srep_vote_txn['transaction']['outputs'][0]\n",
    "vote_slip2 = cast_srep_vote_txn['transaction']['outputs'][1]\n",
    "client1.process_transaction(cast_srep_vote_txn)\n"
   ]
  },
  {
   "cell_type": "code",
   "execution_count": null,
   "metadata": {},
   "outputs": [],
   "source": [
    "create_srep_client_txn = surge.create_srep_client(\n",
    "    (vote_token1, vote_token2,),\n",
    "    None,\n",
    "    (pack(provider_pub3),),\n",
    "    pack(provider_priv3),\n",
    ")\n",
    "vote_slip3 = create_srep_client_txn['transaction']['outputs'][1]\n",
    "srep_client = create_srep_client_txn['transaction']['outputs'][0]\n",
    "client1.process_transaction(create_srep_client_txn)\n"
   ]
  },
  {
   "cell_type": "code",
   "execution_count": null,
   "metadata": {},
   "outputs": [],
   "source": []
  }
 ],
 "metadata": {
  "kernelspec": {
   "display_name": ".surge",
   "language": "python",
   "name": ".surge"
  },
  "language_info": {
   "codemirror_mode": {
    "name": "ipython",
    "version": 2
   },
   "file_extension": ".py",
   "mimetype": "text/x-python",
   "name": "python",
   "nbconvert_exporter": "python",
   "pygments_lexer": "ipython2",
   "version": "2.7.12"
  }
 },
 "nbformat": 4,
 "nbformat_minor": 2
}
