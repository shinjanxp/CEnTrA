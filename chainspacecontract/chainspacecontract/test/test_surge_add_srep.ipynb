{
 "cells": [
  {
   "cell_type": "code",
   "execution_count": 1,
   "metadata": {},
   "outputs": [],
   "source": [
    "from json import dumps, loads\n",
    "import time\n",
    "import unittest\n",
    "import requests\n",
    "# chainsapce\n",
    "from chainspacecontract import transaction_to_solution\n",
    "# from chainspacecontract.examples.surge import contract as surge_contract\n",
    "from chainspacecontract.examples import surge\n",
    "# crypto\n",
    "from chainspacecontract.examples.utils import setup, key_gen, pack\n",
    "from chainspaceapi import ChainspaceClient\n"
   ]
  },
  {
   "cell_type": "code",
   "execution_count": 2,
   "metadata": {},
   "outputs": [],
   "source": [
    "    \n",
    "G = setup()[0]\n",
    "(provider_priv1, provider_pub1) = key_gen(setup())\n",
    "(provider_priv2, provider_pub2) = key_gen(setup())\n",
    "(provider_priv3, provider_pub3) = key_gen(setup())\n",
    "client1 = ChainspaceClient(port=5000)\n",
    "client2 = ChainspaceClient(port=5000)\n",
    "client3 = ChainspaceClient(port=5000)\n"
   ]
  },
  {
   "cell_type": "code",
   "execution_count": 3,
   "metadata": {
    "scrolled": true
   },
   "outputs": [
    {
     "name": "stdout",
     "output_type": "stream",
     "text": [
      "inputs: ()\n",
      "reference_inputs: ()\n",
      "POST http://127.0.0.1:5000/api/1.0/transaction/process HTTP/1.1\n",
      "{\"transaction\": {\"inputIDs\": [], \"methodID\": \"init\", \"parameters\": [], \"outputs\": [\"{\\\"type\\\": \\\"InitToken\\\", \\\"location\\\": 0}\", \"{\\\"type\\\": \\\"InitToken\\\", \\\"location\\\": 0}\", \"{\\\"type\\\": \\\"InitToken\\\", \\\"location\\\": 1}\", \"{\\\"type\\\": \\\"InitToken\\\", \\\"location\\\": 1}\"], \"returns\": [], \"dependencies\": [], \"referenceInputIDs\": [], \"contractID\": \"surge\"}, \"store\": {}}\n",
      "HTTP/1.1 200 OK\n",
      "{u'outcome': u'accepted_t_commit', u'success': u'True'}\n"
     ]
    },
    {
     "data": {
      "text/plain": [
       "<Response [200]>"
      ]
     },
     "execution_count": 3,
     "metadata": {},
     "output_type": "execute_result"
    }
   ],
   "source": [
    "init_transaction = surge.init()\n",
    "init_s0_token1 = init_transaction['transaction']['outputs'][0]\n",
    "init_s0_token2 = init_transaction['transaction']['outputs'][1]\n",
    "client1.process_transaction(init_transaction)"
   ]
  },
  {
   "cell_type": "code",
   "execution_count": 4,
   "metadata": {},
   "outputs": [
    {
     "name": "stdout",
     "output_type": "stream",
     "text": [
      "inputs: ('{\"type\": \"InitToken\", \"location\": 0}',)\n",
      "reference_inputs: ()\n",
      "POST http://127.0.0.1:5000/api/1.0/transaction/process HTTP/1.1\n",
      "{\"transaction\": {\"inputIDs\": [\"0_616abd97764a2b04f8d9982a44cdcaddfd7b9eddc77c70c147f0d0ea00d67474\"], \"methodID\": \"create_surge_client\", \"parameters\": [\"c7220292cd02c9bd03763b083f72561d53d4b98acc88f0c3b61e4c39bf91340531ea3307a1\", \"92c71d002b5e41c7459baad63eceaa1330ee9248e7e184ed987800c00479250092c71d002b9288af63f20f5c95abb7a7e56ad147239dec1b7c36e285eeedc9b51b\"], \"outputs\": [\"{\\\"type\\\": \\\"SurgeClient\\\", \\\"location\\\": 0, \\\"pub\\\": \\\"c7220292cd02c9bd03763b083f72561d53d4b98acc88f0c3b61e4c39bf91340531ea3307a1\\\"}\", \"{\\\"type\\\": \\\"VoteSlipToken\\\", \\\"location\\\": 0, \\\"pub\\\": \\\"c7220292cd02c9bd03763b083f72561d53d4b98acc88f0c3b61e4c39bf91340531ea3307a1\\\"}\", \"{\\\"type\\\": \\\"EBToken\\\", \\\"location\\\": 0, \\\"pub\\\": \\\"c7220292cd02c9bd03763b083f72561d53d4b98acc88f0c3b61e4c39bf91340531ea3307a1\\\"}\"], \"returns\": [], \"dependencies\": [], \"referenceInputIDs\": [], \"contractID\": \"surge\"}, \"store\": {\"0_616abd97764a2b04f8d9982a44cdcaddfd7b9eddc77c70c147f0d0ea00d67474\": \"{\\\"type\\\": \\\"InitToken\\\", \\\"location\\\": 0}\"}}\n",
      "HTTP/1.1 200 OK\n",
      "{u'outcome': u'accepted_t_commit', u'success': u'True'}\n"
     ]
    },
    {
     "data": {
      "text/plain": [
       "<Response [200]>"
      ]
     },
     "execution_count": 4,
     "metadata": {},
     "output_type": "execute_result"
    }
   ],
   "source": [
    "create_surge_client_txn = surge.create_surge_client(\n",
    "    (init_s0_token1,),\n",
    "    None,\n",
    "    (pack(provider_pub1),),\n",
    "    pack(provider_priv1),\n",
    ")\n",
    "vote_slip1 = create_surge_client_txn['transaction']['outputs'][1]\n",
    "surge_client1 = create_surge_client_txn['transaction']['outputs'][0]\n",
    "client1.process_transaction(create_surge_client_txn)"
   ]
  },
  {
   "cell_type": "code",
   "execution_count": 5,
   "metadata": {},
   "outputs": [
    {
     "name": "stdout",
     "output_type": "stream",
     "text": [
      "inputs: ('{\"type\": \"InitToken\", \"location\": 0}',)\n",
      "reference_inputs: ()\n",
      "POST http://127.0.0.1:5000/api/1.0/transaction/process HTTP/1.1\n",
      "{\"transaction\": {\"inputIDs\": [\"0_8ad4195eb49df7cd8031efb7b6d1ff6459b9463351f7aff9238f4dc019dcda8d\"], \"methodID\": \"create_surge_client\", \"parameters\": [\"c7220292cd02c9bd03b0c8b768a83e6227de2db01123a368232261c7fc7e54be23971956c6\", \"92c71d002b2deca7127444e8fce2df7af1e898162ca41038d59f0c390415b092c7c71d002bedae8b934fe657a5e86e00efbe5c2b74e4f8e747609c3e3eb0384259\"], \"outputs\": [\"{\\\"type\\\": \\\"SurgeClient\\\", \\\"location\\\": 0, \\\"pub\\\": \\\"c7220292cd02c9bd03b0c8b768a83e6227de2db01123a368232261c7fc7e54be23971956c6\\\"}\", \"{\\\"type\\\": \\\"VoteSlipToken\\\", \\\"location\\\": 0, \\\"pub\\\": \\\"c7220292cd02c9bd03b0c8b768a83e6227de2db01123a368232261c7fc7e54be23971956c6\\\"}\", \"{\\\"type\\\": \\\"EBToken\\\", \\\"location\\\": 0, \\\"pub\\\": \\\"c7220292cd02c9bd03b0c8b768a83e6227de2db01123a368232261c7fc7e54be23971956c6\\\"}\"], \"returns\": [], \"dependencies\": [], \"referenceInputIDs\": [], \"contractID\": \"surge\"}, \"store\": {\"0_8ad4195eb49df7cd8031efb7b6d1ff6459b9463351f7aff9238f4dc019dcda8d\": \"{\\\"type\\\": \\\"InitToken\\\", \\\"location\\\": 0}\"}}\n",
      "HTTP/1.1 200 OK\n",
      "{u'outcome': u'accepted_t_commit', u'success': u'True'}\n"
     ]
    },
    {
     "data": {
      "text/plain": [
       "<Response [200]>"
      ]
     },
     "execution_count": 5,
     "metadata": {},
     "output_type": "execute_result"
    }
   ],
   "source": [
    "create_surge_client_txn = surge.create_surge_client(\n",
    "    (init_s0_token2,),\n",
    "    None,\n",
    "    (pack(provider_pub2),),\n",
    "    pack(provider_priv2),\n",
    ")\n",
    "vote_slip2 = create_surge_client_txn['transaction']['outputs'][1]\n",
    "surge_client2 = create_surge_client_txn['transaction']['outputs'][0]\n",
    "client1.process_transaction(create_surge_client_txn)"
   ]
  },
  {
   "cell_type": "code",
   "execution_count": 6,
   "metadata": {},
   "outputs": [
    {
     "name": "stdout",
     "output_type": "stream",
     "text": [
      "inputs: ('{\"type\": \"VoteSlipToken\", \"location\": 0, \"pub\": \"c7220292cd02c9bd03763b083f72561d53d4b98acc88f0c3b61e4c39bf91340531ea3307a1\"}',)\n",
      "reference_inputs: ()\n",
      "POST http://127.0.0.1:5000/api/1.0/transaction/process HTTP/1.1\n",
      "{\"transaction\": {\"inputIDs\": [\"0_ea86b2250b17f38e29a94f587f373dcb9389d0520f791bc230de710d2e653d2f\"], \"methodID\": \"cast_srep_vote\", \"parameters\": [\"92c71d002b652acaf62bc90b1c862db17a7bf3af80f961d571b9e6ab3b0189a102c71d002b2eee98e9b04f97111f580a9cf1734624ff1d3b6de87f3e996317d57b\"], \"outputs\": [\"{\\\"granted_to\\\": \\\"c7220292cd02c9bd03a5a98de414d386b3a5ac2170db7eb0aef3001c87fc12ebd643f8f69b\\\", \\\"type\\\": \\\"SREPVoteToken\\\", \\\"granted_by\\\": \\\"c7220292cd02c9bd03763b083f72561d53d4b98acc88f0c3b61e4c39bf91340531ea3307a1\\\", \\\"location\\\": 0}\", \"{\\\"type\\\": \\\"VoteSlipToken\\\", \\\"location\\\": 0, \\\"pub\\\": \\\"c7220292cd02c9bd03763b083f72561d53d4b98acc88f0c3b61e4c39bf91340531ea3307a1\\\"}\"], \"returns\": [], \"dependencies\": [], \"referenceInputIDs\": [], \"contractID\": \"surge\"}, \"store\": {\"0_ea86b2250b17f38e29a94f587f373dcb9389d0520f791bc230de710d2e653d2f\": \"{\\\"type\\\": \\\"VoteSlipToken\\\", \\\"location\\\": 0, \\\"pub\\\": \\\"c7220292cd02c9bd03763b083f72561d53d4b98acc88f0c3b61e4c39bf91340531ea3307a1\\\"}\"}}\n",
      "HTTP/1.1 200 OK\n",
      "{u'outcome': u'accepted_t_commit', u'success': u'True'}\n"
     ]
    },
    {
     "data": {
      "text/plain": [
       "<Response [200]>"
      ]
     },
     "execution_count": 6,
     "metadata": {},
     "output_type": "execute_result"
    }
   ],
   "source": [
    "cast_srep_vote_txn = surge.cast_srep_vote(\n",
    "    (vote_slip1,),\n",
    "    None,\n",
    "    None,\n",
    "    pack(provider_priv1),\n",
    "    pack(provider_pub3),\n",
    ")\n",
    "vote_token1 = cast_srep_vote_txn['transaction']['outputs'][0]\n",
    "vote_slip1 = cast_srep_vote_txn['transaction']['outputs'][1]\n",
    "client1.process_transaction(cast_srep_vote_txn)\n"
   ]
  },
  {
   "cell_type": "code",
   "execution_count": 7,
   "metadata": {},
   "outputs": [
    {
     "name": "stdout",
     "output_type": "stream",
     "text": [
      "inputs: ('{\"type\": \"VoteSlipToken\", \"location\": 0, \"pub\": \"c7220292cd02c9bd03b0c8b768a83e6227de2db01123a368232261c7fc7e54be23971956c6\"}',)\n",
      "reference_inputs: ()\n",
      "POST http://127.0.0.1:5000/api/1.0/transaction/process HTTP/1.1\n",
      "{\"transaction\": {\"inputIDs\": [\"0_6037c5169a09131db0f10bf5bc018ab8ea6f52f73e48df7251a6f01a5edc3100\"], \"methodID\": \"cast_srep_vote\", \"parameters\": [\"92c71d002bc9bd4c2a5d8283ad629a712ebf94d5c2b3a47676f15b3fe304d9d328c71d002b5d2f321bd4cd5a656605c56c8f64e1d2e5ba95ff72a7d186ba4fa119\"], \"outputs\": [\"{\\\"granted_to\\\": \\\"c7220292cd02c9bd03a5a98de414d386b3a5ac2170db7eb0aef3001c87fc12ebd643f8f69b\\\", \\\"type\\\": \\\"SREPVoteToken\\\", \\\"granted_by\\\": \\\"c7220292cd02c9bd03b0c8b768a83e6227de2db01123a368232261c7fc7e54be23971956c6\\\", \\\"location\\\": 0}\", \"{\\\"type\\\": \\\"VoteSlipToken\\\", \\\"location\\\": 0, \\\"pub\\\": \\\"c7220292cd02c9bd03b0c8b768a83e6227de2db01123a368232261c7fc7e54be23971956c6\\\"}\"], \"returns\": [], \"dependencies\": [], \"referenceInputIDs\": [], \"contractID\": \"surge\"}, \"store\": {\"0_6037c5169a09131db0f10bf5bc018ab8ea6f52f73e48df7251a6f01a5edc3100\": \"{\\\"type\\\": \\\"VoteSlipToken\\\", \\\"location\\\": 0, \\\"pub\\\": \\\"c7220292cd02c9bd03b0c8b768a83e6227de2db01123a368232261c7fc7e54be23971956c6\\\"}\"}}\n",
      "HTTP/1.1 200 OK\n",
      "{u'outcome': u'accepted_t_commit', u'success': u'True'}\n"
     ]
    },
    {
     "data": {
      "text/plain": [
       "<Response [200]>"
      ]
     },
     "execution_count": 7,
     "metadata": {},
     "output_type": "execute_result"
    }
   ],
   "source": [
    "cast_srep_vote_txn = surge.cast_srep_vote(\n",
    "    (vote_slip2,),\n",
    "    None,\n",
    "    None,\n",
    "    pack(provider_priv2),\n",
    "    pack(provider_pub3),\n",
    ")\n",
    "vote_token2 = cast_srep_vote_txn['transaction']['outputs'][0]\n",
    "vote_slip2 = cast_srep_vote_txn['transaction']['outputs'][1]\n",
    "client1.process_transaction(cast_srep_vote_txn)\n"
   ]
  },
  {
   "cell_type": "code",
   "execution_count": 8,
   "metadata": {},
   "outputs": [
    {
     "name": "stdout",
     "output_type": "stream",
     "text": [
      "inputs: ('{\"granted_to\": \"c7220292cd02c9bd03a5a98de414d386b3a5ac2170db7eb0aef3001c87fc12ebd643f8f69b\", \"type\": \"SREPVoteToken\", \"granted_by\": \"c7220292cd02c9bd03763b083f72561d53d4b98acc88f0c3b61e4c39bf91340531ea3307a1\", \"location\": 0}', '{\"granted_to\": \"c7220292cd02c9bd03a5a98de414d386b3a5ac2170db7eb0aef3001c87fc12ebd643f8f69b\", \"type\": \"SREPVoteToken\", \"granted_by\": \"c7220292cd02c9bd03b0c8b768a83e6227de2db01123a368232261c7fc7e54be23971956c6\", \"location\": 0}')\n",
      "reference_inputs: ()\n",
      "POST http://127.0.0.1:5000/api/1.0/transaction/process HTTP/1.1\n",
      "{\"transaction\": {\"inputIDs\": [\"0_2dd6104112ee5ee89dd1d830ec5be2ca5ed0979651f55df1c9633301d90045c2\", \"0_9be5674229083532faad05c61ea48f2f0416179571b3f285a2ee84f951eef9cf\"], \"methodID\": \"create_srep_client\", \"parameters\": [\"c7220292cd02c9bd03a5a98de414d386b3a5ac2170db7eb0aef3001c87fc12ebd643f8f69b\", \"92c71d002bd5b57d470915161659dba80b8de703cf337a5859e4def2aebb17b8b8c71d002ba0d4a5e777ab633c5465e535ee34a98da67e235a671467c81fddf2a8\"], \"outputs\": [\"{\\\"type\\\": \\\"SREPClient\\\", \\\"location\\\": 0, \\\"pub\\\": \\\"c7220292cd02c9bd03a5a98de414d386b3a5ac2170db7eb0aef3001c87fc12ebd643f8f69b\\\"}\", \"{\\\"type\\\": \\\"VoteSlipToken\\\", \\\"location\\\": 0, \\\"pub\\\": \\\"c7220292cd02c9bd03a5a98de414d386b3a5ac2170db7eb0aef3001c87fc12ebd643f8f69b\\\"}\"], \"returns\": [], \"dependencies\": [], \"referenceInputIDs\": [], \"contractID\": \"surge\"}, \"store\": {\"0_2dd6104112ee5ee89dd1d830ec5be2ca5ed0979651f55df1c9633301d90045c2\": \"{\\\"granted_to\\\": \\\"c7220292cd02c9bd03a5a98de414d386b3a5ac2170db7eb0aef3001c87fc12ebd643f8f69b\\\", \\\"type\\\": \\\"SREPVoteToken\\\", \\\"granted_by\\\": \\\"c7220292cd02c9bd03763b083f72561d53d4b98acc88f0c3b61e4c39bf91340531ea3307a1\\\", \\\"location\\\": 0}\", \"0_9be5674229083532faad05c61ea48f2f0416179571b3f285a2ee84f951eef9cf\": \"{\\\"granted_to\\\": \\\"c7220292cd02c9bd03a5a98de414d386b3a5ac2170db7eb0aef3001c87fc12ebd643f8f69b\\\", \\\"type\\\": \\\"SREPVoteToken\\\", \\\"granted_by\\\": \\\"c7220292cd02c9bd03b0c8b768a83e6227de2db01123a368232261c7fc7e54be23971956c6\\\", \\\"location\\\": 0}\"}}\n",
      "HTTP/1.1 200 OK\n",
      "{u'outcome': u'accepted_t_commit', u'success': u'True'}\n"
     ]
    },
    {
     "data": {
      "text/plain": [
       "<Response [200]>"
      ]
     },
     "execution_count": 8,
     "metadata": {},
     "output_type": "execute_result"
    }
   ],
   "source": [
    "create_srep_client_txn = surge.create_srep_client(\n",
    "    (vote_token1, vote_token2,),\n",
    "    None,\n",
    "    (pack(provider_pub3),),\n",
    "    pack(provider_priv3),\n",
    ")\n",
    "vote_slip3 = create_srep_client_txn['transaction']['outputs'][1]\n",
    "srep_client = create_srep_client_txn['transaction']['outputs'][0]\n",
    "client1.process_transaction(create_srep_client_txn)\n"
   ]
  },
  {
   "cell_type": "code",
   "execution_count": null,
   "metadata": {},
   "outputs": [],
   "source": []
  }
 ],
 "metadata": {
  "kernelspec": {
   "display_name": ".surge",
   "language": "python",
   "name": ".surge"
  },
  "language_info": {
   "codemirror_mode": {
    "name": "ipython",
    "version": 2
   },
   "file_extension": ".py",
   "mimetype": "text/x-python",
   "name": "python",
   "nbconvert_exporter": "python",
   "pygments_lexer": "ipython2",
   "version": "2.7.12"
  }
 },
 "nbformat": 4,
 "nbformat_minor": 2
}
